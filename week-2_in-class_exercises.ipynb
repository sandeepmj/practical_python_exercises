{
 "cells": [
  {
   "cell_type": "markdown",
   "metadata": {},
   "source": [
    "# Week 2 - Flow Control and Error Handling"
   ]
  },
  {
   "cell_type": "markdown",
   "metadata": {},
   "source": [
    "## The following play critical roles:  \n",
    "\n",
    "### 1. Indentation - running blocks of code.\n",
    "\n",
    "### 2. Time Delays - pacing the speed of our code.\n",
    "\n",
    "### 3. For Loops - iterating through data.\n",
    "\n",
    "### 4. Conditional Statements - adding logic to our statements.\n",
    "\n",
    "### 5. Error Handling - getting around problems our code may encounter.\n",
    "\n"
   ]
  },
  {
   "cell_type": "markdown",
   "metadata": {},
   "source": [
    "## 1. Indentation"
   ]
  },
  {
   "cell_type": "markdown",
   "metadata": {},
   "source": [
    "### Basic Flow Example: A Counter"
   ]
  },
  {
   "cell_type": "code",
   "execution_count": null,
   "metadata": {},
   "outputs": [],
   "source": [
    "## Using a While loop build a counter that counts from 1 to 5.\n",
    "## Print the counter numbers in statement that reads \"The count is\" whatever the count is.\n",
    "## Once it reaches 5, it should print \"Done counting to 5!\"\n",
    "\n",
    "counter = 1\n",
    "while counter < 6:\n",
    "    print(f\"The count is {counter}\")\n",
    "    counter += 1\n",
    "print(\"Done counting to 5!\")\n"
   ]
  },
  {
   "cell_type": "markdown",
   "metadata": {},
   "source": [
    "### You just controlled flow using indentation and a while loop."
   ]
  },
  {
   "cell_type": "markdown",
   "metadata": {},
   "source": [
    "## How fast does our code run?"
   ]
  },
  {
   "cell_type": "code",
   "execution_count": 4,
   "metadata": {},
   "outputs": [
    {
     "name": "stdout",
     "output_type": "stream",
     "text": [
      "Run 1: This process ran at 2020-02-13 09:45:58.292535\n",
      "Run 2: This process ran at 2020-02-13 09:45:58.292744\n",
      "Run 3: This process ran at 2020-02-13 09:45:58.292810\n",
      "Run 4: This process ran at 2020-02-13 09:45:58.292854\n",
      "Run 5: This process ran at 2020-02-13 09:45:58.292885\n",
      "DONE PRINTING\n"
     ]
    }
   ],
   "source": [
    "import datetime # a package that helps us track time and dates\n",
    "\n",
    "counter = 1\n",
    "while counter < 6:\n",
    "    current = datetime.datetime.now()# tells us the exact current date & time\n",
    "    print(f\"Run {counter}: This process ran at {current}\")\n",
    "    counter += 1\n",
    "    \n",
    "print(\"DONE PRINTING\")\n",
    "\n"
   ]
  },
  {
   "cell_type": "markdown",
   "metadata": {},
   "source": [
    "## 2. Time Delays\n",
    "\n",
    "**Delay timers** are critical when scraping data from websites for several reasons. The **two** most important reasons are:\n",
    "\n",
    "1. Sometimes your scraper clicks on links and must wait for the content to actually populated on the new page. Your script is likely to run faster than a page can load.\n",
    "\n",
    "\n",
    "2. You don't want your scraper to be mistaken for a hostile attack on a server. You have to slow down the scrapes."
   ]
  },
  {
   "cell_type": "markdown",
   "metadata": {},
   "source": [
    "### Step 1 - Import required libraries"
   ]
  },
  {
   "cell_type": "code",
   "execution_count": null,
   "metadata": {},
   "outputs": [],
   "source": [
    "import time # time is required. we will use its sleep function\n",
    "# import datetime ## we already imported this earlier, but you'd need it if starting fresh"
   ]
  },
  {
   "cell_type": "markdown",
   "metadata": {},
   "source": [
    "#### Let's add a 5-second delay:"
   ]
  },
  {
   "cell_type": "code",
   "execution_count": null,
   "metadata": {
    "scrolled": false
   },
   "outputs": [],
   "source": [
    "counter = 0\n",
    "\n",
    "while counter < 6:\n",
    "    current = datetime.datetime.now()\n",
    "    print(f\"Run {counter}: This process ran at {current}\")\n",
    "    time.sleep(5)\n",
    "    counter += 1\n",
    "print(\"DONE PRINTING\")"
   ]
  },
  {
   "cell_type": "markdown",
   "metadata": {},
   "source": [
    "### Randomize\n",
    "\n",
    "Software that tracks traffic to a server might grow suspicious about a hit every nth seconds.\n",
    "\n",
    "Let's **randomize** the time between hits by using \"**randrange**\" from the \"**random**\" library:"
   ]
  },
  {
   "cell_type": "code",
   "execution_count": null,
   "metadata": {},
   "outputs": [],
   "source": [
    "from random import randrange # import renecessary library\n",
    "print(randrange(10,60))"
   ]
  },
  {
   "cell_type": "code",
   "execution_count": null,
   "metadata": {},
   "outputs": [],
   "source": [
    "from random import randrange # import necessary library\n",
    "counter = 1\n",
    "\n",
    "while counter < 6:\n",
    "    delay = randrange(4,10)\n",
    "    time.sleep(delay)\n",
    "    current = datetime.datetime.now()\n",
    "    print(f\"Run {counter}: This process was delayed for {delay} seconds and ran at {current}\")\n",
    "    counter += 1\n",
    "print(\"DONE PRINTING\")"
   ]
  },
  {
   "cell_type": "code",
   "execution_count": null,
   "metadata": {},
   "outputs": [],
   "source": [
    "from random import randrange # import necessary library\n",
    "counter = 1\n",
    "\n",
    "while counter < 6:\n",
    "    current = datetime.datetime.now()\n",
    "    print(f\"Run {counter}: This process ran at {current}\")\n",
    "    time.sleep(randrange(4,10))\n",
    "    counter += 1\n",
    "print(\"DONE PRINTING\")"
   ]
  },
  {
   "cell_type": "markdown",
   "metadata": {},
   "source": [
    "## 3. For Loops\n",
    "\n",
    "### For Loops are your best friend - most used Python expression for journalists:\n",
    "\n",
    "### Iterate over:\n",
    "* data stored in a list and run some calculation on each value;\n",
    "* a list of URLs and visit each site to scrape data;\n",
    "* data stored in dictionary keys and values and return what you are looking for;\n"
   ]
  },
  {
   "cell_type": "markdown",
   "metadata": {},
   "source": [
    "Let's take **For Loops** for test drive:"
   ]
  },
  {
   "cell_type": "code",
   "execution_count": null,
   "metadata": {},
   "outputs": [],
   "source": [
    "## Use this list of CEO salaries from 1985 \n",
    "ceo_salaries_1985 = [150_000, 201_000, 110_000, 75_000, 92_000, 55_000]"
   ]
  },
  {
   "cell_type": "code",
   "execution_count": null,
   "metadata": {},
   "outputs": [],
   "source": [
    "## Print each salary with in the following format:\n",
    "## \"A CEO earned [some value] in 1985.\"\n",
    "for salary in ceo_salaries_1985:\n",
    "    print(f\"A CEO earned ${salary:,} in 1985\")"
   ]
  },
  {
   "cell_type": "code",
   "execution_count": null,
   "metadata": {},
   "outputs": [],
   "source": [
    "## Now update each salary to 2019 dollars.\n",
    "## Print the following info:\n",
    "## \"A CEO's salary of [1985 salary] in 1985 is worth [updated salary] in 2019 dollars.\"\n",
    "## The CPI for 1985 is 107.6\n",
    "## The 2019 CPI is 255.657\n",
    "## The formula is: updated_salary = (oldSalary/oldCPI) * currentCPI\n",
    "for salary in ceo_salaries_1985:\n",
    "    updated_salary = (salary/107.6)*255.657\n",
    "    print(f\"A CEO's salary of ${salary:,} in 1985 is worth ${updated_salary:,.0f} in 2019 dollars.\")"
   ]
  },
  {
   "cell_type": "markdown",
   "metadata": {},
   "source": [
    "## For Loops within For Loops\n",
    "## For Loops through Dictionaries"
   ]
  },
  {
   "cell_type": "code",
   "execution_count": null,
   "metadata": {},
   "outputs": [],
   "source": [
    "## You have a list of CEO salaries from 1969.\n",
    "sals_1969 = [47_000, 65_000, 39_000, 96_000]"
   ]
  },
  {
   "cell_type": "code",
   "execution_count": null,
   "metadata": {},
   "outputs": [],
   "source": [
    "## We need the value of these salaries updated for every decade till 2019\n",
    "## Here are the CPIs for each decade in list of dictionaries from 1969 to 2019.\n",
    "\n",
    "decades_cpi = [\n",
    "   {\"year\": 1979, \"cpi\": 72.6,},\n",
    "    {\"year\": 1989, \"cpi\": 124}, \n",
    "    {\"year\": 1999, \"cpi\": 166.6},\n",
    "    {\"year\": 2009, \"cpi\": 214.537},\n",
    "    {\"year\": 2019, \"cpi\": 255.657}\n",
    "              ]\n",
    "\n",
    "## Show the contents of this list of dictionaries\n",
    "decades_cpi"
   ]
  },
  {
   "cell_type": "code",
   "execution_count": null,
   "metadata": {},
   "outputs": [],
   "source": [
    "## What datatype is decades_cpi\n",
    "type(decades_cpi)\n"
   ]
  },
  {
   "cell_type": "code",
   "execution_count": null,
   "metadata": {},
   "outputs": [],
   "source": [
    "## Check what type of data each list item is within decades_cpi\n",
    "\n",
    "for item in decades_cpi:\n",
    "#     print(item)\n",
    "    print(type(item))"
   ]
  },
  {
   "cell_type": "code",
   "execution_count": null,
   "metadata": {},
   "outputs": [],
   "source": [
    "## Print out each value in this format:\n",
    "## \"key --> value\"\n",
    "for period in decades_cpi:\n",
    "    for key, value in period.items():\n",
    "        print(f\"{key} --> {value}\")"
   ]
  },
  {
   "cell_type": "markdown",
   "metadata": {},
   "source": [
    "### The key alternates between the strings \"year\" and \"cpi\" in this loop.\n",
    "\n",
    "### How do we actually target the values for \"year\" and \"cpi\" and place them in our calculations?"
   ]
  },
  {
   "cell_type": "code",
   "execution_count": null,
   "metadata": {},
   "outputs": [],
   "source": [
    "for period in decades_cpi:\n",
    "#     print(type(period))\n",
    "#     print(period)\n",
    "    that_year = period.get(\"year\")\n",
    "    old_cpi = period.get(\"cpi\")\n",
    "    print(f\"{that_year} -----> {old_cpi}\")\n",
    "    \n",
    "    \n"
   ]
  },
  {
   "cell_type": "markdown",
   "metadata": {},
   "source": [
    "## We can now add these variables into our calculations:"
   ]
  },
  {
   "cell_type": "code",
   "execution_count": null,
   "metadata": {},
   "outputs": [],
   "source": [
    "## Loop through each salary and update its value for each decade\n",
    "CPI_1969 = 36.7\n",
    "for sal in sals_1969:\n",
    "    for period in decades_cpi:\n",
    "        cpi = period.get(\"cpi\")\n",
    "        that_year = period.get(\"year\")\n",
    "        updated_sal = (sal/CPI_1969) * cpi\n",
    "        print(f\"A salary of ${sal:,} in 1969 is worth ${updated_sal:,.0f} in {that_year}\")\n",
    "    print(\"*********************************************************\")"
   ]
  },
  {
   "cell_type": "code",
   "execution_count": 29,
   "metadata": {},
   "outputs": [
    {
     "name": "stdout",
     "output_type": "stream",
     "text": [
      "The last number (42) is positive while the second to last number(43) is positive\n"
     ]
    }
   ],
   "source": [
    "if numbers1[-2] > 0:\n",
    "    almost_last_status = \"positive\"\n",
    "    \n",
    "else: almost_last_status = \"negative\"\n",
    "        \n",
    "if numbers1[-1] > 0:\n",
    "    last_status = \"positive\"\n",
    "else: last_status = \"negative\"\n",
    "        \n",
    "print(f\"The last number ({numbers1[-1]}) is {last_status} while the second to last number({numbers1[-2]}) is {almost_last_status}\")"
   ]
  },
  {
   "cell_type": "markdown",
   "metadata": {},
   "source": [
    "## 4. Conditional Statements"
   ]
  },
  {
   "cell_type": "code",
   "execution_count": 1,
   "metadata": {},
   "outputs": [
    {
     "data": {
      "text/plain": [
       "[39, -52, -58, 57, 54, -32, 15, 8, 69, -90]"
      ]
     },
     "execution_count": 1,
     "metadata": {},
     "output_type": "execute_result"
    }
   ],
   "source": [
    "## create a list of 10 random numbers anywhere from -100 to 100 \n",
    "##name the list numbers\n",
    "import random\n",
    "numbers = random.sample(range(-100, 100), 10)\n",
    "numbers"
   ]
  },
  {
   "cell_type": "code",
   "execution_count": 3,
   "metadata": {},
   "outputs": [
    {
     "name": "stdout",
     "output_type": "stream",
     "text": [
      "The last number (-90) is negative while the second to last number(69) is positive\n"
     ]
    }
   ],
   "source": [
    "## create conditional statements that tell us if the last number and the penultimate number\n",
    "## are positive or negative\n",
    "## print a sentence that reads:\n",
    "## \"The last number [what is it?] is [positive or negative] while \n",
    "## the penultimate number [what is it?] is [negative or positive].\"\n",
    "if numbers[-2] > 0:\n",
    "    almost_last_status = \"positive\"\n",
    "    \n",
    "else: almost_last_status = \"negative\"\n",
    "        \n",
    "if numbers[-1] > 0:\n",
    "    last_status = \"positive\"\n",
    "else: last_status = \"negative\"\n",
    "        \n",
    "print(f\"The last number ({numbers[-1]}) is {last_status} while \\\n",
    "the second to last number({numbers[-2]}) is {almost_last_status}\")"
   ]
  },
  {
   "cell_type": "markdown",
   "metadata": {},
   "source": [
    "<img src=\"support_files/scraped-etf.PNG\" style=\"width: 50%;\">\n",
    "\n",
    "To produce the chart above, we had to scrape the numbers from text published in articles. The numbers, however, were in string format with words like \"million\", \"billion\" and \"trillion\" describing their magnitude:\n",
    "\n",
    "<img src=\"support_files/magnitude.png\" style=\"width: 100%;\">\n",
    "\n",
    "In order to run calculations on them, we had to convert them to floating point numbers.\n",
    "\n",
    "Take the excerpt list below called big_numbers and convert each item in the list to a floating point number. You will have to use basic math and conditional statements."
   ]
  },
  {
   "cell_type": "code",
   "execution_count": null,
   "metadata": {},
   "outputs": [],
   "source": [
    "big_numbers = [\n",
    "    \"130.4 million\", \n",
    "    \"67.2 million\", \n",
    "    \"125.4 million\", \n",
    "    \"5.04 million\", \n",
    "    \"1.3 billion\", \n",
    "    \"2.2 trillion\", \n",
    "    \"7.2 million\", \n",
    "    \"3.1 billion\"\n",
    "]\n",
    "big_numbers"
   ]
  },
  {
   "cell_type": "code",
   "execution_count": null,
   "metadata": {},
   "outputs": [],
   "source": [
    "for each_number in big_numbers:\n",
    "    items = each_number.split()\n",
    "    print(items)\n",
    "    if items[1] == \"million\":\n",
    "        number = float(items[0]) * 1_000_000\n",
    "        print(number)\n",
    "        \n",
    "    elif items[1] == \"billion\":\n",
    "            number = float(items[0]) * 1_000_000_000\n",
    "            print(number)\n",
    "    elif items[1] == \"trillion\":\n",
    "            number = float(items[0]) * 1E12\n",
    "            print(number)\n",
    "    else:\n",
    "        print(\"not million, billions or trillions\")\n",
    "    "
   ]
  },
  {
   "cell_type": "markdown",
   "metadata": {},
   "source": [
    "### The scraped text actually included the dollar sign along with the number. We'll have to remove the dollar sign to successfully run calculations on the numbers."
   ]
  },
  {
   "cell_type": "code",
   "execution_count": null,
   "metadata": {},
   "outputs": [],
   "source": [
    "dollar_numbers = [\n",
    "    \"$130.4 million\", \n",
    "    \"$67.2 million\", \n",
    "    \"$125.4 million\", \n",
    "    \"$5.04 million\", \n",
    "    \"$1.3 billion\", \n",
    "    \"$2.2 trillion\", \n",
    "    \"$7.2 million\", \n",
    "    \"$3.1 billion\"\n",
    "]\n",
    "dollar_numbers"
   ]
  },
  {
   "cell_type": "code",
   "execution_count": null,
   "metadata": {},
   "outputs": [],
   "source": [
    "for each_number in dollar_numbers:\n",
    "    items = each_number.split()\n",
    "    amount = (items[0].replace('$', ''))\n",
    "    if items[1] == \"million\":\n",
    "        number = float(amount) * 1_000_000\n",
    "        print(f'{number:,.0f}')   \n",
    "    elif items[1] == \"billion\":\n",
    "            number = float(amount) * 1_000_000_000\n",
    "            print(f'{number:,.0f}')\n",
    "    elif items[1] == \"trillion\":\n",
    "            number = float(amount) * 1E12\n",
    "            print(f'{number:,.0f}')\n",
    "    else:\n",
    "        print(\"not million, billions or trillions\")"
   ]
  },
  {
   "cell_type": "markdown",
   "metadata": {},
   "source": [
    "# DRY\n",
    "\n",
    "### Coding Ethos\n",
    "\n",
    "### \"Don't Repeat Yourself!\""
   ]
  },
  {
   "cell_type": "code",
   "execution_count": null,
   "metadata": {},
   "outputs": [],
   "source": [
    "dollar_numbers = [\"$130.4 million\", \"$67.2 million\", \"$125.4 million\", \"$5.04 million\", \"$1.3 billion\", \"$2.2 trillion\", \"$7.2 million\", \"$3.1 billion\"]\n",
    "dollar_numbers"
   ]
  },
  {
   "cell_type": "code",
   "execution_count": null,
   "metadata": {},
   "outputs": [],
   "source": [
    "## Let's make the code a little DRYer.\n",
    "## You already have the skills!\n",
    "for num in dollar_numbers:\n",
    "    sring_numbers = num.split()\n",
    "    amount = float(sring_numbers[0].replace('$', ''))\n",
    "    if sring_numbers[1] == \"million\":\n",
    "        number = amount * 1_000_000            \n",
    "    elif sring_numbers[1] == \"billion\":\n",
    "            number = amount * 1_000_000_000        \n",
    "    elif sring_numbers[1] == \"trillion\":\n",
    "            number = amount * 1E12                    \n",
    "    else:\n",
    "        print(\"not million, billions or trillions\")   \n",
    "    print(f'${number:,.0f}')"
   ]
  },
  {
   "cell_type": "markdown",
   "metadata": {},
   "source": [
    "### The previous examples result only in printed numbers -- not numbers stored in memory.\n",
    "\n"
   ]
  },
  {
   "cell_type": "code",
   "execution_count": null,
   "metadata": {},
   "outputs": [],
   "source": [
    "## Let's tweak the code to store the floating point numbers in a list.\n",
    "updated_numbers = [] # list that will hold updated numbers\n",
    "for each_number in dollar_numbers:\n",
    "    sring_numbers = each_number.split()\n",
    "    amount = float(sring_numbers[0].replace('$', ''))\n",
    "    if sring_numbers[1] == \"million\":\n",
    "        number = amount * 1_000_000            \n",
    "    elif sring_numbers[1] == \"billion\":\n",
    "            number = amount * 1_000_000_000        \n",
    "    elif sring_numbers[1] == \"trillion\":\n",
    "            number = amount * 1E12                    \n",
    "    else:\n",
    "        print(\"not million, billions or trillions\")        \n",
    "    updated_numbers.append(number)\n",
    "updated_numbers"
   ]
  },
  {
   "cell_type": "code",
   "execution_count": null,
   "metadata": {},
   "outputs": [],
   "source": [
    "## Confirm the numbers in the list are actually floats\n",
    "for value in updated_numbers:\n",
    "    print(type(value))"
   ]
  },
  {
   "cell_type": "markdown",
   "metadata": {},
   "source": [
    "## 5. Error Handling"
   ]
  },
  {
   "cell_type": "code",
   "execution_count": null,
   "metadata": {},
   "outputs": [],
   "source": [
    "## We have a list of numbers.\n",
    "## we want square each in our calculation \n",
    "mylist = [1, 2, 3, \"four\", 5]"
   ]
  },
  {
   "cell_type": "code",
   "execution_count": null,
   "metadata": {},
   "outputs": [],
   "source": [
    "for number in mylist:\n",
    "    print(number**2)"
   ]
  },
  {
   "cell_type": "code",
   "execution_count": null,
   "metadata": {},
   "outputs": [],
   "source": [
    "for number in mylist:\n",
    "    try:\n",
    "        print(number**2)\n",
    "    except:\n",
    "        print(f\"You can't square the string '{number}'\")\n",
    "    "
   ]
  },
  {
   "cell_type": "code",
   "execution_count": null,
   "metadata": {},
   "outputs": [],
   "source": [
    "for number in mylist:\n",
    "    try:\n",
    "        print(number**2)\n",
    "    except TypeError:\n",
    "        print(f\"You can't square the string {number}\")"
   ]
  },
  {
   "cell_type": "code",
   "execution_count": null,
   "metadata": {},
   "outputs": [],
   "source": [
    "updated_numbers = []\n",
    "for number in mylist:\n",
    "    try:\n",
    "        squared = number**2\n",
    "        updated_numbers.append(squared)\n",
    "    except:\n",
    "        print(f\"You can't square the string {number}\")\n",
    "        squared = \"Incomplete: \" + number\n",
    "        updated_numbers.append(squared)\n",
    "        \n",
    "print(updated_numbers)\n",
    "        \n",
    "    "
   ]
  },
  {
   "cell_type": "code",
   "execution_count": null,
   "metadata": {},
   "outputs": [],
   "source": [
    "moreNumbers = [1, 2, 3, \"four\", 5, \"six\", 7, 8, \"nine\"]"
   ]
  },
  {
   "cell_type": "code",
   "execution_count": null,
   "metadata": {},
   "outputs": [],
   "source": [
    "updated_numbers = []\n",
    "incomplete = []\n",
    "for number in moreNumbers:\n",
    "    try:\n",
    "        squared = number**2\n",
    "        updated_numbers.append(squared)\n",
    "    except:\n",
    "        print(f\"You can't square the string {number} - placed in list called 'incomplete'\")\n",
    "        squared = number\n",
    "        incomplete.append(squared)\n",
    "        \n",
    "print(f\"Updated list: {updated_numbers}\")\n",
    "print(f'Incomplete list: {incomplete}')"
   ]
  },
  {
   "cell_type": "code",
   "execution_count": null,
   "metadata": {},
   "outputs": [],
   "source": []
  }
 ],
 "metadata": {
  "kernelspec": {
   "display_name": "Python 3",
   "language": "python",
   "name": "python3"
  },
  "language_info": {
   "codemirror_mode": {
    "name": "ipython",
    "version": 3
   },
   "file_extension": ".py",
   "mimetype": "text/x-python",
   "name": "python",
   "nbconvert_exporter": "python",
   "pygments_lexer": "ipython3",
   "version": "3.7.4"
  }
 },
 "nbformat": 4,
 "nbformat_minor": 2
}
