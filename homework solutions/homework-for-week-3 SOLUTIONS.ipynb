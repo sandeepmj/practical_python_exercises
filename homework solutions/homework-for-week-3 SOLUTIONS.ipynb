{
 "cells": [
  {
   "cell_type": "markdown",
   "metadata": {},
   "source": [
    "# Homework for Week 3"
   ]
  },
  {
   "cell_type": "code",
   "execution_count": null,
   "metadata": {},
   "outputs": [],
   "source": [
    "## Build a counter that counts from 2 to 10, but only even numbers.\n",
    "## Print the counter numbers in statement that reads:\n",
    "## \"The even number is [whatever the even number is]\".\n",
    "## Once it reaches 10, it should print \"Done counting from 2 to 10 even numbers!\"\n",
    "\n",
    "counter = 0\n",
    "while counter < 10:\n",
    "    counter += 2\n",
    "    print(f\"The even number is {counter}\")\n",
    "print(f\"Done counting from 2 to 10 even numbers!\")"
   ]
  },
  {
   "cell_type": "code",
   "execution_count": null,
   "metadata": {},
   "outputs": [],
   "source": [
    "## Add a timer to the previous code so it runs every 3 to 15 seconds\n",
    "import time\n",
    "from random import randrange\n",
    "counter = 0\n",
    "while counter < 12:\n",
    "    counter += 2\n",
    "    print(f\"The even number is {counter}\")\n",
    "    delay = randrange(3,15)\n",
    "    time.sleep(delay)\n",
    "print(f\"Done counting from 2 to 10 even numbers!\")"
   ]
  },
  {
   "cell_type": "code",
   "execution_count": null,
   "metadata": {},
   "outputs": [],
   "source": [
    "## The USDA puts out a report on toxins that can be found in foods.\n",
    "## You have a list of toxins that you specifically want to search for.\n",
    "\n",
    "toxins = [\"Recombinant Bovine Growth Hormone\", \n",
    "          \"Butylated Hydroxyanisole\", \n",
    "          \"Sodium Aluminum Sulphate\",\n",
    "          \"Potassium Aluminum Sulphate\",\n",
    "          \"Sodium Nitrite\",\n",
    "          \"Polycyclic Aromatic Hydrocarbons\",\n",
    "          \"Dioxins\",\n",
    "          \"Heterocyclic Amines\",\n",
    "          \"Butylated Hydroxytoluene\"]\n",
    "\n",
    "## Show the list\n",
    "toxins"
   ]
  },
  {
   "cell_type": "code",
   "execution_count": null,
   "metadata": {},
   "outputs": [],
   "source": [
    "## You are checking for mentions of these toxins in a text report.\n",
    "## Since Python is case sensitive, you have lower-cased the entire report.\n",
    "## Lowercase the toxins list.\n",
    "\n",
    "for toxin in toxins:\n",
    "    print(toxin.lower())"
   ]
  },
  {
   "cell_type": "code",
   "execution_count": null,
   "metadata": {},
   "outputs": [],
   "source": [
    "## The toxins list was not actually lowercased. You only printed out the lowercased updates.\n",
    "## Check out the toxins list. Did it change?\n",
    "toxins"
   ]
  },
  {
   "cell_type": "markdown",
   "metadata": {},
   "source": [
    "## Challenge Question:"
   ]
  },
  {
   "cell_type": "code",
   "execution_count": null,
   "metadata": {},
   "outputs": [],
   "source": [
    "## Update your for loop to actually create a new list called updated_toxins\n",
    "\n",
    "updated_toxins = []\n",
    "\n",
    "for toxin in toxins:\n",
    "    updated_toxins.append(toxin.lower())\n"
   ]
  },
  {
   "cell_type": "code",
   "execution_count": null,
   "metadata": {},
   "outputs": [],
   "source": [
    "## Print the updated list:\n",
    "## Is it lowercased now?\n",
    "print(updated_toxins)"
   ]
  },
  {
   "cell_type": "code",
   "execution_count": null,
   "metadata": {},
   "outputs": [],
   "source": [
    "updated_toxins = [toxin.lower() for toxin in toxins]\n",
    "updated_toxins"
   ]
  },
  {
   "cell_type": "markdown",
   "metadata": {},
   "source": [
    "## Regular Question:"
   ]
  },
  {
   "cell_type": "code",
   "execution_count": null,
   "metadata": {},
   "outputs": [],
   "source": [
    "## You scrape some URLs and place them in a list called myURLS (provided below)\n",
    "myURLS = [\n",
    "    'great-unique-data-1.html',\n",
    "    'great-unique-data-2.html',\n",
    "    'great-unique-data-3.html',\n",
    "    'great-unique-data-4.html',\n",
    "    'great-unique-data-5.html',\n",
    "    'great-unique-data-6.html',\n",
    "    'great-unique-data-7.html',\n",
    "    'great-unique-data-8.html',\n",
    "    'great-unique-data-9.html',\n",
    "    'great-unique-data-10.html',\n",
    "    'great-unique-data-11.html',\n",
    "    'great-unique-data-12.html',\n",
    "    'great-unique-data-13.html',\n",
    "    'great-unique-data-14.html',\n",
    "    'great-unique-data-15.html'\n",
    "]\n",
    "## Print myURLS\n",
    "myURLS"
   ]
  },
  {
   "cell_type": "code",
   "execution_count": null,
   "metadata": {},
   "outputs": [],
   "source": [
    "## You realize that these URLs are missing the base of \"http://www.importantsite.com\"\n",
    "## Join the base URL to every partial URL in your list.\n",
    "## Print each joined item\n",
    "\n",
    "baseURL= \"http://www.importantsite.com\"\n",
    "for each_url in myURLS:\n",
    "    full_url = baseURL + each_url\n",
    "    print(full_url)\n",
    "    "
   ]
  },
  {
   "cell_type": "code",
   "execution_count": null,
   "metadata": {},
   "outputs": [],
   "source": [
    "## Your myURLs list didn't actually change. You only printed out the joined full URLS.\n",
    "## Check out myURLs. Did it change?\n",
    "myURLS"
   ]
  },
  {
   "cell_type": "markdown",
   "metadata": {},
   "source": [
    "## Second Challenge Question"
   ]
  },
  {
   "cell_type": "code",
   "execution_count": null,
   "metadata": {},
   "outputs": [],
   "source": [
    "## tweak your previous code to store the full url in a list called my_full_urls\n",
    "my_full_urls = []\n",
    "baseURL = \"http://www.importantsite.com\"\n",
    "for each_url in myURLS:\n",
    "    full_url = baseURL + each_url\n",
    "#     print(full_url)\n",
    "    my_full_urls.append(full_url)\n",
    "    "
   ]
  },
  {
   "cell_type": "code",
   "execution_count": null,
   "metadata": {},
   "outputs": [],
   "source": [
    "## Print out the updated list.\n",
    "## Did it updated?\n",
    "print(my_full_urls)"
   ]
  },
  {
   "cell_type": "markdown",
   "metadata": {},
   "source": [
    "## Using List Comprehension"
   ]
  },
  {
   "cell_type": "code",
   "execution_count": null,
   "metadata": {},
   "outputs": [],
   "source": [
    "baseURL= \"http://www.importantsite.com\"\n",
    "my_full_urls = [baseURL+each_url for each_url in myURLS]\n",
    "print(my_full_urls)"
   ]
  },
  {
   "cell_type": "code",
   "execution_count": null,
   "metadata": {},
   "outputs": [],
   "source": []
  }
 ],
 "metadata": {
  "kernelspec": {
   "display_name": "Python 3",
   "language": "python",
   "name": "python3"
  },
  "language_info": {
   "codemirror_mode": {
    "name": "ipython",
    "version": 3
   },
   "file_extension": ".py",
   "mimetype": "text/x-python",
   "name": "python",
   "nbconvert_exporter": "python",
   "pygments_lexer": "ipython3",
   "version": "3.7.4"
  }
 },
 "nbformat": 4,
 "nbformat_minor": 2
}
