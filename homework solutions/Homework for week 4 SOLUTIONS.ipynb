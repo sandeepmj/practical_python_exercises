{
 "cells": [
  {
   "cell_type": "markdown",
   "metadata": {},
   "source": [
    "## Weather in Asian Capital Cities\n",
    "\n",
    "#### Each column from the site below was scraped and placed into lists.\n",
    "<img src=\"site-scraped.png\" style=\"width: 100%;\">\n",
    "\n",
    "### The resulting lists:"
   ]
  },
  {
   "cell_type": "code",
   "execution_count": 3,
   "metadata": {},
   "outputs": [],
   "source": [
    "## (temps_f is the temperature in fahrenheits)\n",
    "asian_caps = ['Amman', 'Ankara', 'Ashgabat', 'Baghdad', 'Baku', 'Bandar Seri Begawan', 'Bangkok', 'Beijing', 'Beirut', 'Bishkek', 'Damascus', 'Doha', 'Dushanbe', 'Hanoi', 'Islamabad', 'Jakarta', 'Jerusalem', 'Kathmandu', 'Kuala Lumpur', 'Kuwait City', 'Muscat', 'New Delhi', 'Nicosia', 'North Nicosia', 'Nursultan', 'Phnom Penh', 'Pyongyang', 'Riyadh', 'Seoul', 'Singapore', 'Sri Jayawardenepura Kotte', 'Taipei', 'Tashkent', 'Tbilisi', 'Tehran', 'Thimphu', 'Tokyo', 'Ulaanbaatar', 'Vientiane', 'Yerevan']\n",
    "asian_countries = ['Jordan', 'Turkey', 'Turkmenistan', 'Iraq', 'Azerbaijan', 'Brunei', 'Thailand', 'China', 'Lebanon', 'Kyrgyzstan', 'Syria', 'Qatar', 'Tajikistan', 'Vietnam', 'Pakistan', 'Indonesia', 'Israel', 'Nepal', 'Malaysia', 'Kuwait', 'Oman', 'India', 'Cyprus', 'Cyprus', 'Kazakstan', 'Cambodia', 'North-Korea', 'Saudi-Arabia', 'South-Korea', 'Singapore', 'Sri-Lanka', 'Taiwan', 'Uzbekistan', 'Georgia', 'Iran', 'Bhutan', 'Japan', 'Mongolia', 'Laos', 'Armenia']\n",
    "times = ['Mon 9:00 pm', 'Mon 10:00 pm', 'Tue 12:00 midnight', 'Mon 10:00 pm', 'Mon 11:00 pm', 'Tue 3:00 am', 'Tue 2:00 am', 'Tue 3:00 am', 'Mon 9:00 pm', 'Tue 1:00 am', 'Mon 9:00 pm', 'Mon 10:00 pm', 'Tue 12:00 midnight', 'Tue 2:00 am', 'Tue 12:00 midnight', 'Tue 2:00 am', 'Mon 9:00 pm', 'Tue 12:45 am', 'Tue 3:00 am', 'Mon 10:00 pm', 'Mon 11:00 pm', 'Tue 12:30 am', 'Mon 9:00 pm', 'Mon 9:00 pm', 'Tue 1:00 am', 'Tue 2:00 am', 'Tue 4:00 am', 'Mon 10:00 pm', 'Tue 4:00 am', 'Tue 3:00 am', 'Tue 12:30 am', 'Tue 3:00 am', 'Tue 12:00 midnight', 'Mon 11:00 pm', 'Mon 10:30 pm', 'Tue 1:00 am', 'Tue 4:00 am', 'Tue 3:00 am', 'Tue 2:00 am', 'Mon 11:00 pm']\n",
    "temps_f = ['50', '37', '45', '54', '45', '81', '82', '35', '57', '30', '46', '68', '46', '61', '73', '79', '57', '52', '81', '68', '72', '58', '65', '65', '7', '79', '17', '73', '19', '81', '86', '52', '39', '40', '43', '27', '43', '-6', '70', '26']\n",
    "conditions = ['Clear. Cool.', 'Clear. Chilly.', 'Overcast. Quite cool.', 'Clear. Cool.', 'Clear. Quite cool.', 'Partly cloudy. Warm.', 'Fog. Warm.', 'Clear. Chilly.', 'Passing clouds. Cool.', 'Overcast. Chilly.', 'Clear. Cool.', 'Clear. Mild.', 'Overcast. Cool.', 'Passing clouds. Refreshingly cool.', 'Scattered clouds. Mild.', 'Overcast. Warm.', 'Clear. Cool.', 'Fog. Cool.', 'Passing clouds. Warm.', 'Clear. Mild.', 'Clear. Mild.', 'Clear. Cool.', 'Passing clouds. Mild.', 'Passing clouds. Mild.', 'Light snow. Mostly cloudy. Frigid.', 'Passing clouds. Warm.', 'Clear. Cold.', 'Clear. Mild.', 'Clear. Cold.', 'Passing clouds. Warm.', 'Passing clouds. Warm.', 'Passing clouds. Cool.', 'Sprinkles. Overcast. Chilly.', 'Overcast. Quite cool.', 'Passing clouds. Quite cool.', 'Passing clouds. Chilly.', 'Quite cool.', 'Clear. Frigid.', 'Fog. Mild.', 'Fog. Chilly.']"
   ]
  },
  {
   "cell_type": "code",
   "execution_count": 4,
   "metadata": {},
   "outputs": [
    {
     "name": "stdout",
     "output_type": "stream",
     "text": [
      "['Amman', 'Ankara', 'Ashgabat', 'Baghdad', 'Baku', 'Bandar Seri Begawan', 'Bangkok', 'Beijing', 'Beirut', 'Bishkek', 'Damascus', 'Doha', 'Dushanbe', 'Hanoi', 'Islamabad', 'Jakarta', 'Jerusalem', 'Kathmandu', 'Kuala Lumpur', 'Kuwait City', 'Muscat', 'New Delhi', 'Nicosia', 'North Nicosia', 'Nursultan', 'Phnom Penh', 'Pyongyang', 'Riyadh', 'Seoul', 'Singapore', 'Sri Jayawardenepura Kotte', 'Taipei', 'Tashkent', 'Tbilisi', 'Tehran', 'Thimphu', 'Tokyo', 'Ulaanbaatar', 'Vientiane', 'Yerevan']\n",
      "['Jordan', 'Turkey', 'Turkmenistan', 'Iraq', 'Azerbaijan', 'Brunei', 'Thailand', 'China', 'Lebanon', 'Kyrgyzstan', 'Syria', 'Qatar', 'Tajikistan', 'Vietnam', 'Pakistan', 'Indonesia', 'Israel', 'Nepal', 'Malaysia', 'Kuwait', 'Oman', 'India', 'Cyprus', 'Cyprus', 'Kazakstan', 'Cambodia', 'North-Korea', 'Saudi-Arabia', 'South-Korea', 'Singapore', 'Sri-Lanka', 'Taiwan', 'Uzbekistan', 'Georgia', 'Iran', 'Bhutan', 'Japan', 'Mongolia', 'Laos', 'Armenia']\n",
      "['Mon 9:00 pm', 'Mon 10:00 pm', 'Tue 12:00 midnight', 'Mon 10:00 pm', 'Mon 11:00 pm', 'Tue 3:00 am', 'Tue 2:00 am', 'Tue 3:00 am', 'Mon 9:00 pm', 'Tue 1:00 am', 'Mon 9:00 pm', 'Mon 10:00 pm', 'Tue 12:00 midnight', 'Tue 2:00 am', 'Tue 12:00 midnight', 'Tue 2:00 am', 'Mon 9:00 pm', 'Tue 12:45 am', 'Tue 3:00 am', 'Mon 10:00 pm', 'Mon 11:00 pm', 'Tue 12:30 am', 'Mon 9:00 pm', 'Mon 9:00 pm', 'Tue 1:00 am', 'Tue 2:00 am', 'Tue 4:00 am', 'Mon 10:00 pm', 'Tue 4:00 am', 'Tue 3:00 am', 'Tue 12:30 am', 'Tue 3:00 am', 'Tue 12:00 midnight', 'Mon 11:00 pm', 'Mon 10:30 pm', 'Tue 1:00 am', 'Tue 4:00 am', 'Tue 3:00 am', 'Tue 2:00 am', 'Mon 11:00 pm']\n",
      "['50', '37', '45', '54', '45', '81', '82', '35', '57', '30', '46', '68', '46', '61', '73', '79', '57', '52', '81', '68', '72', '58', '65', '65', '7', '79', '17', '73', '19', '81', '86', '52', '39', '40', '43', '27', '43', '-6', '70', '26']\n",
      "['Clear. Cool.', 'Clear. Chilly.', 'Overcast. Quite cool.', 'Clear. Cool.', 'Clear. Quite cool.', 'Partly cloudy. Warm.', 'Fog. Warm.', 'Clear. Chilly.', 'Passing clouds. Cool.', 'Overcast. Chilly.', 'Clear. Cool.', 'Clear. Mild.', 'Overcast. Cool.', 'Passing clouds. Refreshingly cool.', 'Scattered clouds. Mild.', 'Overcast. Warm.', 'Clear. Cool.', 'Fog. Cool.', 'Passing clouds. Warm.', 'Clear. Mild.', 'Clear. Mild.', 'Clear. Cool.', 'Passing clouds. Mild.', 'Passing clouds. Mild.', 'Light snow. Mostly cloudy. Frigid.', 'Passing clouds. Warm.', 'Clear. Cold.', 'Clear. Mild.', 'Clear. Cold.', 'Passing clouds. Warm.', 'Passing clouds. Warm.', 'Passing clouds. Cool.', 'Sprinkles. Overcast. Chilly.', 'Overcast. Quite cool.', 'Passing clouds. Quite cool.', 'Passing clouds. Chilly.', 'Quite cool.', 'Clear. Frigid.', 'Fog. Mild.', 'Fog. Chilly.']\n"
     ]
    }
   ],
   "source": [
    "## print out each list to see what you have\n",
    "print(asian_caps)\n",
    "print(asian_countries)\n",
    "print(times)\n",
    "print(temps_f)\n",
    "print(conditions)"
   ]
  },
  {
   "cell_type": "code",
   "execution_count": 5,
   "metadata": {},
   "outputs": [
    {
     "ename": "TypeError",
     "evalue": "unsupported operand type(s) for -: 'str' and 'int'",
     "output_type": "error",
     "traceback": [
      "\u001b[0;31m---------------------------------------------------------------------------\u001b[0m",
      "\u001b[0;31mTypeError\u001b[0m                                 Traceback (most recent call last)",
      "\u001b[0;32m<ipython-input-5-d6a921131204>\u001b[0m in \u001b[0;36m<module>\u001b[0;34m\u001b[0m\n\u001b[1;32m      4\u001b[0m \u001b[0mtemps_c\u001b[0m \u001b[0;34m=\u001b[0m \u001b[0;34m[\u001b[0m\u001b[0;34m]\u001b[0m\u001b[0;34m\u001b[0m\u001b[0;34m\u001b[0m\u001b[0m\n\u001b[1;32m      5\u001b[0m \u001b[0;32mfor\u001b[0m \u001b[0mtemp\u001b[0m \u001b[0;32min\u001b[0m \u001b[0mtemps_f\u001b[0m\u001b[0;34m:\u001b[0m\u001b[0;34m\u001b[0m\u001b[0;34m\u001b[0m\u001b[0m\n\u001b[0;32m----> 6\u001b[0;31m     \u001b[0mtemp_c\u001b[0m \u001b[0;34m=\u001b[0m \u001b[0mround\u001b[0m\u001b[0;34m(\u001b[0m\u001b[0;34m(\u001b[0m\u001b[0mtemp\u001b[0m\u001b[0;34m)\u001b[0m \u001b[0;34m-\u001b[0m \u001b[0;36m32\u001b[0m\u001b[0;34m)\u001b[0m \u001b[0;34m*\u001b[0m \u001b[0;34m(\u001b[0m\u001b[0;36m5\u001b[0m\u001b[0;34m/\u001b[0m\u001b[0;36m9\u001b[0m\u001b[0;34m)\u001b[0m\u001b[0;34m\u001b[0m\u001b[0;34m\u001b[0m\u001b[0m\n\u001b[0m\u001b[1;32m      7\u001b[0m \u001b[0;31m#     print(f\"{temp} degrees in fahrenheits is equal to {temp_c:,.0f} in celsius\")\u001b[0m\u001b[0;34m\u001b[0m\u001b[0;34m\u001b[0m\u001b[0;34m\u001b[0m\u001b[0m\n\u001b[1;32m      8\u001b[0m     \u001b[0mtemps_c\u001b[0m\u001b[0;34m.\u001b[0m\u001b[0mappend\u001b[0m\u001b[0;34m(\u001b[0m\u001b[0mtemp_c\u001b[0m\u001b[0;34m)\u001b[0m\u001b[0;34m\u001b[0m\u001b[0;34m\u001b[0m\u001b[0m\n",
      "\u001b[0;31mTypeError\u001b[0m: unsupported operand type(s) for -: 'str' and 'int'"
     ]
    }
   ],
   "source": [
    "## Use a for loop to convert all temperatures from fahrenheit to celsius. \n",
    "## store results in a new list called temps_c.\n",
    "## The numbers stored in the temps_c list must have NO decimal places\n",
    "temps_c = []\n",
    "for temp in temps_f:\n",
    "    temp_c = round((temp) - 32) * (5/9)\n",
    "#     print(f\"{temp} degrees in fahrenheits is equal to {temp_c:,.0f} in celsius\")\n",
    "    temps_c.append(temp_c)\n",
    "\n",
    "print(temps_c)"
   ]
  },
  {
   "cell_type": "markdown",
   "metadata": {},
   "source": [
    "### Do the same thing as above but use **List Comprehension**"
   ]
  },
  {
   "cell_type": "code",
   "execution_count": 32,
   "metadata": {},
   "outputs": [
    {
     "name": "stdout",
     "output_type": "stream",
     "text": [
      "[10, 3, 7, 12, 7, 27, 28, 2, 14, -1, 8, 20, 8, 16, 23, 26, 14, 11, 27, 20, 22, 14, 18, 18, -14, 26, -8, 23, -7, 27, 30, 11, 4, 4, 6, -3, 6, -21, 21, -3]\n"
     ]
    }
   ],
   "source": [
    "## Call the list temps_celsius\n",
    "## Remember to round so there are no decimal places.\n",
    "temps_celsius = [round((int(tempf)-32)*(5/9)) for tempf in temps_f]\n",
    "print(temps_celsius)"
   ]
  },
  {
   "cell_type": "code",
   "execution_count": 33,
   "metadata": {},
   "outputs": [
    {
     "name": "stdout",
     "output_type": "stream",
     "text": [
      "Jordan, Amman, 10°C, Mon 9:00 pm, Clear. Cool.\n",
      "Turkey, Ankara, 3°C, Mon 10:00 pm, Clear. Chilly.\n",
      "Turkmenistan, Ashgabat, 7°C, Tue 12:00 midnight, Overcast. Quite cool.\n",
      "Iraq, Baghdad, 12°C, Mon 10:00 pm, Clear. Cool.\n",
      "Azerbaijan, Baku, 7°C, Mon 11:00 pm, Clear. Quite cool.\n",
      "Brunei, Bandar Seri Begawan, 27°C, Tue 3:00 am, Partly cloudy. Warm.\n",
      "Thailand, Bangkok, 28°C, Tue 2:00 am, Fog. Warm.\n",
      "China, Beijing, 2°C, Tue 3:00 am, Clear. Chilly.\n",
      "Lebanon, Beirut, 14°C, Mon 9:00 pm, Passing clouds. Cool.\n",
      "Kyrgyzstan, Bishkek, -1°C, Tue 1:00 am, Overcast. Chilly.\n",
      "Syria, Damascus, 8°C, Mon 9:00 pm, Clear. Cool.\n",
      "Qatar, Doha, 20°C, Mon 10:00 pm, Clear. Mild.\n",
      "Tajikistan, Dushanbe, 8°C, Tue 12:00 midnight, Overcast. Cool.\n",
      "Vietnam, Hanoi, 16°C, Tue 2:00 am, Passing clouds. Refreshingly cool.\n",
      "Pakistan, Islamabad, 23°C, Tue 12:00 midnight, Scattered clouds. Mild.\n",
      "Indonesia, Jakarta, 26°C, Tue 2:00 am, Overcast. Warm.\n",
      "Israel, Jerusalem, 14°C, Mon 9:00 pm, Clear. Cool.\n",
      "Nepal, Kathmandu, 11°C, Tue 12:45 am, Fog. Cool.\n",
      "Malaysia, Kuala Lumpur, 27°C, Tue 3:00 am, Passing clouds. Warm.\n",
      "Kuwait, Kuwait City, 20°C, Mon 10:00 pm, Clear. Mild.\n",
      "Oman, Muscat, 22°C, Mon 11:00 pm, Clear. Mild.\n",
      "India, New Delhi, 14°C, Tue 12:30 am, Clear. Cool.\n",
      "Cyprus, Nicosia, 18°C, Mon 9:00 pm, Passing clouds. Mild.\n",
      "Cyprus, North Nicosia, 18°C, Mon 9:00 pm, Passing clouds. Mild.\n",
      "Kazakstan, Nursultan, -14°C, Tue 1:00 am, Light snow. Mostly cloudy. Frigid.\n",
      "Cambodia, Phnom Penh, 26°C, Tue 2:00 am, Passing clouds. Warm.\n",
      "North-Korea, Pyongyang, -8°C, Tue 4:00 am, Clear. Cold.\n",
      "Saudi-Arabia, Riyadh, 23°C, Mon 10:00 pm, Clear. Mild.\n",
      "South-Korea, Seoul, -7°C, Tue 4:00 am, Clear. Cold.\n",
      "Singapore, Singapore, 27°C, Tue 3:00 am, Passing clouds. Warm.\n",
      "Sri-Lanka, Sri Jayawardenepura Kotte, 30°C, Tue 12:30 am, Passing clouds. Warm.\n",
      "Taiwan, Taipei, 11°C, Tue 3:00 am, Passing clouds. Cool.\n",
      "Uzbekistan, Tashkent, 4°C, Tue 12:00 midnight, Sprinkles. Overcast. Chilly.\n",
      "Georgia, Tbilisi, 4°C, Mon 11:00 pm, Overcast. Quite cool.\n",
      "Iran, Tehran, 6°C, Mon 10:30 pm, Passing clouds. Quite cool.\n",
      "Bhutan, Thimphu, -3°C, Tue 1:00 am, Passing clouds. Chilly.\n",
      "Japan, Tokyo, 6°C, Tue 4:00 am, Quite cool.\n",
      "Mongolia, Ulaanbaatar, -21°C, Tue 3:00 am, Clear. Frigid.\n",
      "Laos, Vientiane, 21°C, Tue 2:00 am, Fog. Mild.\n",
      "Armenia, Yerevan, -3°C, Mon 11:00 pm, Fog. Chilly.\n"
     ]
    }
   ],
   "source": [
    "## Print each Asian country with its relevant data.\n",
    "## Print in the following format:\n",
    "## Country, City, Temperature in celsius like 23°C, Time, Conditions.\n",
    "\n",
    "for (country, city, temp, condition, time) in zip(asian_countries, asian_caps, temps_c, conditions, times):\n",
    "    print(f\"{country}, {city}, {temp}°C, {time}, {condition}\")"
   ]
  },
  {
   "cell_type": "code",
   "execution_count": 34,
   "metadata": {},
   "outputs": [
    {
     "name": "stdout",
     "output_type": "stream",
     "text": [
      "[{'country': 'Jordan', 'city': 'Amman', 'temperature': 10, 'conditions': 'Clear. Cool.', 'time': 'Mon 9:00 pm'}, {'country': 'Turkey', 'city': 'Ankara', 'temperature': 3, 'conditions': 'Clear. Chilly.', 'time': 'Mon 10:00 pm'}, {'country': 'Turkmenistan', 'city': 'Ashgabat', 'temperature': 7, 'conditions': 'Overcast. Quite cool.', 'time': 'Tue 12:00 midnight'}, {'country': 'Iraq', 'city': 'Baghdad', 'temperature': 12, 'conditions': 'Clear. Cool.', 'time': 'Mon 10:00 pm'}, {'country': 'Azerbaijan', 'city': 'Baku', 'temperature': 7, 'conditions': 'Clear. Quite cool.', 'time': 'Mon 11:00 pm'}, {'country': 'Brunei', 'city': 'Bandar Seri Begawan', 'temperature': 27, 'conditions': 'Partly cloudy. Warm.', 'time': 'Tue 3:00 am'}, {'country': 'Thailand', 'city': 'Bangkok', 'temperature': 28, 'conditions': 'Fog. Warm.', 'time': 'Tue 2:00 am'}, {'country': 'China', 'city': 'Beijing', 'temperature': 2, 'conditions': 'Clear. Chilly.', 'time': 'Tue 3:00 am'}, {'country': 'Lebanon', 'city': 'Beirut', 'temperature': 14, 'conditions': 'Passing clouds. Cool.', 'time': 'Mon 9:00 pm'}, {'country': 'Kyrgyzstan', 'city': 'Bishkek', 'temperature': -1, 'conditions': 'Overcast. Chilly.', 'time': 'Tue 1:00 am'}, {'country': 'Syria', 'city': 'Damascus', 'temperature': 8, 'conditions': 'Clear. Cool.', 'time': 'Mon 9:00 pm'}, {'country': 'Qatar', 'city': 'Doha', 'temperature': 20, 'conditions': 'Clear. Mild.', 'time': 'Mon 10:00 pm'}, {'country': 'Tajikistan', 'city': 'Dushanbe', 'temperature': 8, 'conditions': 'Overcast. Cool.', 'time': 'Tue 12:00 midnight'}, {'country': 'Vietnam', 'city': 'Hanoi', 'temperature': 16, 'conditions': 'Passing clouds. Refreshingly cool.', 'time': 'Tue 2:00 am'}, {'country': 'Pakistan', 'city': 'Islamabad', 'temperature': 23, 'conditions': 'Scattered clouds. Mild.', 'time': 'Tue 12:00 midnight'}, {'country': 'Indonesia', 'city': 'Jakarta', 'temperature': 26, 'conditions': 'Overcast. Warm.', 'time': 'Tue 2:00 am'}, {'country': 'Israel', 'city': 'Jerusalem', 'temperature': 14, 'conditions': 'Clear. Cool.', 'time': 'Mon 9:00 pm'}, {'country': 'Nepal', 'city': 'Kathmandu', 'temperature': 11, 'conditions': 'Fog. Cool.', 'time': 'Tue 12:45 am'}, {'country': 'Malaysia', 'city': 'Kuala Lumpur', 'temperature': 27, 'conditions': 'Passing clouds. Warm.', 'time': 'Tue 3:00 am'}, {'country': 'Kuwait', 'city': 'Kuwait City', 'temperature': 20, 'conditions': 'Clear. Mild.', 'time': 'Mon 10:00 pm'}, {'country': 'Oman', 'city': 'Muscat', 'temperature': 22, 'conditions': 'Clear. Mild.', 'time': 'Mon 11:00 pm'}, {'country': 'India', 'city': 'New Delhi', 'temperature': 14, 'conditions': 'Clear. Cool.', 'time': 'Tue 12:30 am'}, {'country': 'Cyprus', 'city': 'Nicosia', 'temperature': 18, 'conditions': 'Passing clouds. Mild.', 'time': 'Mon 9:00 pm'}, {'country': 'Cyprus', 'city': 'North Nicosia', 'temperature': 18, 'conditions': 'Passing clouds. Mild.', 'time': 'Mon 9:00 pm'}, {'country': 'Kazakstan', 'city': 'Nursultan', 'temperature': -14, 'conditions': 'Light snow. Mostly cloudy. Frigid.', 'time': 'Tue 1:00 am'}, {'country': 'Cambodia', 'city': 'Phnom Penh', 'temperature': 26, 'conditions': 'Passing clouds. Warm.', 'time': 'Tue 2:00 am'}, {'country': 'North-Korea', 'city': 'Pyongyang', 'temperature': -8, 'conditions': 'Clear. Cold.', 'time': 'Tue 4:00 am'}, {'country': 'Saudi-Arabia', 'city': 'Riyadh', 'temperature': 23, 'conditions': 'Clear. Mild.', 'time': 'Mon 10:00 pm'}, {'country': 'South-Korea', 'city': 'Seoul', 'temperature': -7, 'conditions': 'Clear. Cold.', 'time': 'Tue 4:00 am'}, {'country': 'Singapore', 'city': 'Singapore', 'temperature': 27, 'conditions': 'Passing clouds. Warm.', 'time': 'Tue 3:00 am'}, {'country': 'Sri-Lanka', 'city': 'Sri Jayawardenepura Kotte', 'temperature': 30, 'conditions': 'Passing clouds. Warm.', 'time': 'Tue 12:30 am'}, {'country': 'Taiwan', 'city': 'Taipei', 'temperature': 11, 'conditions': 'Passing clouds. Cool.', 'time': 'Tue 3:00 am'}, {'country': 'Uzbekistan', 'city': 'Tashkent', 'temperature': 4, 'conditions': 'Sprinkles. Overcast. Chilly.', 'time': 'Tue 12:00 midnight'}, {'country': 'Georgia', 'city': 'Tbilisi', 'temperature': 4, 'conditions': 'Overcast. Quite cool.', 'time': 'Mon 11:00 pm'}, {'country': 'Iran', 'city': 'Tehran', 'temperature': 6, 'conditions': 'Passing clouds. Quite cool.', 'time': 'Mon 10:30 pm'}, {'country': 'Bhutan', 'city': 'Thimphu', 'temperature': -3, 'conditions': 'Passing clouds. Chilly.', 'time': 'Tue 1:00 am'}, {'country': 'Japan', 'city': 'Tokyo', 'temperature': 6, 'conditions': 'Quite cool.', 'time': 'Tue 4:00 am'}, {'country': 'Mongolia', 'city': 'Ulaanbaatar', 'temperature': -21, 'conditions': 'Clear. Frigid.', 'time': 'Tue 3:00 am'}, {'country': 'Laos', 'city': 'Vientiane', 'temperature': 21, 'conditions': 'Fog. Mild.', 'time': 'Tue 2:00 am'}, {'country': 'Armenia', 'city': 'Yerevan', 'temperature': -3, 'conditions': 'Fog. Chilly.', 'time': 'Mon 11:00 pm'}]\n"
     ]
    }
   ],
   "source": [
    "## Instead of just printing, place each country's data into a dictionary\n",
    "## Plade each dict into a list of dictionaries called asian_cap_temps = []\n",
    "\n",
    "asian_cap_temps = []\n",
    "for (country, city, temp, condition, time) in zip(asian_countries, asian_caps, temps_c, conditions, times):\n",
    "    asian_temps = {\"country\": country, \"city\": city, \"temperature\": temp, \"conditions\": condition, \"time\": time}\n",
    "    asian_cap_temps.append(asian_temps)\n",
    "print(asian_cap_temps)"
   ]
  },
  {
   "cell_type": "code",
   "execution_count": 43,
   "metadata": {},
   "outputs": [
    {
     "name": "stdout",
     "output_type": "stream",
     "text": [
      "Jordan ---> Amman\n",
      "Turkey ---> Ankara\n",
      "Turkmenistan ---> Ashgabat\n",
      "Iraq ---> Baghdad\n",
      "Azerbaijan ---> Baku\n",
      "Brunei ---> Bandar Seri Begawan\n",
      "Thailand ---> Bangkok\n",
      "China ---> Beijing\n",
      "Lebanon ---> Beirut\n",
      "Kyrgyzstan ---> Bishkek\n",
      "Syria ---> Damascus\n",
      "Qatar ---> Doha\n",
      "Tajikistan ---> Dushanbe\n",
      "Vietnam ---> Hanoi\n",
      "Pakistan ---> Islamabad\n",
      "Indonesia ---> Jakarta\n",
      "Israel ---> Jerusalem\n",
      "Nepal ---> Kathmandu\n",
      "Malaysia ---> Kuala Lumpur\n",
      "Kuwait ---> Kuwait City\n",
      "Oman ---> Muscat\n",
      "India ---> New Delhi\n",
      "Cyprus ---> Nicosia\n",
      "Cyprus ---> North Nicosia\n",
      "Kazakstan ---> Nursultan\n",
      "Cambodia ---> Phnom Penh\n",
      "North-Korea ---> Pyongyang\n",
      "Saudi-Arabia ---> Riyadh\n",
      "South-Korea ---> Seoul\n",
      "Singapore ---> Singapore\n",
      "Sri-Lanka ---> Sri Jayawardenepura Kotte\n",
      "Taiwan ---> Taipei\n",
      "Uzbekistan ---> Tashkent\n",
      "Georgia ---> Tbilisi\n",
      "Iran ---> Tehran\n",
      "Bhutan ---> Thimphu\n",
      "Japan ---> Tokyo\n",
      "Mongolia ---> Ulaanbaatar\n",
      "Laos ---> Vientiane\n",
      "Armenia ---> Yerevan\n"
     ]
    }
   ],
   "source": [
    "## Write a for loop to traverse the dictionary you just created to \n",
    "## print out each country and its capital in the following format:\n",
    "## Jordan ---> Amman\n",
    "for nationcap in asian_cap_temps:\n",
    "    capital = nationcap.get(\"city\")\n",
    "    nation = nationcap.get(\"country\")\n",
    "    print(f\"{nation} ---> {capital}\")"
   ]
  },
  {
   "cell_type": "code",
   "execution_count": null,
   "metadata": {},
   "outputs": [],
   "source": [
    "## Below the the generator to create a list of 10 random numbers anywhere from -10 to 10\n",
    "## Run this cell to create that list of numbers\n",
    "import random\n",
    "numbers = random.sample(range(-5, 5), 10)\n",
    "numbers"
   ]
  },
  {
   "cell_type": "code",
   "execution_count": 19,
   "metadata": {},
   "outputs": [
    {
     "name": "stdout",
     "output_type": "stream",
     "text": [
      "There is at least one zero in this list\n"
     ]
    }
   ],
   "source": [
    "## Write statement with the following conditions:\n",
    "## if there is a zero in the list, prints \"There is at least one zero in this list\"\n",
    "## if there is not a single zero in the list, prints \"There are no zeros in this list\"\n",
    "if 0 in numbers:\n",
    "    print(\"There is at least one zero in this list\")\n",
    "else: print(\"There are no zeros in this list.\")"
   ]
  },
  {
   "cell_type": "code",
   "execution_count": 11,
   "metadata": {},
   "outputs": [
    {
     "name": "stdout",
     "output_type": "stream",
     "text": [
      "The last number (2) is positive while the second to last number(-1) is negative\n"
     ]
    }
   ],
   "source": [
    "## In class we built a conditional statement that\n",
    "## tells us if the last number and the penultimate number\n",
    "## are positive or negative.\n",
    "## print a sentence that reads:\n",
    "## Here it is:\n",
    "if numbers[-2] > 0:\n",
    "    penultimate_status = \"positive\"\n",
    "    \n",
    "else: penultimate_status = \"negative\"\n",
    "        \n",
    "if numbers[-1] > 0:\n",
    "    last_status = \"positive\"\n",
    "else: last_status = \"negative\"\n",
    "        \n",
    "print(f\"The last number ({numbers[-1]}) is {last_status} while \\\n",
    "the second to last number({numbers[-2]}) is {penultimate_status}\")"
   ]
  },
  {
   "cell_type": "code",
   "execution_count": 24,
   "metadata": {},
   "outputs": [
    {
     "name": "stdout",
     "output_type": "stream",
     "text": [
      "The last number (-2) is negative while the second to last number(0) is zero\n"
     ]
    }
   ],
   "source": [
    "## Tweak the code in case at least one of the two last numbers hold zero(s) \n",
    "if numbers[-2] > 0:\n",
    "    penultimate_status = \"positive\"\n",
    "elif numbers[-2] == 0:\n",
    "        penultimate_status = \"zero\"   \n",
    "else: penultimate_status = \"negative\"\n",
    "        \n",
    "if numbers[-1] > 0:\n",
    "    last_status = \"positive\"\n",
    "elif numbers[-1] == 0:\n",
    "        last_status = \"zero\"\n",
    "else: last_status = \"negative\"\n",
    "        \n",
    "print(f\"The last number ({numbers[-1]}) is {last_status} while \\\n",
    "the second to last number({numbers[-2]}) is {penultimate_status}\")"
   ]
  },
  {
   "cell_type": "markdown",
   "metadata": {},
   "source": [
    "## Challenge (only because this is convoluted)"
   ]
  },
  {
   "cell_type": "code",
   "execution_count": 28,
   "metadata": {},
   "outputs": [
    {
     "name": "stdout",
     "output_type": "stream",
     "text": [
      "The flow fell from zero to negative territory: 0 to -2 \n"
     ]
    }
   ],
   "source": [
    "## Write a conditional statement that takes the previous variables and determines\n",
    "## the direction of the flow.\n",
    "## For example, is the flow going to positive to negative? Or from negative to positive?\n",
    "## Or staying negative to negative, etc.\n",
    "## Use the following phrases to describe the directions:\n",
    "## \"remained positive\" , \"turned positive\" , \"remained negative\" , \"fell to negative territory\"\n",
    "## \"dropped from positive to zero\" , \"stayed flat at zero\", \"rose from negative territory to zero\"\n",
    "## fell from zero to negative territory\n",
    "## For example \"The flow fell from zero to negative territory: 0 to -5\"\n",
    "\n",
    "if last_status == \"positive\" and penultimate_status == \"positive\":\n",
    "    flow = \"remained positive\"   \n",
    "elif last_status == \"positive\" and penultimate_status ==\"negative\":\n",
    "    flow = \"turned positive\"    \n",
    "elif last_status == \"negative\" and penultimate_status == \"negative\":\n",
    "    flow = \"remained negative\"\n",
    "elif last_status == \"negative\" and penultimate_status == \"positive\":\n",
    "    flow = \"fell to negative territory\"\n",
    "elif last_status == \"zero\" and penultimate_status == \"positive\":\n",
    "    flow = \"dropped from positive to zero\"\n",
    "elif last_status == 0 and penultimate_status == 0:\n",
    "    flow = \"stayed flat at zero\"\n",
    "elif last_status == 0 and penultimate_status == \"negative\":\n",
    "    flow = \"rose from negative territory to zero\"\n",
    "elif last_status == \"negative\" and penultimate_status == \"zero\":\n",
    "    flow = \"fell from zero to negative territory\"\n",
    "# else:\n",
    "#     print(\"Nothing adds up\")\n",
    "\n",
    "print(f\"The flow {flow}: {numbers[-2]} to {numbers[-1]} \")"
   ]
  },
  {
   "cell_type": "code",
   "execution_count": null,
   "metadata": {},
   "outputs": [],
   "source": []
  }
 ],
 "metadata": {
  "kernelspec": {
   "display_name": "Python 3",
   "language": "python",
   "name": "python3"
  },
  "language_info": {
   "codemirror_mode": {
    "name": "ipython",
    "version": 3
   },
   "file_extension": ".py",
   "mimetype": "text/x-python",
   "name": "python",
   "nbconvert_exporter": "python",
   "pygments_lexer": "ipython3",
   "version": "3.7.4"
  }
 },
 "nbformat": 4,
 "nbformat_minor": 2
}
