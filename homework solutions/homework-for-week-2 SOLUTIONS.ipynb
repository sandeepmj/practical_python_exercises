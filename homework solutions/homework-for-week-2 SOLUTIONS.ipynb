{
 "cells": [
  {
   "cell_type": "markdown",
   "metadata": {},
   "source": [
    "# Week 1 - Homework\n"
   ]
  },
  {
   "cell_type": "markdown",
   "metadata": {},
   "source": [
    "## Working with Numbers"
   ]
  },
  {
   "cell_type": "code",
   "execution_count": null,
   "metadata": {},
   "outputs": [],
   "source": [
    "## create a variable called num equal to 30 billion in scientific notation\n",
    "## print it as \"This number is $30,000,000,000.00\" using f-string literal (2 decimal places)\n",
    "num = 3E10\n",
    "print(f\"This number is ${num:,.2f}\")"
   ]
  },
  {
   "cell_type": "code",
   "execution_count": null,
   "metadata": {},
   "outputs": [],
   "source": [
    "## create a variable called num2 equal to 30 billion in scientific notation\n",
    "## Print it like you did above but to no decimal places.\n",
    "num2 = 3E10\n",
    "print(f\"This number is ${num2:,.0f}\")"
   ]
  },
  {
   "cell_type": "code",
   "execution_count": null,
   "metadata": {},
   "outputs": [],
   "source": [
    "## create a variable called \"big_number\" that holds the integer 300 trillion\n",
    "## use thousands separator/digit group separator to make it easier to read\n",
    "## do NOT use scientific notation\n",
    "## when you print the number, it should look like this: 300000000000000\n",
    "\n",
    "big_number = 300_000_000_000_000\n",
    "# print(type(big_number))\n",
    "print(big_number)"
   ]
  },
  {
   "cell_type": "code",
   "execution_count": null,
   "metadata": {},
   "outputs": [],
   "source": [
    "## Print the same number but with thousands comma separators\n",
    "print(f'{big_number:,.0f}')"
   ]
  },
  {
   "cell_type": "code",
   "execution_count": null,
   "metadata": {},
   "outputs": [],
   "source": [
    "## create a variable called sales equal to 45.3 million\n",
    "## print it as \"Sales totalled $45,300,000 in 2019\" using f-string literal (0 decimal places)\n",
    "## use thousands separator/digit group separator to make it easier to read\n",
    "sales = 45_300_000\n",
    "print(f\"Sales equaled ${sales:,.0f} in 2019. \")"
   ]
  },
  {
   "cell_type": "code",
   "execution_count": null,
   "metadata": {},
   "outputs": [],
   "source": [
    "## create a variable called apple_cap equal to $1.41 trillion in scientific notation\n",
    "## Print it like you did above but to no decimal places.\n",
    "apple_cap = 1.41E12\n",
    "print(f\"${apple_cap:,.0f}\")"
   ]
  },
  {
   "cell_type": "markdown",
   "metadata": {},
   "source": [
    "## Working with Lists"
   ]
  },
  {
   "cell_type": "code",
   "execution_count": null,
   "metadata": {},
   "outputs": [],
   "source": [
    "## Combine the two lists into a single list called combined_list\n",
    "terms_1 = [\"Bankruptcy\", \"Mergers\", \"Acquisitions\"]\n",
    "terms_2 = [\"Short selling\", \"Liquidations\", \"Equity\"]\n",
    "# combined_list = terms_1 + terms_2\n",
    "# combined_list = [*terms_1, *terms_2]\n",
    "terms_1.extend(terms_2)\n",
    "combined_list = terms_1\n",
    "combined_list"
   ]
  },
  {
   "cell_type": "markdown",
   "metadata": {},
   "source": [
    "## Working with List of Dictionaries\n",
    "\n",
    "#### Create a list of dictionaries called \"donations\" using the content from the image below:\n",
    "\n",
    "<img src=\"../support_files/donors.png\">\n",
    "\n",
    "More instructions in the next cell:"
   ]
  },
  {
   "cell_type": "code",
   "execution_count": null,
   "metadata": {},
   "outputs": [],
   "source": [
    "## You may copy the contents of each cell in the XLSX file, but...\n",
    "## ...type out all the code.\n",
    "## print the dictionary\n",
    "\n",
    "\n",
    "donations = [\n",
    "    {\"year\": 2017, \"donor\": \"David Koch Charitable Foundation\", \"grantee\": \"City Center for Music and Drama\", \"amount\": 15E6}, \n",
    "    {\"year\": 2013, \"donor\": \"Bradley Impact Fund\", \"grantee\": \"Young Americans\", \"amount\": 11E3}, \n",
    "    {\"year\": 2016, \"donor\": \"Mercer Family Foundation\", \"grantee\": \"The Becket Fund\", \"amount\": 250E3}, \n",
    "    {\"year\": 2012, \"donor\": \"Charles Koch Foundation\", \"grantee\": \"The Phillips Foundation\", \"amount\": 25E3},\n",
    "    {\"year\": 2017, \"donor\": \"Barbara And Barre Seid Foundation\", \"grantee\": \"Boys Scouts of America\", \"amount\": 26346E2}\n",
    "]\n",
    "donations"
   ]
  },
  {
   "cell_type": "code",
   "execution_count": null,
   "metadata": {},
   "outputs": [],
   "source": [
    "## How many items are in this list?\n",
    "len(donations)"
   ]
  },
  {
   "cell_type": "code",
   "execution_count": null,
   "metadata": {},
   "outputs": [],
   "source": [
    "## How many key/value pairs are there in the last dictionary\n",
    "len(donations[4])"
   ]
  },
  {
   "cell_type": "code",
   "execution_count": null,
   "metadata": {},
   "outputs": [],
   "source": [
    "## Add one more key/value pair to the first item in the dictionary\n",
    "## Add: \"category\": \"youth\"\n",
    "donations[0].update({\"category\": \"youth\"})\n",
    "donations"
   ]
  },
  {
   "cell_type": "code",
   "execution_count": null,
   "metadata": {},
   "outputs": [],
   "source": [
    "## Show the 3rd item in the list (including keys and values)\n",
    "donations[2]"
   ]
  },
  {
   "cell_type": "code",
   "execution_count": null,
   "metadata": {},
   "outputs": [],
   "source": [
    "##show the 2nd through last:\n",
    "donations[1:5]"
   ]
  },
  {
   "cell_type": "code",
   "execution_count": null,
   "metadata": {},
   "outputs": [],
   "source": [
    "## Go full circle and create a list that holds just the column headers.\n",
    "## Call that list \"csv_columns\"\n",
    "## print the list\n",
    "csv_columns = [*donations[0]]\n",
    "# csv_columns = list(donations[0])\n",
    "csv_columns"
   ]
  },
  {
   "cell_type": "markdown",
   "metadata": {},
   "source": [
    "### Removing items from a dictionary\n",
    "We realize the first item in the list of dictionaries is the only one with \"category\" key. "
   ]
  },
  {
   "cell_type": "code",
   "execution_count": null,
   "metadata": {},
   "outputs": [],
   "source": [
    "## Remove that single key/value pair prior to the next task.\n",
    "del donations[0][\"category\"]\n",
    "donations[0]"
   ]
  },
  {
   "cell_type": "code",
   "execution_count": null,
   "metadata": {},
   "outputs": [],
   "source": [
    "## Create the column headers again\n",
    "## Call that list \"csv_columns\"\n",
    "## print the list\n",
    "csv_columns = [*donations[0]]\n",
    "# csv_columns = list(donations[0])\n",
    "csv_columns"
   ]
  },
  {
   "cell_type": "markdown",
   "metadata": {},
   "source": [
    "### What are relevant journalistic uses for the various methods above?\n",
    "\n",
    "#### 1. Making numbers more readable (using f-string literal formatting)\n",
    "#### 2. Organizing data points after acquiring them through scraping (creating lists, dictionaries and lists of dictionaries)\n",
    "#### 3. Confirming that we have unique values (or removing duplicates in a data set)\n",
    "#### 4. Creating column headers to prepare data for export to a CSV file"
   ]
  }
 ],
 "metadata": {
  "kernelspec": {
   "display_name": "Python 3",
   "language": "python",
   "name": "python3"
  },
  "language_info": {
   "codemirror_mode": {
    "name": "ipython",
    "version": 3
   },
   "file_extension": ".py",
   "mimetype": "text/x-python",
   "name": "python",
   "nbconvert_exporter": "python",
   "pygments_lexer": "ipython3",
   "version": "3.7.4"
  }
 },
 "nbformat": 4,
 "nbformat_minor": 2
}
