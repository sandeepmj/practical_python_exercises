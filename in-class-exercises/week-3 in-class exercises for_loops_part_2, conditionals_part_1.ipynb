{
 "cells": [
  {
   "cell_type": "markdown",
   "metadata": {},
   "source": [
    "# Week 3 - For Loops (part 2) and Conditionals (part 1)"
   ]
  },
  {
   "cell_type": "markdown",
   "metadata": {},
   "source": [
    "## The following play critical roles:  \n",
    "\n",
    "### 1. For Loops - iterating through data.\n",
    "\n",
    "### 2. Conditional Statements - adding logic to our statements."
   ]
  },
  {
   "cell_type": "markdown",
   "metadata": {},
   "source": [
    "## 1. For Loops\n",
    "\n",
    "### For Loops are your best friend - most used Python expression for journalists:\n",
    "\n",
    "### Iterate over:\n",
    "* data stored in a list and run some calculation on each value;\n",
    "* a list of URLs and visit each site to scrape data;\n",
    "* data stored in dictionary keys and values and return what you are looking for;\n"
   ]
  },
  {
   "cell_type": "markdown",
   "metadata": {},
   "source": [
    "Let's take **For Loops** for test drive:"
   ]
  },
  {
   "cell_type": "code",
   "execution_count": null,
   "metadata": {},
   "outputs": [],
   "source": [
    "## Use this list of CEO salaries from 1985 \n",
    "ceo_salaries_1985 = [150_000, 201_000, 110_000, 75_000, 92_000, 55_000]"
   ]
  },
  {
   "cell_type": "code",
   "execution_count": null,
   "metadata": {},
   "outputs": [],
   "source": [
    "## Print each salary with in the following format:\n",
    "## \"A CEO earned [some value] in 1985.\"\n",
    "for salary in ceo_salaries_1985:\n",
    "    print(f\"A CEO earned ${salary:,} in 1985\")"
   ]
  },
  {
   "cell_type": "code",
   "execution_count": null,
   "metadata": {},
   "outputs": [],
   "source": [
    "## Now update each salary to 2019 dollars.\n",
    "## Print the following info:\n",
    "## \"A CEO's salary of [1985 salary] in 1985 is worth [updated salary] in 2019 dollars.\"\n",
    "## The CPI for 1985 is 107.6\n",
    "## The 2019 CPI is 255.657\n",
    "## The formula is: updated_salary = (oldSalary/oldCPI) * currentCPI\n",
    "for salary in ceo_salaries_1985:\n",
    "    updated_salary = (salary/107.6)*255.657\n",
    "    print(f\"A CEO's salary of ${salary:,} in 1985 is worth ${updated_salary:,.0f} in 2019 dollars.\")"
   ]
  },
  {
   "cell_type": "markdown",
   "metadata": {},
   "source": [
    "## For Loops through multiple but related lists"
   ]
  },
  {
   "cell_type": "code",
   "execution_count": 1,
   "metadata": {},
   "outputs": [],
   "source": [
    "## You scrape a site and each datapoint is stored in different lists\n",
    "firstNames = [\"Irene\", \"Ursula\", \"Elon\", \"Tim\"]\n",
    "lastNames = [\"Rosenfeld\", \"Burns\", \"Musk\", \"Cook\"]\n",
    "titles = [\"Chairman and CEO\", \"Chairman and CEO\", \"CEO\", \"CEO\"]\n",
    "companies = [\"Kraft Foods\", \"Xerox\", \"Tesla\", \"Apple\"]\n",
    "industries = [\"Food and Beverage\", \"Process and Document Management\", \"Auto Manufacturing\", \"Consumer Technology\"]"
   ]
  },
  {
   "cell_type": "code",
   "execution_count": 2,
   "metadata": {},
   "outputs": [
    {
     "name": "stdout",
     "output_type": "stream",
     "text": [
      "Name: Rosenfeld, Irene \n",
      "Title: Chairman and CEO\n",
      "Company: Kraft Foods\n",
      "Industry: Food and Beverage\n",
      "\n",
      "\n",
      "Name: Burns, Ursula \n",
      "Title: Chairman and CEO\n",
      "Company: Xerox\n",
      "Industry: Process and Document Management\n",
      "\n",
      "\n",
      "Name: Musk, Elon \n",
      "Title: CEO\n",
      "Company: Tesla\n",
      "Industry: Auto Manufacturing\n",
      "\n",
      "\n",
      "Name: Cook, Tim \n",
      "Title: CEO\n",
      "Company: Apple\n",
      "Industry: Consumer Technology\n",
      "\n",
      "\n"
     ]
    }
   ],
   "source": [
    "## How do you align each item from the different lists that belong together?\n",
    "for (fname, lname, rank, co, field) in zip(firstNames, lastNames, titles, companies, industries ):\n",
    "    print(f\"Name: {lname}, {fname} \")\n",
    "    print(f\"Title: {rank}\")\n",
    "    print(f\"Company: {co}\")\n",
    "    print(f\"Industry: {field}\")\n",
    "    print(\"\\n\")"
   ]
  },
  {
   "cell_type": "code",
   "execution_count": 3,
   "metadata": {},
   "outputs": [
    {
     "name": "stdout",
     "output_type": "stream",
     "text": [
      "[{'first_name': 'Irene', 'last_name': 'Rosenfeld', 'title': 'Chairman and CEO', 'company': 'Kraft Foods', 'industry': 'Food and Beverage'}, {'first_name': 'Ursula', 'last_name': 'Burns', 'title': 'Chairman and CEO', 'company': 'Xerox', 'industry': 'Process and Document Management'}, {'first_name': 'Elon', 'last_name': 'Musk', 'title': 'CEO', 'company': 'Tesla', 'industry': 'Auto Manufacturing'}, {'first_name': 'Tim', 'last_name': 'Cook', 'title': 'CEO', 'company': 'Apple', 'industry': 'Consumer Technology'}]\n"
     ]
    }
   ],
   "source": [
    "## We don't just want to print the items.\n",
    "## Let's move into a dictionary called bio_dict and then \n",
    "## place in a list of dicts called bio_list.\n",
    "bio_list = []\n",
    "for (fname, lname, rank, co, field) in zip(firstNames, lastNames, titles, companies, industries ):\n",
    "    bio_dict = {\"first_name\": fname, \"last_name\": lname, \"title\": rank, \"company\": co, \"industry\": field}\n",
    "    bio_list.append(bio_dict)\n",
    "print(bio_list)\n",
    "    "
   ]
  },
  {
   "cell_type": "markdown",
   "metadata": {},
   "source": [
    "## For Loops within For Loops\n",
    "## For Loops through Dictionaries"
   ]
  },
  {
   "cell_type": "code",
   "execution_count": 12,
   "metadata": {},
   "outputs": [],
   "source": [
    "## You have a list of CEO salaries from 1969.\n",
    "sals_1969 = [47_000, 65_000, 39_000, 96_000]"
   ]
  },
  {
   "cell_type": "code",
   "execution_count": 5,
   "metadata": {},
   "outputs": [
    {
     "data": {
      "text/plain": [
       "[{'year': 1979, 'cpi': 72.6},\n",
       " {'year': 1989, 'cpi': 124},\n",
       " {'year': 1999, 'cpi': 166.6},\n",
       " {'year': 2009, 'cpi': 214.537},\n",
       " {'year': 2019, 'cpi': 255.657}]"
      ]
     },
     "execution_count": 5,
     "metadata": {},
     "output_type": "execute_result"
    }
   ],
   "source": [
    "## We need the value of these salaries updated for every decade till 2019\n",
    "## Here are the CPIs for each decade in list of dictionaries from 1969 to 2019.\n",
    "\n",
    "decades_cpi = [\n",
    "   {\"year\": 1979, \"cpi\": 72.6,},\n",
    "    {\"year\": 1989, \"cpi\": 124}, \n",
    "    {\"year\": 1999, \"cpi\": 166.6},\n",
    "    {\"year\": 2009, \"cpi\": 214.537},\n",
    "    {\"year\": 2019, \"cpi\": 255.657}\n",
    "              ]\n",
    "\n",
    "## Show the contents of this list of dictionaries\n",
    "decades_cpi"
   ]
  },
  {
   "cell_type": "code",
   "execution_count": 6,
   "metadata": {},
   "outputs": [
    {
     "data": {
      "text/plain": [
       "list"
      ]
     },
     "execution_count": 6,
     "metadata": {},
     "output_type": "execute_result"
    }
   ],
   "source": [
    "## What datatype is decades_cpi\n",
    "type(decades_cpi)\n"
   ]
  },
  {
   "cell_type": "code",
   "execution_count": 7,
   "metadata": {},
   "outputs": [
    {
     "name": "stdout",
     "output_type": "stream",
     "text": [
      "<class 'dict'>\n",
      "<class 'dict'>\n",
      "<class 'dict'>\n",
      "<class 'dict'>\n",
      "<class 'dict'>\n"
     ]
    }
   ],
   "source": [
    "## Check what type of data each list item is within decades_cpi\n",
    "\n",
    "for item in decades_cpi:\n",
    "#     print(item)\n",
    "    print(type(item))"
   ]
  },
  {
   "cell_type": "code",
   "execution_count": 8,
   "metadata": {},
   "outputs": [
    {
     "name": "stdout",
     "output_type": "stream",
     "text": [
      "year --> 1979\n",
      "cpi --> 72.6\n",
      "year --> 1989\n",
      "cpi --> 124\n",
      "year --> 1999\n",
      "cpi --> 166.6\n",
      "year --> 2009\n",
      "cpi --> 214.537\n",
      "year --> 2019\n",
      "cpi --> 255.657\n"
     ]
    }
   ],
   "source": [
    "## Print out each value in this format:\n",
    "## \"key --> value\"\n",
    "for period in decades_cpi:\n",
    "    for key, value in period.items():\n",
    "        print(f\"{key} --> {value}\")"
   ]
  },
  {
   "cell_type": "markdown",
   "metadata": {},
   "source": [
    "### The key alternates between the strings \"year\" and \"cpi\" in this loop.\n",
    "\n",
    "### How do we actually target the values for \"year\" and \"cpi\" and place them in our calculations?"
   ]
  },
  {
   "cell_type": "code",
   "execution_count": 9,
   "metadata": {},
   "outputs": [
    {
     "name": "stdout",
     "output_type": "stream",
     "text": [
      "1979 -----> 72.6\n",
      "1989 -----> 124\n",
      "1999 -----> 166.6\n",
      "2009 -----> 214.537\n",
      "2019 -----> 255.657\n"
     ]
    }
   ],
   "source": [
    "for period in decades_cpi:\n",
    "#     print(type(period))\n",
    "#     print(period)\n",
    "    that_year = period.get(\"year\")\n",
    "    old_cpi = period.get(\"cpi\")\n",
    "    print(f\"{that_year} -----> {old_cpi}\")\n",
    "    \n",
    "    \n"
   ]
  },
  {
   "cell_type": "markdown",
   "metadata": {},
   "source": [
    "## We can now add these variables into our calculations:"
   ]
  },
  {
   "cell_type": "code",
   "execution_count": 13,
   "metadata": {},
   "outputs": [
    {
     "name": "stdout",
     "output_type": "stream",
     "text": [
      "A salary of $47,000 in 1969 is worth $92,975 in 1979\n",
      "A salary of $47,000 in 1969 is worth $158,801 in 1989\n",
      "A salary of $47,000 in 1969 is worth $213,357 in 1999\n",
      "A salary of $47,000 in 1969 is worth $274,748 in 2009\n",
      "A salary of $47,000 in 1969 is worth $327,408 in 2019\n",
      "*********************************************************\n",
      "A salary of $65,000 in 1969 is worth $128,583 in 1979\n",
      "A salary of $65,000 in 1969 is worth $219,619 in 1989\n",
      "A salary of $65,000 in 1969 is worth $295,068 in 1999\n",
      "A salary of $65,000 in 1969 is worth $379,970 in 2009\n",
      "A salary of $65,000 in 1969 is worth $452,799 in 2019\n",
      "*********************************************************\n",
      "A salary of $39,000 in 1969 is worth $77,150 in 1979\n",
      "A salary of $39,000 in 1969 is worth $131,771 in 1989\n",
      "A salary of $39,000 in 1969 is worth $177,041 in 1999\n",
      "A salary of $39,000 in 1969 is worth $227,982 in 2009\n",
      "A salary of $39,000 in 1969 is worth $271,679 in 2019\n",
      "*********************************************************\n",
      "A salary of $96,000 in 1969 is worth $189,907 in 1979\n",
      "A salary of $96,000 in 1969 is worth $324,360 in 1989\n",
      "A salary of $96,000 in 1969 is worth $435,793 in 1999\n",
      "A salary of $96,000 in 1969 is worth $561,187 in 2009\n",
      "A salary of $96,000 in 1969 is worth $668,749 in 2019\n",
      "*********************************************************\n"
     ]
    }
   ],
   "source": [
    "## Loop through each salary and update its value for each decade\n",
    "CPI_1969 = 36.7\n",
    "for sal in sals_1969:\n",
    "    for period in decades_cpi:\n",
    "        cpi = period.get(\"cpi\")\n",
    "        that_year = period.get(\"year\")\n",
    "        updated_sal = (sal/CPI_1969) * cpi\n",
    "        print(f\"A salary of ${sal:,} in 1969 is worth ${updated_sal:,.0f} in {that_year}\")\n",
    "    print(\"*********************************************************\")"
   ]
  },
  {
   "cell_type": "markdown",
   "metadata": {},
   "source": [
    "## 2. Conditional Statements"
   ]
  },
  {
   "cell_type": "code",
   "execution_count": 1,
   "metadata": {},
   "outputs": [
    {
     "data": {
      "text/plain": [
       "[39, -52, -58, 57, 54, -32, 15, 8, 69, -90]"
      ]
     },
     "execution_count": 1,
     "metadata": {},
     "output_type": "execute_result"
    }
   ],
   "source": [
    "## create a list of 10 random numbers anywhere from -100 to 100 \n",
    "##name the list numbers\n",
    "import random\n",
    "numbers = random.sample(range(-100, 100), 10)\n",
    "numbers"
   ]
  },
  {
   "cell_type": "code",
   "execution_count": 3,
   "metadata": {},
   "outputs": [
    {
     "name": "stdout",
     "output_type": "stream",
     "text": [
      "The last number (-90) is negative while the second to last number(69) is positive\n"
     ]
    }
   ],
   "source": [
    "## create conditional statements that tell us if the last number and the penultimate number\n",
    "## are positive or negative\n",
    "## print a sentence that reads:\n",
    "## \"The last number [what is it?] is [positive or negative] while \n",
    "## the penultimate number [what is it?] is [negative or positive].\"\n",
    "if numbers[-2] > 0:\n",
    "    almost_last_status = \"positive\"\n",
    "    \n",
    "else: almost_last_status = \"negative\"\n",
    "        \n",
    "if numbers[-1] > 0:\n",
    "    last_status = \"positive\"\n",
    "else: last_status = \"negative\"\n",
    "        \n",
    "print(f\"The last number ({numbers[-1]}) is {last_status} while \\\n",
    "the second to last number({numbers[-2]}) is {almost_last_status}\")"
   ]
  },
  {
   "cell_type": "markdown",
   "metadata": {},
   "source": [
    "## Conditionals at work:"
   ]
  },
  {
   "cell_type": "markdown",
   "metadata": {},
   "source": [
    "<img src=\"support_files/scraped-etf.PNG\" style=\"width: 50%;\">\n",
    "\n",
    "To produce the chart above, we had to scrape the numbers from text published in articles. The numbers, however, were in string format with words like \"million\", \"billion\" and \"trillion\" describing their magnitude:\n",
    "\n",
    "<img src=\"support_files/magnitude.png\" style=\"width: 100%;\">\n",
    "\n",
    "In order to run calculations on them, we had to convert them to floating point numbers.\n",
    "\n",
    "Take the excerpt list below called big_numbers and convert each item in the list to a floating point number. You will have to use basic math and conditional statements."
   ]
  },
  {
   "cell_type": "code",
   "execution_count": null,
   "metadata": {},
   "outputs": [],
   "source": [
    "big_numbers = [\n",
    "    \"130.4 million\", \n",
    "    \"67.2 million\", \n",
    "    \"125.4 million\", \n",
    "    \"5.04 million\", \n",
    "    \"1.3 billion\", \n",
    "    \"2.2 trillion\", \n",
    "    \"7.2 million\", \n",
    "    \"3.1 billion\"\n",
    "]\n",
    "big_numbers"
   ]
  }
 ],
 "metadata": {
  "kernelspec": {
   "display_name": "Python 3",
   "language": "python",
   "name": "python3"
  },
  "language_info": {
   "codemirror_mode": {
    "name": "ipython",
    "version": 3
   },
   "file_extension": ".py",
   "mimetype": "text/x-python",
   "name": "python",
   "nbconvert_exporter": "python",
   "pygments_lexer": "ipython3",
   "version": "3.7.4"
  }
 },
 "nbformat": 4,
 "nbformat_minor": 2
}
