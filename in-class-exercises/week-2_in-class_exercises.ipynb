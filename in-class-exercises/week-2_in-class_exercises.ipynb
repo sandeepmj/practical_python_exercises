{
 "cells": [
  {
   "cell_type": "markdown",
   "metadata": {},
   "source": [
    "# Week 2: In-class exercises"
   ]
  },
  {
   "cell_type": "markdown",
   "metadata": {},
   "source": [
    "## The following play critical roles:  \n",
    "\n",
    "### 1. Indentation - running blocks of code.\n",
    "\n",
    "### 2. Time Delays - pacing the speed of our code.\n",
    "\n",
    "### 3. For Loops - iterating through data.\n",
    "\n",
    "### 4. Conditional Statements - adding logic to our statements.\n",
    "\n",
    "### 5. Error Handling - getting around problems our code may encounter.\n",
    "\n"
   ]
  },
  {
   "cell_type": "markdown",
   "metadata": {},
   "source": [
    "## 1. Indentation"
   ]
  },
  {
   "cell_type": "markdown",
   "metadata": {},
   "source": [
    "### Basic Flow Example: A Counter"
   ]
  },
  {
   "cell_type": "code",
   "execution_count": null,
   "metadata": {},
   "outputs": [],
   "source": [
    "## Using a While loop build a counter that counts from 1 to 5.\n",
    "## Print the counter numbers in statement that reads \"The count is\" whatever the count is.\n",
    "## Once it reaches 5, it should print \"Done counting to 5!\"\n",
    "\n"
   ]
  },
  {
   "cell_type": "markdown",
   "metadata": {},
   "source": [
    "### You just controlled flow using indentation and a while loop."
   ]
  },
  {
   "cell_type": "markdown",
   "metadata": {},
   "source": [
    "## How fast does our code run?"
   ]
  },
  {
   "cell_type": "code",
   "execution_count": null,
   "metadata": {},
   "outputs": [],
   "source": [
    "import datetime # a package that helps us track time and dates\n",
    "\n",
    "\n"
   ]
  },
  {
   "cell_type": "markdown",
   "metadata": {},
   "source": [
    "## 2. Time Delays\n",
    "\n",
    "**Delay timers** are critical when scraping data from websites for several reasons. The **two** most important reasons are:\n",
    "\n",
    "1. Sometimes your scraper clicks on links and must wait for the content to actually populated on the new page. Your script is likely to run faster than a page can load.\n",
    "\n",
    "\n",
    "2. You don't want your scraper to be mistaken for a hostile attack on a server. You have to slow down the scrapes."
   ]
  },
  {
   "cell_type": "markdown",
   "metadata": {},
   "source": [
    "### Step 1 - Import required libraries"
   ]
  },
  {
   "cell_type": "code",
   "execution_count": null,
   "metadata": {},
   "outputs": [],
   "source": [
    "import time # time is required. we will use its sleep function\n",
    "# import datetime ## we already imported this earlier, but you'd need it if starting fresh"
   ]
  },
  {
   "cell_type": "markdown",
   "metadata": {},
   "source": [
    "#### Let's add a 5-second delay:"
   ]
  },
  {
   "cell_type": "code",
   "execution_count": null,
   "metadata": {
    "scrolled": false
   },
   "outputs": [],
   "source": []
  },
  {
   "cell_type": "markdown",
   "metadata": {},
   "source": [
    "### Randomize\n",
    "\n",
    "Software that tracks traffic to a server might grow suspicious about a hit every nth seconds.\n",
    "\n",
    "Let's **randomize** the time between hits by using \"**randrange**\" from the \"**random**\" library:"
   ]
  },
  {
   "cell_type": "code",
   "execution_count": null,
   "metadata": {},
   "outputs": [],
   "source": [
    "from random import randrange # import renecessary library\n",
    "print(randrange(10,60))"
   ]
  },
  {
   "cell_type": "code",
   "execution_count": null,
   "metadata": {},
   "outputs": [],
   "source": [
    "## This one will print out the datetime and amount of delay\n",
    "from random import randrange # import necessary library\n"
   ]
  },
  {
   "cell_type": "code",
   "execution_count": null,
   "metadata": {},
   "outputs": [],
   "source": [
    "## without datetime delay printed out\n",
    "from random import randrange # import necessary library\n"
   ]
  },
  {
   "cell_type": "markdown",
   "metadata": {},
   "source": [
    "## 3. For Loops\n",
    "\n",
    "### For Loops are your best friend - most used Python expression for journalists:\n",
    "\n",
    "### Iterate over:\n",
    "* data stored in a list and run some calculation on each value;\n",
    "* a list of URLs and visit each site to scrape data;\n",
    "* data stored in dictionary keys and values and return what you are looking for;\n"
   ]
  },
  {
   "cell_type": "markdown",
   "metadata": {},
   "source": [
    "Let's take **For Loops** for test drive:"
   ]
  },
  {
   "cell_type": "code",
   "execution_count": null,
   "metadata": {},
   "outputs": [],
   "source": [
    "## Use this list of CEO salaries from 1985 \n",
    "ceo_salaries_1985 = [150_000, 201_000, 110_000, 75_000, 92_000, 55_000]"
   ]
  },
  {
   "cell_type": "code",
   "execution_count": null,
   "metadata": {},
   "outputs": [],
   "source": [
    "## Print each salary with in the following format:\n",
    "## \"A CEO earned [some value] in 1985.\"\n"
   ]
  },
  {
   "cell_type": "code",
   "execution_count": null,
   "metadata": {},
   "outputs": [],
   "source": [
    "## Now update each salary to 2019 dollars.\n",
    "## Print the following info:\n",
    "## \"A CEO's salary of [1985 salary] in 1985 is worth [updated salary] in 2019 dollars.\"\n",
    "## The CPI for 1985 is 107.6\n",
    "## The 2019 CPI is 255.657\n",
    "## The formula is: updated_salary = (oldSalary/oldCPI) * currentCPI\n"
   ]
  },
  {
   "cell_type": "markdown",
   "metadata": {},
   "source": [
    "## For Loops within For Loops\n",
    "## For Loops through Dictionaries"
   ]
  },
  {
   "cell_type": "code",
   "execution_count": null,
   "metadata": {},
   "outputs": [],
   "source": [
    "## You have a list of CEO salaries from 1969.\n",
    "sals_1969 = [47_000, 65_000, 39_000, 96_000]"
   ]
  },
  {
   "cell_type": "code",
   "execution_count": null,
   "metadata": {},
   "outputs": [],
   "source": [
    "## We need the value of these salaries updated for every decade till 2019\n",
    "## Here are the CPIs for each decade in list of dictionaries from 1969 to 2019.\n",
    "\n",
    "decades_cpi = [\n",
    "   {\"year\": 1979, \"cpi\": 72.6,},\n",
    "    {\"year\": 1989, \"cpi\": 124}, \n",
    "    {\"year\": 1999, \"cpi\": 166.6},\n",
    "    {\"year\": 2009, \"cpi\": 214.537},\n",
    "    {\"year\": 2019, \"cpi\": 255.657}\n",
    "              ]\n",
    "\n",
    "## Show the contents of this list of dictionaries\n"
   ]
  },
  {
   "cell_type": "code",
   "execution_count": null,
   "metadata": {},
   "outputs": [],
   "source": [
    "## What datatype is decades_cpi\n"
   ]
  },
  {
   "cell_type": "code",
   "execution_count": null,
   "metadata": {},
   "outputs": [],
   "source": [
    "## Check what type of data each list item is within decades_cpi\n"
   ]
  },
  {
   "cell_type": "code",
   "execution_count": null,
   "metadata": {},
   "outputs": [],
   "source": [
    "## Print out each value in this format:\n",
    "## \"key --> value\"\n"
   ]
  },
  {
   "cell_type": "markdown",
   "metadata": {},
   "source": [
    "### The key alternates between the strings \"year\" and \"cpi\" in this loop.\n",
    "\n",
    "### How do we actually target the values for \"year\" and \"cpi\" and place them in our calculations?"
   ]
  },
  {
   "cell_type": "code",
   "execution_count": null,
   "metadata": {},
   "outputs": [],
   "source": [
    "##place values so we can add to our calculations\n"
   ]
  },
  {
   "cell_type": "markdown",
   "metadata": {},
   "source": [
    "## We can now add these variables into our calculations:"
   ]
  },
  {
   "cell_type": "code",
   "execution_count": null,
   "metadata": {},
   "outputs": [],
   "source": [
    "## Loop through each salary and update its value for each decade\n"
   ]
  },
  {
   "cell_type": "markdown",
   "metadata": {},
   "source": [
    "## 4. Conditional Statements"
   ]
  },
  {
   "cell_type": "code",
   "execution_count": null,
   "metadata": {},
   "outputs": [],
   "source": [
    "## create a list of 10 random numbers anywhere from -100 to 100 \n",
    "##name the list numbers\n",
    "import random\n",
    "numbers = random.sample(range(-100, 100), 10)\n",
    "numbers"
   ]
  },
  {
   "cell_type": "code",
   "execution_count": null,
   "metadata": {},
   "outputs": [],
   "source": [
    "## create conditional statements that tell us if the last number and the penultimate number\n",
    "## are positive or negative\n",
    "## print a sentence that reads:\n",
    "## \"The last number [what is it?] is [positive or negative] while \n",
    "## the penultimate number [what is it?] is [negative or positive].\"\n"
   ]
  },
  {
   "cell_type": "markdown",
   "metadata": {},
   "source": [
    "<img src=\"../support_files/scraped-etf.png\" style=\"width: 50%;\">\n",
    "\n",
    "To produce the chart above, we had to scrape the numbers from text published in articles. The numbers, however, were in string format with words like \"million\", \"billion\" and \"trillion\" describing their magnitude:\n",
    "\n",
    "<img src=\"../support_files/magnitude.png\" style=\"width: 100%;\">\n",
    "\n",
    "In order to run calculations on them, we had to convert them to floating point numbers.\n",
    "\n",
    "Take the excerpt list below called big_numbers and convert each item in the list to a floating point number. You will have to use basic math and conditional statements."
   ]
  },
  {
   "cell_type": "code",
   "execution_count": null,
   "metadata": {},
   "outputs": [],
   "source": [
    "big_numbers = [\n",
    "    \"130.4 million\", \n",
    "    \"67.2 million\", \n",
    "    \"125.4 million\", \n",
    "    \"5.04 million\", \n",
    "    \"1.3 billion\", \n",
    "    \"2.2 trillion\", \n",
    "    \"7.2 million\", \n",
    "    \"3.1 billion\"\n",
    "]\n",
    "\n",
    "## show the list\n"
   ]
  },
  {
   "cell_type": "code",
   "execution_count": null,
   "metadata": {},
   "outputs": [],
   "source": [
    "## create a for loop with conditional statements which \n",
    "## converts string numbers to floating point\n",
    "\n",
    "    "
   ]
  },
  {
   "cell_type": "markdown",
   "metadata": {},
   "source": [
    "### The scraped text actually included the dollar sign along with the number. We'll have to remove the dollar sign to successfully run calculations on the numbers."
   ]
  },
  {
   "cell_type": "code",
   "execution_count": null,
   "metadata": {},
   "outputs": [],
   "source": [
    "dollar_numbers = [\n",
    "    \"$130.4 million\", \n",
    "    \"$67.2 million\", \n",
    "    \"$125.4 million\", \n",
    "    \"$5.04 million\", \n",
    "    \"$1.3 billion\", \n",
    "    \"$2.2 trillion\", \n",
    "    \"$7.2 million\", \n",
    "    \"$3.1 billion\"\n",
    "]\n",
    "## show the list\n"
   ]
  },
  {
   "cell_type": "code",
   "execution_count": null,
   "metadata": {},
   "outputs": [],
   "source": [
    "## create a for loop with conditional statements which \n",
    "## converts string numbers to floating point but without the $ sign\n"
   ]
  },
  {
   "cell_type": "markdown",
   "metadata": {},
   "source": [
    "# DRY\n",
    "\n",
    "### Coding Ethos\n",
    "\n",
    "### \"Don't Repeat Yourself!\""
   ]
  },
  {
   "cell_type": "code",
   "execution_count": null,
   "metadata": {},
   "outputs": [],
   "source": [
    "dollar_numbers = [\"$130.4 million\", \"$67.2 million\", \"$125.4 million\", \"$5.04 million\", \"$1.3 billion\", \"$2.2 trillion\", \"$7.2 million\", \"$3.1 billion\"]\n",
    "dollar_numbers"
   ]
  },
  {
   "cell_type": "code",
   "execution_count": null,
   "metadata": {},
   "outputs": [],
   "source": [
    "## Let's make the code a little DRYer.\n",
    "## You already have the skills!\n"
   ]
  },
  {
   "cell_type": "markdown",
   "metadata": {},
   "source": [
    "### The previous examples result only in printed numbers -- not numbers stored in memory.\n",
    "\n"
   ]
  },
  {
   "cell_type": "code",
   "execution_count": null,
   "metadata": {},
   "outputs": [],
   "source": [
    "## Let's tweak the code to store the floating point numbers in a list.\n"
   ]
  },
  {
   "cell_type": "code",
   "execution_count": null,
   "metadata": {},
   "outputs": [],
   "source": [
    "## Confirm the numbers in the list are actually floats\n"
   ]
  },
  {
   "cell_type": "markdown",
   "metadata": {},
   "source": [
    "## 5. Error Handling"
   ]
  },
  {
   "cell_type": "code",
   "execution_count": null,
   "metadata": {},
   "outputs": [],
   "source": [
    "## We have a list of numbers.\n",
    "## we want square each in our calculation \n",
    "mylist = [1, 2, 3, \"four\", 5]"
   ]
  },
  {
   "cell_type": "code",
   "execution_count": null,
   "metadata": {},
   "outputs": [],
   "source": [
    "## write a for loop that squares each number\n"
   ]
  },
  {
   "cell_type": "code",
   "execution_count": null,
   "metadata": {},
   "outputs": [],
   "source": [
    "## You might run into an error\n",
    "## write an Try Except statement within the for loop \n",
    "\n",
    "    "
   ]
  },
  {
   "cell_type": "code",
   "execution_count": null,
   "metadata": {},
   "outputs": [],
   "source": [
    "## Refine by specifying the type of error\n"
   ]
  },
  {
   "cell_type": "code",
   "execution_count": null,
   "metadata": {},
   "outputs": [],
   "source": [
    "## Refine the code so that a message is stored in the list alerting us\n",
    "## that the string could not be squared\n",
    "\n",
    "        \n",
    "    "
   ]
  },
  {
   "cell_type": "code",
   "execution_count": null,
   "metadata": {},
   "outputs": [],
   "source": [
    "moreNumbers = [1, 2, 3, \"four\", 5, \"six\", 7, 8, \"nine\"]"
   ]
  },
  {
   "cell_type": "code",
   "execution_count": null,
   "metadata": {},
   "outputs": [],
   "source": [
    "## Refine the code so we see a list with squared numbers and\n",
    "## a list with strings that could not be squared.\n"
   ]
  },
  {
   "cell_type": "code",
   "execution_count": null,
   "metadata": {},
   "outputs": [],
   "source": []
  }
 ],
 "metadata": {
  "kernelspec": {
   "display_name": "Python 3",
   "language": "python",
   "name": "python3"
  },
  "language_info": {
   "codemirror_mode": {
    "name": "ipython",
    "version": 3
   },
   "file_extension": ".py",
   "mimetype": "text/x-python",
   "name": "python",
   "nbconvert_exporter": "python",
   "pygments_lexer": "ipython3",
   "version": "3.7.4"
  }
 },
 "nbformat": 4,
 "nbformat_minor": 2
}
