{
 "cells": [
  {
   "cell_type": "markdown",
   "metadata": {},
   "source": [
    "# Week 4 - Flow Control with Conditionals and Error Handling"
   ]
  },
  {
   "cell_type": "markdown",
   "metadata": {},
   "source": [
    "## The following play critical roles:  \n",
    "\n",
    "### 1. Conditional Statements - adding logic to our statements.\n",
    "\n",
    "### 2. Error Handling - getting around problems our code may encounter.\n",
    "\n"
   ]
  },
  {
   "cell_type": "markdown",
   "metadata": {},
   "source": [
    "## 1. Conditional Statements"
   ]
  },
  {
   "cell_type": "code",
   "execution_count": null,
   "metadata": {},
   "outputs": [],
   "source": [
    "## create a list of 10 random numbers anywhere from -100 to 100 \n",
    "##name the list numbers\n",
    "import random\n",
    "numbers = random.sample(range(-100, 100), 10)\n",
    "numbers"
   ]
  },
  {
   "cell_type": "code",
   "execution_count": null,
   "metadata": {},
   "outputs": [],
   "source": [
    "## create conditional statements that tell us if the last number and the penultimate number\n",
    "## are positive or negative\n",
    "## print a sentence that reads:\n",
    "## \"The last number [what is it?] is [positive or negative] while \n",
    "## the penultimate number [what is it?] is [negative or positive].\"\n",
    "if numbers[-2] > 0:\n",
    "    almost_last_status = \"positive\"\n",
    "    \n",
    "else: almost_last_status = \"negative\"\n",
    "        \n",
    "if numbers[-1] > 0:\n",
    "    last_status = \"positive\"\n",
    "else: last_status = \"negative\"\n",
    "        \n",
    "print(f\"The last number ({numbers[-1]}) is {last_status} while \\\n",
    "the second to last number({numbers[-2]}) is {almost_last_status}\")"
   ]
  },
  {
   "cell_type": "markdown",
   "metadata": {},
   "source": [
    "## Conditionals at work:"
   ]
  },
  {
   "cell_type": "markdown",
   "metadata": {},
   "source": [
    "<img src=\"support_files/scraped-etf.PNG\" style=\"width: 50%;\">\n",
    "\n",
    "To produce the chart above, we had to scrape the numbers from text published in articles. The numbers, however, were in string format with words like \"million\", \"billion\" and \"trillion\" describing their magnitude:\n",
    "\n",
    "<img src=\"support_files/magnitude.png\" style=\"width: 100%;\">\n",
    "\n",
    "In order to run calculations on them, we had to convert them to floating point numbers.\n",
    "\n",
    "Take the excerpt list below called big_numbers and convert each item in the list to a floating point number. You will have to use basic math and conditional statements."
   ]
  },
  {
   "cell_type": "code",
   "execution_count": null,
   "metadata": {},
   "outputs": [],
   "source": [
    "big_numbers = [\n",
    "    \"130.4 million\", \n",
    "    \"67.2 million\", \n",
    "    \"125.4 million\", \n",
    "    \"5.04 million\", \n",
    "    \"1.3 billion\", \n",
    "    \"2.2 trillion\", \n",
    "    \"7.2 million\", \n",
    "    \"3.1 billion\"\n",
    "]\n",
    "big_numbers"
   ]
  },
  {
   "cell_type": "code",
   "execution_count": null,
   "metadata": {},
   "outputs": [],
   "source": [
    "## Time for conditionals:\n",
    "for each_number in big_numbers:\n",
    "    items = each_number.split()\n",
    "    print(items)\n",
    "    if items[1] == \"million\":\n",
    "        number = float(items[0]) * 1_000_000\n",
    "        print(number)\n",
    "        \n",
    "    elif items[1] == \"billion\":\n",
    "            number = float(items[0]) * 1_000_000_000\n",
    "            print(number)\n",
    "    elif items[1] == \"trillion\":\n",
    "            number = float(items[0]) * 1E12\n",
    "            print(number)\n",
    "    else:\n",
    "        print(\"not million, billions or trillions\")\n",
    "    "
   ]
  },
  {
   "cell_type": "markdown",
   "metadata": {},
   "source": [
    "### The scraped text actually included the dollar sign along with the number. We'll have to remove the dollar sign to successfully run calculations on the numbers."
   ]
  },
  {
   "cell_type": "code",
   "execution_count": null,
   "metadata": {},
   "outputs": [],
   "source": [
    "dollar_numbers = [\n",
    "    \"$130.4 million\", \n",
    "    \"$67.2 million\", \n",
    "    \"$125.4 million\", \n",
    "    \"$5.04 million\", \n",
    "    \"$1.3 billion\", \n",
    "    \"$2.2 trillion\", \n",
    "    \"$7.2 million\", \n",
    "    \"$3.1 billion\"\n",
    "]\n",
    "dollar_numbers"
   ]
  },
  {
   "cell_type": "code",
   "execution_count": null,
   "metadata": {},
   "outputs": [],
   "source": [
    "## Tweak the previous conditional we wrote to also remove the $ signs and \n",
    "## return only the numbers:\n"
   ]
  },
  {
   "cell_type": "markdown",
   "metadata": {},
   "source": [
    "# DRY\n",
    "\n",
    "### Coding Ethos\n",
    "\n",
    "### \"Don't Repeat Yourself!\""
   ]
  },
  {
   "cell_type": "code",
   "execution_count": null,
   "metadata": {},
   "outputs": [],
   "source": [
    "dollar_numbers = [\"$130.4 million\", \"$67.2 million\", \"$125.4 million\", \"$5.04 million\", \"$1.3 billion\", \"$2.2 trillion\", \"$7.2 million\", \"$3.1 billion\"]\n",
    "dollar_numbers"
   ]
  },
  {
   "cell_type": "code",
   "execution_count": null,
   "metadata": {},
   "outputs": [],
   "source": [
    "## Let's make the code a little DRYer.\n",
    "## You already have the skills!\n"
   ]
  },
  {
   "cell_type": "markdown",
   "metadata": {},
   "source": [
    "### The previous examples result only in printed numbers -- not numbers stored in memory.\n",
    "\n"
   ]
  },
  {
   "cell_type": "code",
   "execution_count": null,
   "metadata": {},
   "outputs": [],
   "source": [
    "## Let's tweak the code to store the floating point numbers in a list.\n"
   ]
  },
  {
   "cell_type": "code",
   "execution_count": null,
   "metadata": {},
   "outputs": [],
   "source": [
    "## Confirm the numbers in the list are actually floats\n"
   ]
  },
  {
   "cell_type": "markdown",
   "metadata": {},
   "source": [
    "## 2. Error Handling"
   ]
  },
  {
   "cell_type": "code",
   "execution_count": null,
   "metadata": {},
   "outputs": [],
   "source": [
    "## We have a list of numbers.\n",
    "## we want square each in our calculation \n",
    "mylist = [1, 2, 3, \"four\", 5]"
   ]
  },
  {
   "cell_type": "code",
   "execution_count": null,
   "metadata": {},
   "outputs": [],
   "source": [
    "## write a for loop that squares each number in the list\n"
   ]
  },
  {
   "cell_type": "code",
   "execution_count": null,
   "metadata": {},
   "outputs": [],
   "source": [
    "## How do we get around the code breaking everytime it hits an error?\n",
    "\n",
    "  "
   ]
  },
  {
   "cell_type": "code",
   "execution_count": null,
   "metadata": {},
   "outputs": [],
   "source": [
    "## You can even tell it what type of error it might encounter\n"
   ]
  },
  {
   "cell_type": "code",
   "execution_count": null,
   "metadata": {},
   "outputs": [],
   "source": [
    "## Store each square into an updated list called updated_numbers\n",
    "     \n",
    "    \n",
    "     \n",
    "    "
   ]
  },
  {
   "cell_type": "markdown",
   "metadata": {},
   "source": [
    "### We need to track which items in the list were NOT correctly processed"
   ]
  },
  {
   "cell_type": "code",
   "execution_count": null,
   "metadata": {},
   "outputs": [],
   "source": [
    "moreNumbers = [1, 2, 3, \"four\", 5, \"six\", 7, 8, \"nine\"]"
   ]
  },
  {
   "cell_type": "code",
   "execution_count": null,
   "metadata": {},
   "outputs": [],
   "source": [
    "## write some code that returns an updated_numbers list AND\n",
    "## also a failed list called incomplete\n"
   ]
  },
  {
   "cell_type": "code",
   "execution_count": null,
   "metadata": {},
   "outputs": [],
   "source": []
  }
 ],
 "metadata": {
  "kernelspec": {
   "display_name": "Python 3",
   "language": "python",
   "name": "python3"
  },
  "language_info": {
   "codemirror_mode": {
    "name": "ipython",
    "version": 3
   },
   "file_extension": ".py",
   "mimetype": "text/x-python",
   "name": "python",
   "nbconvert_exporter": "python",
   "pygments_lexer": "ipython3",
   "version": "3.7.4"
  }
 },
 "nbformat": 4,
 "nbformat_minor": 2
}
