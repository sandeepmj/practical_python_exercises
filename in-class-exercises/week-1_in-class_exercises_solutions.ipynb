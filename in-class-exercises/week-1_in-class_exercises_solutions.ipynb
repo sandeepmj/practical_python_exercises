{
 "cells": [
  {
   "cell_type": "markdown",
   "metadata": {},
   "source": [
    "# Week 1 - Course Overview & Setup (Solutions)\n"
   ]
  },
  {
   "cell_type": "markdown",
   "metadata": {},
   "source": [
    "## Working with Numbers\n",
    "\n"
   ]
  },
  {
   "cell_type": "code",
   "execution_count": 11,
   "metadata": {},
   "outputs": [
    {
     "name": "stdout",
     "output_type": "stream",
     "text": [
      "This number is $30,000,000,000.00\n"
     ]
    }
   ],
   "source": [
    "## create a variable called num equal to 30 billion in scientific notation\n",
    "## print it as \"This number is $30,000,000,000.00\" using f-string literal (2 decimal places)\n",
    "num = 3E10\n",
    "print(f\"This number is ${num:,.2f}\")"
   ]
  },
  {
   "cell_type": "code",
   "execution_count": 2,
   "metadata": {},
   "outputs": [
    {
     "name": "stdout",
     "output_type": "stream",
     "text": [
      "This number is $30,000,000,000\n"
     ]
    }
   ],
   "source": [
    "## create a variable called num2 equal to 30 billion in scientific notation\n",
    "## Print it like you did above but to no decimal places.\n",
    "\n",
    "num2 = 3E10\n",
    "print(f\"This number is ${num2:,.0f}\")"
   ]
  },
  {
   "cell_type": "code",
   "execution_count": 6,
   "metadata": {},
   "outputs": [
    {
     "name": "stdout",
     "output_type": "stream",
     "text": [
      "300000000000000\n"
     ]
    }
   ],
   "source": [
    "## create a variable called \"big_number\" that holds the integer 300 trillion\n",
    "## use thousands separator/digit group separator to make it easier to read\n",
    "## do NOT use scientific notation\n",
    "## when you print the number, it should look like this: 300000000000000\n",
    "big_number = 300_000_000_000_000\n",
    "# print(type(big_number))\n",
    "print(big_number)"
   ]
  },
  {
   "cell_type": "code",
   "execution_count": 7,
   "metadata": {},
   "outputs": [
    {
     "name": "stdout",
     "output_type": "stream",
     "text": [
      "300,000,000,000,000\n"
     ]
    }
   ],
   "source": [
    "## Print the same number but with thousands comma separators\n",
    "print(f'{big_number:,.0f}')"
   ]
  },
  {
   "cell_type": "code",
   "execution_count": null,
   "metadata": {},
   "outputs": [],
   "source": [
    "## remove all duplicate values and place in a list called updated_list\n",
    "original_list = [3, 4, 12, 14, 3, 7, 12, 8, 22, 7, 8, 101, 43, 62, 7, 92, 1, 3, 17, 19, 47]\n",
    "updated_list = list(set(original_list))\n",
    "updated_list"
   ]
  },
  {
   "cell_type": "markdown",
   "metadata": {},
   "source": [
    "#### Use the following list to complete exercises:"
   ]
  },
  {
   "cell_type": "code",
   "execution_count": 5,
   "metadata": {},
   "outputs": [],
   "source": [
    "currency_list = [\"U.S. Dollar\", \"Russian Ruble\", \"Indian Rupee\", \"Mexican Peso\", \"British Pound\" ]"
   ]
  },
  {
   "cell_type": "code",
   "execution_count": 6,
   "metadata": {},
   "outputs": [
    {
     "data": {
      "text/plain": [
       "'British Pound'"
      ]
     },
     "execution_count": 6,
     "metadata": {},
     "output_type": "execute_result"
    }
   ],
   "source": [
    "## print the last item in the list above\n",
    "currency_list[-1]"
   ]
  },
  {
   "cell_type": "code",
   "execution_count": null,
   "metadata": {},
   "outputs": [],
   "source": [
    "## print the first item in the list above\n",
    "currency_list[0]"
   ]
  },
  {
   "cell_type": "code",
   "execution_count": null,
   "metadata": {},
   "outputs": [],
   "source": [
    "## print the 2nd and 3rd items in the list above\n",
    "currency_list[1:3]"
   ]
  },
  {
   "cell_type": "code",
   "execution_count": null,
   "metadata": {},
   "outputs": [],
   "source": [
    "## rename the \"U.S. Dollar\" as \"American Dollar\"\n",
    "currency_list[0] = \"American Dollar\"\n",
    "currency_list"
   ]
  },
  {
   "cell_type": "code",
   "execution_count": null,
   "metadata": {},
   "outputs": [],
   "source": [
    "# add the 'Turkish Lira' to the list\n",
    "currency_list.append(\"Turkish Lira\")\n",
    "currency_list"
   ]
  },
  {
   "cell_type": "code",
   "execution_count": null,
   "metadata": {},
   "outputs": [],
   "source": [
    "## add multiple additional currencies to currency_list\n",
    "more_currency = [\"European Union Euro\", \"Chinese Yuan\", \"Japanese Yen\"]\n",
    "currency_list.extend(more_currency)\n",
    "currency_list"
   ]
  },
  {
   "cell_type": "markdown",
   "metadata": {},
   "source": [
    "### Use the following dictionary for the next tasks."
   ]
  },
  {
   "cell_type": "code",
   "execution_count": 1,
   "metadata": {},
   "outputs": [
    {
     "data": {
      "text/plain": [
       "{'country': 'United States',\n",
       " 'population': 329450000,\n",
       " 'currency': 'dollar',\n",
       " 'capital': 'Washington, D.C.',\n",
       " 'GDP': 20490000000000.0}"
      ]
     },
     "execution_count": 1,
     "metadata": {},
     "output_type": "execute_result"
    }
   ],
   "source": [
    "country_stats_dict = {\"country\": \"United States\", \"population\": 329_450_000, \"currency\": \"dollar\", \"capital\": \"Washington, D.C.\", \"GDP\": 2049e10 }\n",
    "country_stats_dict"
   ]
  },
  {
   "cell_type": "markdown",
   "metadata": {},
   "source": [
    "### Place all the keys in a list called keys_list"
   ]
  },
  {
   "cell_type": "code",
   "execution_count": 2,
   "metadata": {},
   "outputs": [
    {
     "data": {
      "text/plain": [
       "dict_keys(['country', 'population', 'currency', 'capital', 'GDP'])"
      ]
     },
     "execution_count": 2,
     "metadata": {},
     "output_type": "execute_result"
    }
   ],
   "source": [
    "keys_list = country_stats_dict.keys()\n",
    "keys_list"
   ]
  },
  {
   "cell_type": "markdown",
   "metadata": {},
   "source": [
    "###  Place all the values in a list called values_list:"
   ]
  },
  {
   "cell_type": "code",
   "execution_count": 3,
   "metadata": {},
   "outputs": [
    {
     "data": {
      "text/plain": [
       "dict_values(['United States', 329450000, 'dollar', 'Washington, D.C.', 20490000000000.0])"
      ]
     },
     "execution_count": 3,
     "metadata": {},
     "output_type": "execute_result"
    }
   ],
   "source": [
    "values_list = country_stats_dict.values()\n",
    "values_list"
   ]
  },
  {
   "cell_type": "markdown",
   "metadata": {},
   "source": [
    "### What are relevant journalistic uses for the various methods above?\n",
    "\n",
    "#### 1. Making numbers more readable (using f-string literal formatting)\n",
    "#### 2. Organizing data points after acquiring them through scraping (creating lists, dictionaries and lists of dictionaries)\n",
    "#### 3. Confirming that we have unique values (or removing duplicates in a data set)\n",
    "#### 4. Creating column headers to prepare data for export to a CSV file"
   ]
  },
  {
   "cell_type": "markdown",
   "metadata": {},
   "source": [
    "### Use the following list of dictionaries in the next tasks:"
   ]
  },
  {
   "cell_type": "code",
   "execution_count": 4,
   "metadata": {},
   "outputs": [
    {
     "data": {
      "text/plain": [
       "[{'country': 'United States',\n",
       "  'population': 329450000,\n",
       "  'currency': 'Dollar',\n",
       "  'capital': 'Washington, D.C.',\n",
       "  'GDP': 20490000000000.0},\n",
       " {'country': 'Russia',\n",
       "  'population': 145870000,\n",
       "  'currency': 'Ruble',\n",
       "  'capital': 'Moscow',\n",
       "  'GDP': 3400000000000.0}]"
      ]
     },
     "execution_count": 4,
     "metadata": {},
     "output_type": "execute_result"
    }
   ],
   "source": [
    "country_stats_dict_list = [{\"country\": \"United States\", \"population\": 329_450_000, \"currency\": \"Dollar\", \"capital\": \"Washington, D.C.\", \"GDP\": 2049e10 },\n",
    "                          {\"country\": \"Russia\", \"population\": 145_870_000, \"currency\": \"Ruble\", \"capital\": \"Moscow\", \"GDP\": 34e11 }\n",
    "                          ]\n",
    "country_stats_dict_list"
   ]
  },
  {
   "cell_type": "markdown",
   "metadata": {},
   "source": [
    "## Real-world Exercise 1 - Prepare data for export to CSV\n",
    "\n",
    "\n",
    "**Background:**\n",
    "\n",
    "We have an excerpt of a list of dictionaries that contains results of keyword-searches of all of Putin's annual press conferences since 2001 to 2019.\n",
    "\n",
    "After scraping the text from the Kremlin site, we ran a natural language analysis and counted the frequency of keywords each year. We now need to export the NL analysis to a CSV file so we can analyze the numbers.\n",
    "\n",
    "**Exercise:**\n",
    "\n",
    "Prepare the provided **List of Dictionaries** for export as a CSV file by creating the required column headers based on the dictionary keys.\n",
    "\n"
   ]
  },
  {
   "cell_type": "code",
   "execution_count": 7,
   "metadata": {},
   "outputs": [],
   "source": [
    "putin_words_list_of_dicts = [{'word': 'wto', 'count': 16, 'date': '24-Jun-02'}, {'word': 'nato', 'count': 8, 'date': '24-Jun-02'}, {'word': 'energy', 'count': 5, 'date': '24-Jun-02'}, {'word': 'oil', 'count': 3, 'date': '24-Jun-02'}, {'word': 'gas', 'count': 6, 'date': '24-Jun-02'}, {'word': 'coal', 'count': 0, 'date': '24-Jun-02'}, {'word': 'gazprom', 'count': 0, 'date': '24-Jun-02'}, {'word': 'nuclear', 'count': 2, 'date': '24-Jun-02'}, {'word': 'missile(s)', 'count': 0, 'date': '24-Jun-02'}, {'word': 'war', 'count': 3, 'date': '24-Jun-02'}, {'word': 'military', 'count': 3, 'date': '24-Jun-02'}, {'word': 'sovereignty', 'count': 6, 'date': '24-Jun-02'}, {'word': 'ruble(s)', 'count': 0, 'date': '24-Jun-02'}, {'word': 'inflation', 'count': 0, 'date': '24-Jun-02'}, {'word': 'economy', 'count': 22, 'date': '24-Jun-02'}, {'word': 'market(s)', 'count': 8, 'date': '24-Jun-02'}, {'word': 'corruption', 'count': 0, 'date': '24-Jun-02'}, {'word': 'poverty', 'count': 1, 'date': '24-Jun-02'}, {'word': 'authoritarian', 'count': 0, 'date': '24-Jun-02'}, {'word': 'democracy', 'count': 0, 'date': '24-Jun-02'}, {'word': 'election(s)', 'count': 1, 'date': '24-Jun-02'}, {'word': 'oligarch', 'count': 0, 'date': '24-Jun-02'}, {'word': 'apec', 'count': 0, 'date': '24-Jun-02'}, {'word': 'china', 'count': 2, 'date': '24-Jun-02'}, {'word': 'iran', 'count': 0, 'date': '24-Jun-02'}, {'word': 'georgia', 'count': 10, 'date': '24-Jun-02'}, {'word': 'crimea', 'count': 0, 'date': '24-Jun-02'}, {'word': 'ukraine-related', 'count': 14, 'date': '24-Jun-02'}, {'word': 'usa', 'count': 0, 'date': '24-Jun-02'}, {'word': 'shtokman', 'count': 0, 'date': '24-Jun-02'}, {'word': 'syria', 'count': 0, 'date': '24-Jun-02'}, {'word': 'chechen-related', 'count': 20, 'date': '24-Jun-02'}, {'word': 'africa', 'count': 0, 'date': '24-Jun-02'}, {'word': 'america', 'count': 0, 'date': '24-Jun-02'}, {'word': 'trump', 'count': 0, 'date': '24-Jun-02'}, {'word': 'obama', 'count': 0, 'date': '24-Jun-02'}, {'word': 'merkel', 'count': 0, 'date': '24-Jun-02'}, {'word': 'bush', 'count': 0, 'date': '24-Jun-02'}, {'word': 'clinton', 'count': 0, 'date': '24-Jun-02'}, {'word': 'schroeder', 'count': 1, 'date': '24-Jun-02'}, {'word': 'khodorkovsky', 'count': 0, 'date': '24-Jun-02'}, {'word': 'medvedev', 'count': 0, 'date': '24-Jun-02'}, {'word': 'terror(ism)', 'count': 5, 'date': '24-Jun-02'}, {'word': 'superpower', 'count': 0, 'date': '24-Jun-02'}, {'word': 'kgb', 'count': 0, 'date': '24-Jun-02'}, {'word': 'family', 'count': 0, 'date': '24-Jun-02'}, {'word': 'homosexual', 'count': 0, 'date': '24-Jun-02'}, {'word': 'gay', 'count': 0, 'date': '24-Jun-02'}, {'word': 'deviant', 'count': 0, 'date': '24-Jun-02'}, {'word': 'protest', 'count': 0, 'date': '24-Jun-02'}, {'word': 'muslim', 'count': 0, 'date': '24-Jun-02'}, {'word': 'islam', 'count': 0, 'date': '24-Jun-02'}, {'word': 'world trade organization', 'count': 0, 'date': '24-Jun-02'}, {'word': 'energy market', 'count': 0, 'date': '24-Jun-02'}, {'word': 'oil pipeline', 'count': 0, 'date': '24-Jun-02'}, {'word': 'gas pipeline', 'count': 2, 'date': '24-Jun-02'}, {'word': 'pipeline', 'count': 2, 'date': '24-Jun-02'}, {'word': 'north atlantic bloc', 'count': 0, 'date': '24-Jun-02'}, {'word': 'central bank', 'count': 0, 'date': '24-Jun-02'}, {'word': 'multiculturalism', 'count': 0, 'date': '24-Jun-02'}, {'word': 'multicultural', 'count': 0, 'date': '24-Jun-02'}, {'word': 'engergy superpower', 'count': 0, 'date': '24-Jun-02'}, {'word': 'america(n)/u.s.', 'count': 2, 'date': '24-Jun-02'}, {'word': 'security service (FSB)', 'count': 1, 'date': '24-Jun-02'}, {'word': 'foreign intelligence service', 'count': 0, 'date': '24-Jun-02'}, {'word': 'wto', 'count': 0, 'date': '18-Jul-01'}, {'word': 'nato', 'count': 5, 'date': '18-Jul-01'}, {'word': 'energy', 'count': 0, 'date': '18-Jul-01'}, {'word': 'oil', 'count': 0, 'date': '18-Jul-01'}, {'word': 'gas', 'count': 0, 'date': '18-Jul-01'}, {'word': 'coal', 'count': 0, 'date': '18-Jul-01'}, {'word': 'gazprom', 'count': 0, 'date': '18-Jul-01'}, {'word': 'nuclear', 'count': 1, 'date': '18-Jul-01'}, {'word': 'missile(s)', 'count': 0, 'date': '18-Jul-01'}, {'word': 'war', 'count': 2, 'date': '18-Jul-01'}, {'word': 'military', 'count': 5, 'date': '18-Jul-01'}, {'word': 'sovereignty', 'count': 0, 'date': '18-Jul-01'}, {'word': 'ruble(s)', 'count': 0, 'date': '18-Jul-01'}, {'word': 'inflation', 'count': 0, 'date': '18-Jul-01'}, {'word': 'economy', 'count': 10, 'date': '18-Jul-01'}, {'word': 'market(s)', 'count': 0, 'date': '18-Jul-01'}, {'word': 'corruption', 'count': 0, 'date': '18-Jul-01'}, {'word': 'poverty', 'count': 1, 'date': '18-Jul-01'}, {'word': 'authoritarian', 'count': 0, 'date': '18-Jul-01'}, {'word': 'democracy', 'count': 1, 'date': '18-Jul-01'}, {'word': 'election(s)', 'count': 1, 'date': '18-Jul-01'}, {'word': 'oligarch', 'count': 0, 'date': '18-Jul-01'}, {'word': 'apec', 'count': 0, 'date': '18-Jul-01'}, {'word': 'china', 'count': 6, 'date': '18-Jul-01'}, {'word': 'iran', 'count': 0, 'date': '18-Jul-01'}, {'word': 'georgia', 'count': 0, 'date': '18-Jul-01'}, {'word': 'crimea', 'count': 0, 'date': '18-Jul-01'}, {'word': 'ukraine-related', 'count': 0, 'date': '18-Jul-01'}, {'word': 'usa', 'count': 0, 'date': '18-Jul-01'}, {'word': 'shtokman', 'count': 0, 'date': '18-Jul-01'}, {'word': 'syria', 'count': 1, 'date': '18-Jul-01'}, {'word': 'chechen-related', 'count': 12, 'date': '18-Jul-01'}, {'word': 'africa', 'count': 0, 'date': '18-Jul-01'}, {'word': 'america', 'count': 0, 'date': '18-Jul-01'}, {'word': 'trump', 'count': 0, 'date': '18-Jul-01'}, {'word': 'obama', 'count': 0, 'date': '18-Jul-01'}, {'word': 'merkel', 'count': 0, 'date': '18-Jul-01'}, {'word': 'bush', 'count': 2, 'date': '18-Jul-01'}, {'word': 'clinton', 'count': 0, 'date': '18-Jul-01'}, {'word': 'schroeder', 'count': 0, 'date': '18-Jul-01'}, {'word': 'khodorkovsky', 'count': 0, 'date': '18-Jul-01'}, {'word': 'medvedev', 'count': 0, 'date': '18-Jul-01'}, {'word': 'terror(ism)', 'count': 0, 'date': '18-Jul-01'}, {'word': 'superpower', 'count': 0, 'date': '18-Jul-01'}, {'word': 'kgb', 'count': 0, 'date': '18-Jul-01'}, {'word': 'family', 'count': 0, 'date': '18-Jul-01'}, {'word': 'homosexual', 'count': 0, 'date': '18-Jul-01'}, {'word': 'gay', 'count': 0, 'date': '18-Jul-01'}, {'word': 'deviant', 'count': 0, 'date': '18-Jul-01'}, {'word': 'protest', 'count': 0, 'date': '18-Jul-01'}, {'word': 'muslim', 'count': 2, 'date': '18-Jul-01'}, {'word': 'islam', 'count': 0, 'date': '18-Jul-01'}, {'word': 'world trade organization', 'count': 0, 'date': '18-Jul-01'}, {'word': 'energy market', 'count': 0, 'date': '18-Jul-01'}, {'word': 'oil pipeline', 'count': 0, 'date': '18-Jul-01'}, {'word': 'gas pipeline', 'count': 0, 'date': '18-Jul-01'}, {'word': 'pipeline', 'count': 0, 'date': '18-Jul-01'}, {'word': 'north atlantic bloc', 'count': 0, 'date': '18-Jul-01'}, {'word': 'central bank', 'count': 0, 'date': '18-Jul-01'}, {'word': 'multiculturalism', 'count': 0, 'date': '18-Jul-01'}, {'word': 'multicultural', 'count': 0, 'date': '18-Jul-01'}, {'word': 'engergy superpower', 'count': 0, 'date': '18-Jul-01'}, {'word': 'america(n)/u.s.', 'count': 3, 'date': '18-Jul-01'}, {'word': 'security service (FSB)', 'count': 0, 'date': '18-Jul-01'}, {'word': 'foreign intelligence service', 'count': 0, 'date': '18-Jul-01'}]"
   ]
  },
  {
   "cell_type": "markdown",
   "metadata": {},
   "source": [
    "#### Let's take a look at this list of dictionaries:"
   ]
  },
  {
   "cell_type": "code",
   "execution_count": 8,
   "metadata": {},
   "outputs": [
    {
     "data": {
      "text/plain": [
       "[{'word': 'wto', 'count': 16, 'date': '24-Jun-02'},\n",
       " {'word': 'nato', 'count': 8, 'date': '24-Jun-02'},\n",
       " {'word': 'energy', 'count': 5, 'date': '24-Jun-02'},\n",
       " {'word': 'oil', 'count': 3, 'date': '24-Jun-02'},\n",
       " {'word': 'gas', 'count': 6, 'date': '24-Jun-02'},\n",
       " {'word': 'coal', 'count': 0, 'date': '24-Jun-02'},\n",
       " {'word': 'gazprom', 'count': 0, 'date': '24-Jun-02'},\n",
       " {'word': 'nuclear', 'count': 2, 'date': '24-Jun-02'},\n",
       " {'word': 'missile(s)', 'count': 0, 'date': '24-Jun-02'},\n",
       " {'word': 'war', 'count': 3, 'date': '24-Jun-02'},\n",
       " {'word': 'military', 'count': 3, 'date': '24-Jun-02'},\n",
       " {'word': 'sovereignty', 'count': 6, 'date': '24-Jun-02'},\n",
       " {'word': 'ruble(s)', 'count': 0, 'date': '24-Jun-02'},\n",
       " {'word': 'inflation', 'count': 0, 'date': '24-Jun-02'},\n",
       " {'word': 'economy', 'count': 22, 'date': '24-Jun-02'},\n",
       " {'word': 'market(s)', 'count': 8, 'date': '24-Jun-02'},\n",
       " {'word': 'corruption', 'count': 0, 'date': '24-Jun-02'},\n",
       " {'word': 'poverty', 'count': 1, 'date': '24-Jun-02'},\n",
       " {'word': 'authoritarian', 'count': 0, 'date': '24-Jun-02'},\n",
       " {'word': 'democracy', 'count': 0, 'date': '24-Jun-02'},\n",
       " {'word': 'election(s)', 'count': 1, 'date': '24-Jun-02'},\n",
       " {'word': 'oligarch', 'count': 0, 'date': '24-Jun-02'},\n",
       " {'word': 'apec', 'count': 0, 'date': '24-Jun-02'},\n",
       " {'word': 'china', 'count': 2, 'date': '24-Jun-02'},\n",
       " {'word': 'iran', 'count': 0, 'date': '24-Jun-02'},\n",
       " {'word': 'georgia', 'count': 10, 'date': '24-Jun-02'},\n",
       " {'word': 'crimea', 'count': 0, 'date': '24-Jun-02'},\n",
       " {'word': 'ukraine-related', 'count': 14, 'date': '24-Jun-02'},\n",
       " {'word': 'usa', 'count': 0, 'date': '24-Jun-02'},\n",
       " {'word': 'shtokman', 'count': 0, 'date': '24-Jun-02'},\n",
       " {'word': 'syria', 'count': 0, 'date': '24-Jun-02'},\n",
       " {'word': 'chechen-related', 'count': 20, 'date': '24-Jun-02'},\n",
       " {'word': 'africa', 'count': 0, 'date': '24-Jun-02'},\n",
       " {'word': 'america', 'count': 0, 'date': '24-Jun-02'},\n",
       " {'word': 'trump', 'count': 0, 'date': '24-Jun-02'},\n",
       " {'word': 'obama', 'count': 0, 'date': '24-Jun-02'},\n",
       " {'word': 'merkel', 'count': 0, 'date': '24-Jun-02'},\n",
       " {'word': 'bush', 'count': 0, 'date': '24-Jun-02'},\n",
       " {'word': 'clinton', 'count': 0, 'date': '24-Jun-02'},\n",
       " {'word': 'schroeder', 'count': 1, 'date': '24-Jun-02'},\n",
       " {'word': 'khodorkovsky', 'count': 0, 'date': '24-Jun-02'},\n",
       " {'word': 'medvedev', 'count': 0, 'date': '24-Jun-02'},\n",
       " {'word': 'terror(ism)', 'count': 5, 'date': '24-Jun-02'},\n",
       " {'word': 'superpower', 'count': 0, 'date': '24-Jun-02'},\n",
       " {'word': 'kgb', 'count': 0, 'date': '24-Jun-02'},\n",
       " {'word': 'family', 'count': 0, 'date': '24-Jun-02'},\n",
       " {'word': 'homosexual', 'count': 0, 'date': '24-Jun-02'},\n",
       " {'word': 'gay', 'count': 0, 'date': '24-Jun-02'},\n",
       " {'word': 'deviant', 'count': 0, 'date': '24-Jun-02'},\n",
       " {'word': 'protest', 'count': 0, 'date': '24-Jun-02'},\n",
       " {'word': 'muslim', 'count': 0, 'date': '24-Jun-02'},\n",
       " {'word': 'islam', 'count': 0, 'date': '24-Jun-02'},\n",
       " {'word': 'world trade organization', 'count': 0, 'date': '24-Jun-02'},\n",
       " {'word': 'energy market', 'count': 0, 'date': '24-Jun-02'},\n",
       " {'word': 'oil pipeline', 'count': 0, 'date': '24-Jun-02'},\n",
       " {'word': 'gas pipeline', 'count': 2, 'date': '24-Jun-02'},\n",
       " {'word': 'pipeline', 'count': 2, 'date': '24-Jun-02'},\n",
       " {'word': 'north atlantic bloc', 'count': 0, 'date': '24-Jun-02'},\n",
       " {'word': 'central bank', 'count': 0, 'date': '24-Jun-02'},\n",
       " {'word': 'multiculturalism', 'count': 0, 'date': '24-Jun-02'},\n",
       " {'word': 'multicultural', 'count': 0, 'date': '24-Jun-02'},\n",
       " {'word': 'engergy superpower', 'count': 0, 'date': '24-Jun-02'},\n",
       " {'word': 'america(n)/u.s.', 'count': 2, 'date': '24-Jun-02'},\n",
       " {'word': 'security service (FSB)', 'count': 1, 'date': '24-Jun-02'},\n",
       " {'word': 'foreign intelligence service', 'count': 0, 'date': '24-Jun-02'},\n",
       " {'word': 'wto', 'count': 0, 'date': '18-Jul-01'},\n",
       " {'word': 'nato', 'count': 5, 'date': '18-Jul-01'},\n",
       " {'word': 'energy', 'count': 0, 'date': '18-Jul-01'},\n",
       " {'word': 'oil', 'count': 0, 'date': '18-Jul-01'},\n",
       " {'word': 'gas', 'count': 0, 'date': '18-Jul-01'},\n",
       " {'word': 'coal', 'count': 0, 'date': '18-Jul-01'},\n",
       " {'word': 'gazprom', 'count': 0, 'date': '18-Jul-01'},\n",
       " {'word': 'nuclear', 'count': 1, 'date': '18-Jul-01'},\n",
       " {'word': 'missile(s)', 'count': 0, 'date': '18-Jul-01'},\n",
       " {'word': 'war', 'count': 2, 'date': '18-Jul-01'},\n",
       " {'word': 'military', 'count': 5, 'date': '18-Jul-01'},\n",
       " {'word': 'sovereignty', 'count': 0, 'date': '18-Jul-01'},\n",
       " {'word': 'ruble(s)', 'count': 0, 'date': '18-Jul-01'},\n",
       " {'word': 'inflation', 'count': 0, 'date': '18-Jul-01'},\n",
       " {'word': 'economy', 'count': 10, 'date': '18-Jul-01'},\n",
       " {'word': 'market(s)', 'count': 0, 'date': '18-Jul-01'},\n",
       " {'word': 'corruption', 'count': 0, 'date': '18-Jul-01'},\n",
       " {'word': 'poverty', 'count': 1, 'date': '18-Jul-01'},\n",
       " {'word': 'authoritarian', 'count': 0, 'date': '18-Jul-01'},\n",
       " {'word': 'democracy', 'count': 1, 'date': '18-Jul-01'},\n",
       " {'word': 'election(s)', 'count': 1, 'date': '18-Jul-01'},\n",
       " {'word': 'oligarch', 'count': 0, 'date': '18-Jul-01'},\n",
       " {'word': 'apec', 'count': 0, 'date': '18-Jul-01'},\n",
       " {'word': 'china', 'count': 6, 'date': '18-Jul-01'},\n",
       " {'word': 'iran', 'count': 0, 'date': '18-Jul-01'},\n",
       " {'word': 'georgia', 'count': 0, 'date': '18-Jul-01'},\n",
       " {'word': 'crimea', 'count': 0, 'date': '18-Jul-01'},\n",
       " {'word': 'ukraine-related', 'count': 0, 'date': '18-Jul-01'},\n",
       " {'word': 'usa', 'count': 0, 'date': '18-Jul-01'},\n",
       " {'word': 'shtokman', 'count': 0, 'date': '18-Jul-01'},\n",
       " {'word': 'syria', 'count': 1, 'date': '18-Jul-01'},\n",
       " {'word': 'chechen-related', 'count': 12, 'date': '18-Jul-01'},\n",
       " {'word': 'africa', 'count': 0, 'date': '18-Jul-01'},\n",
       " {'word': 'america', 'count': 0, 'date': '18-Jul-01'},\n",
       " {'word': 'trump', 'count': 0, 'date': '18-Jul-01'},\n",
       " {'word': 'obama', 'count': 0, 'date': '18-Jul-01'},\n",
       " {'word': 'merkel', 'count': 0, 'date': '18-Jul-01'},\n",
       " {'word': 'bush', 'count': 2, 'date': '18-Jul-01'},\n",
       " {'word': 'clinton', 'count': 0, 'date': '18-Jul-01'},\n",
       " {'word': 'schroeder', 'count': 0, 'date': '18-Jul-01'},\n",
       " {'word': 'khodorkovsky', 'count': 0, 'date': '18-Jul-01'},\n",
       " {'word': 'medvedev', 'count': 0, 'date': '18-Jul-01'},\n",
       " {'word': 'terror(ism)', 'count': 0, 'date': '18-Jul-01'},\n",
       " {'word': 'superpower', 'count': 0, 'date': '18-Jul-01'},\n",
       " {'word': 'kgb', 'count': 0, 'date': '18-Jul-01'},\n",
       " {'word': 'family', 'count': 0, 'date': '18-Jul-01'},\n",
       " {'word': 'homosexual', 'count': 0, 'date': '18-Jul-01'},\n",
       " {'word': 'gay', 'count': 0, 'date': '18-Jul-01'},\n",
       " {'word': 'deviant', 'count': 0, 'date': '18-Jul-01'},\n",
       " {'word': 'protest', 'count': 0, 'date': '18-Jul-01'},\n",
       " {'word': 'muslim', 'count': 2, 'date': '18-Jul-01'},\n",
       " {'word': 'islam', 'count': 0, 'date': '18-Jul-01'},\n",
       " {'word': 'world trade organization', 'count': 0, 'date': '18-Jul-01'},\n",
       " {'word': 'energy market', 'count': 0, 'date': '18-Jul-01'},\n",
       " {'word': 'oil pipeline', 'count': 0, 'date': '18-Jul-01'},\n",
       " {'word': 'gas pipeline', 'count': 0, 'date': '18-Jul-01'},\n",
       " {'word': 'pipeline', 'count': 0, 'date': '18-Jul-01'},\n",
       " {'word': 'north atlantic bloc', 'count': 0, 'date': '18-Jul-01'},\n",
       " {'word': 'central bank', 'count': 0, 'date': '18-Jul-01'},\n",
       " {'word': 'multiculturalism', 'count': 0, 'date': '18-Jul-01'},\n",
       " {'word': 'multicultural', 'count': 0, 'date': '18-Jul-01'},\n",
       " {'word': 'engergy superpower', 'count': 0, 'date': '18-Jul-01'},\n",
       " {'word': 'america(n)/u.s.', 'count': 3, 'date': '18-Jul-01'},\n",
       " {'word': 'security service (FSB)', 'count': 0, 'date': '18-Jul-01'},\n",
       " {'word': 'foreign intelligence service', 'count': 0, 'date': '18-Jul-01'}]"
      ]
     },
     "execution_count": 8,
     "metadata": {},
     "output_type": "execute_result"
    }
   ],
   "source": [
    "# print(putin_words_list_of_dicts)\n",
    "putin_words_list_of_dicts"
   ]
  },
  {
   "cell_type": "markdown",
   "metadata": {},
   "source": [
    "**Create column headers**"
   ]
  },
  {
   "cell_type": "code",
   "execution_count": 3,
   "metadata": {},
   "outputs": [
    {
     "data": {
      "text/plain": [
       "['word', 'count', 'date']"
      ]
     },
     "execution_count": 3,
     "metadata": {},
     "output_type": "execute_result"
    }
   ],
   "source": [
    "# One option is to recreate the list by typing out the columns headers\n",
    "csv_columns = ['word', 'count', 'date']\n",
    "csv_columns"
   ]
  },
  {
   "cell_type": "markdown",
   "metadata": {},
   "source": [
    "**What happens if you add a new key to all the dictionaries?**\n",
    "\n",
    "For example, if you add the temperature that day: , \"temp\": -32"
   ]
  },
  {
   "cell_type": "markdown",
   "metadata": {},
   "source": [
    "#### As re-usable code:"
   ]
  },
  {
   "cell_type": "code",
   "execution_count": 4,
   "metadata": {},
   "outputs": [
    {
     "data": {
      "text/plain": [
       "['word', 'count', 'date']"
      ]
     },
     "execution_count": 4,
     "metadata": {},
     "output_type": "execute_result"
    }
   ],
   "source": [
    "## find all the headers and make into a list\n",
    "csv_columns = list(putin_words_list_of_dicts[0]) # Just swap out the name of your list of dictionaries here for other projects\n",
    "csv_columns"
   ]
  },
  {
   "cell_type": "markdown",
   "metadata": {},
   "source": [
    "### Real-world Exercise 2 - Remove duplicate codes from a list\n",
    "\n",
    "**Background:**\n",
    "\n",
    "We have a list of Small Business Administration Disaster codes. We need to remove all the duplicates to prepare for an **automated webscrape** to retrieve the descriptions of these codes.\n",
    "\n",
    "**Exercise:** \n",
    "\n",
    "Create a **list of unique values** (remove all the duplicates) from the list below. Call the list \"sba_unique_list\"\n"
   ]
  },
  {
   "cell_type": "code",
   "execution_count": null,
   "metadata": {},
   "outputs": [],
   "source": [
    "## list of sba_codes_list\n",
    "sba_codes_list = ['SC-00050',  'SC-00050',  'SC-00050',  'SC-00050',  'SC-00050',  'SC-00050',  'SC-00050',  'SC-00050',  'SC-00050',  'SC-00050',  'SC-00050',  'SC-00050',  'SC-00050',  'SC-00050',  'SC-00050',  'CA-00279',  'CA-00279',  'CA-00279',  'CA-00279',  'CA-00279',  'CA-00279',  'CA-00279',  'CA-00279',  'CA-00279',  'CA-00279',  'SC-00053',  'SC-00053',  'IL-00049',  'IL-00049',  'IL-00049',  'IL-00049',  'IL-00049',  'IL-00049',  'IL-00049',  'IL-00049',  'IL-00049',  'IL-00049',  'IL-00049',  'IL-00049',  'NC-00096',  'NC-00096',  'NC-00096',  'NC-00096',  'NC-00096',  'NC-00096',  'CT-00041',  'LA-00079',  'LA-00079',  'LA-00079',  'LA-00079',  'LA-00079']\n",
    "sba_codes_list"
   ]
  },
  {
   "cell_type": "code",
   "execution_count": null,
   "metadata": {},
   "outputs": [],
   "source": [
    "## create a unique list of sba codes\n",
    "sba_unique_list = list(set(sba_codes_list))\n",
    "sba_unique_list"
   ]
  },
  {
   "cell_type": "code",
   "execution_count": null,
   "metadata": {},
   "outputs": [],
   "source": []
  }
 ],
 "metadata": {
  "kernelspec": {
   "display_name": "Python 3",
   "language": "python",
   "name": "python3"
  },
  "language_info": {
   "codemirror_mode": {
    "name": "ipython",
    "version": 3
   },
   "file_extension": ".py",
   "mimetype": "text/x-python",
   "name": "python",
   "nbconvert_exporter": "python",
   "pygments_lexer": "ipython3",
   "version": "3.7.4"
  }
 },
 "nbformat": 4,
 "nbformat_minor": 2
}
