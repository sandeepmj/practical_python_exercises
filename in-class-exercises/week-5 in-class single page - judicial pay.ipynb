{
 "cells": [
  {
   "cell_type": "code",
   "execution_count": null,
   "metadata": {},
   "outputs": [],
   "source": [
    "# import libraries\n",
    "\n",
    "\n",
    "import requests ## library to pull down from the web\n",
    "from bs4 import BeautifulSoup ## library that parses raw data into what we need\n",
    "import csv ## library that translates data between python and csv \n",
    "import re ## regular expressions\n",
    "import os.path ## library that tracks files on your computer"
   ]
  },
  {
   "cell_type": "code",
   "execution_count": null,
   "metadata": {},
   "outputs": [],
   "source": [
    "# url to scrape\n",
    "url = \"https://www.uscourts.gov/judges-judgeships/judicial-compensation\""
   ]
  },
  {
   "cell_type": "markdown",
   "metadata": {},
   "source": [
    "## Special Proxy Settings:\n",
    "#### (required if scraping from Bloomberg Corp)"
   ]
  },
  {
   "cell_type": "code",
   "execution_count": null,
   "metadata": {},
   "outputs": [],
   "source": [
    "## Uncomment if working on Bloomberg Corp\n",
    "\n",
    "# proxies = {\n",
    "# 'http': 'http://proxy.bloomberg.com:80',\n",
    "# 'https': 'https://proxy.bloomberg.com:80'\n",
    "# }"
   ]
  },
  {
   "cell_type": "code",
   "execution_count": null,
   "metadata": {},
   "outputs": [],
   "source": [
    "## Uncomment if working on Bloomberg Corp\n",
    "## GET grabs the raw material on the server and stores in an object called page. \n",
    "\n",
    "# page = requests.get(url, proxies=proxies)"
   ]
  },
  {
   "cell_type": "markdown",
   "metadata": {},
   "source": [
    "## Non Bloomberg Corp"
   ]
  },
  {
   "cell_type": "code",
   "execution_count": null,
   "metadata": {},
   "outputs": [],
   "source": [
    "## Uncomment if working on non Bloomberg Corp\n",
    "## GET grabs the raw material on the server and stores in an object called page. \n",
    "\n",
    "# page = requests.get(url)\n"
   ]
  },
  {
   "cell_type": "markdown",
   "metadata": {},
   "source": [
    "## Back to Platform Agnostic Code"
   ]
  },
  {
   "cell_type": "code",
   "execution_count": null,
   "metadata": {},
   "outputs": [],
   "source": [
    "## You can see it is something we have never seen before"
   ]
  },
  {
   "cell_type": "code",
   "execution_count": null,
   "metadata": {},
   "outputs": [],
   "source": [
    "## We now use BeautifulSoup to translate that raw object into HTML with an HTML.parser\n"
   ]
  },
  {
   "cell_type": "code",
   "execution_count": null,
   "metadata": {},
   "outputs": [],
   "source": [
    "## Prettify to make it easier to read\n"
   ]
  },
  {
   "cell_type": "code",
   "execution_count": null,
   "metadata": {},
   "outputs": [],
   "source": [
    "## Most importantly we see this not datatype we have seen before\n",
    "## it's a BeautifulSoup object\n"
   ]
  },
  {
   "cell_type": "code",
   "execution_count": null,
   "metadata": {},
   "outputs": [],
   "source": [
    "## we want to target just the table on this page since it holds all the content we are looking for\n",
    "## but we get a different table than anticpated.\n"
   ]
  },
  {
   "cell_type": "code",
   "execution_count": null,
   "metadata": {},
   "outputs": [],
   "source": [
    "## remove sup tag in 2014 and other years\n"
   ]
  },
  {
   "cell_type": "code",
   "execution_count": null,
   "metadata": {},
   "outputs": [],
   "source": [
    "## We can be more specific in case there were multiple tables on this page.\n",
    "## we can target the class of table\n"
   ]
  },
  {
   "cell_type": "code",
   "execution_count": null,
   "metadata": {},
   "outputs": [],
   "source": [
    "## What type of object is \"table\"?\n"
   ]
  },
  {
   "cell_type": "code",
   "execution_count": null,
   "metadata": {},
   "outputs": [],
   "source": [
    "## Now lets find column headers\n"
   ]
  },
  {
   "cell_type": "code",
   "execution_count": null,
   "metadata": {},
   "outputs": [],
   "source": [
    "## When you print our header, it looks like what?\n"
   ]
  },
  {
   "cell_type": "code",
   "execution_count": null,
   "metadata": {},
   "outputs": [],
   "source": [
    "## function to lowercase, strip and underscore header labels\n",
    "## Don't worry about the re. part. We will cover in detail in a few weeks.\n",
    "def sanitize_label(label):\n",
    "    \"\"\"This function takes a string and lowercases it; strips it of trailing and leading spaces; and puts underscores between words\"\n",
    "    \"\"\"\n",
    "    value = label.lower().replace(\":\", \"\").strip()\n",
    "    value = re.sub(r'[^A-Za-z0-9]+', '_', value)\n",
    "    return value"
   ]
  },
  {
   "cell_type": "code",
   "execution_count": null,
   "metadata": {},
   "outputs": [],
   "source": [
    "## function to turn string dollars into integers\n",
    "def dollars(amount):\n",
    "    value = int(amount.replace(\"$\", \"\").replace(\",\", \"_\"))\n",
    "    return value"
   ]
  },
  {
   "cell_type": "code",
   "execution_count": null,
   "metadata": {},
   "outputs": [],
   "source": [
    "## store labels in list\n"
   ]
  },
  {
   "cell_type": "code",
   "execution_count": null,
   "metadata": {},
   "outputs": [],
   "source": [
    "# find ALL rows and place into specific variables for each data point.\n"
   ]
  },
  {
   "cell_type": "code",
   "execution_count": null,
   "metadata": {},
   "outputs": [],
   "source": [
    "## Place list into a list of dictionaries called judges_salaries\n"
   ]
  },
  {
   "cell_type": "code",
   "execution_count": null,
   "metadata": {},
   "outputs": [],
   "source": [
    "#csv file to be created with data\n",
    "csv_file_name = \"federal_judges_salaries.csv\"\n",
    "file_exists = os.path.isfile(csv_file_name)\n",
    "try:\n",
    "    with open(csv_file_name, 'a') as file:\n",
    "        writer = csv.DictWriter(file, fieldnames = labels )\n",
    "\n",
    "        if not file_exists:\n",
    "            writer.writeheader()\n",
    "        for salary in judges_salaries:\n",
    "            writer.writerow(salary)\n",
    "\n",
    "except IOError:\n",
    "    print(\"sorry, some error...grrrr\")\n",
    "\n",
    "print(f\"CSV file named {csv_file_name} is ready. Find it in your project folder!\")"
   ]
  },
  {
   "cell_type": "code",
   "execution_count": null,
   "metadata": {},
   "outputs": [],
   "source": []
  }
 ],
 "metadata": {
  "kernelspec": {
   "display_name": "Python 3",
   "language": "python",
   "name": "python3"
  },
  "language_info": {
   "codemirror_mode": {
    "name": "ipython",
    "version": 3
   },
   "file_extension": ".py",
   "mimetype": "text/x-python",
   "name": "python",
   "nbconvert_exporter": "python",
   "pygments_lexer": "ipython3",
   "version": "3.7.4"
  }
 },
 "nbformat": 4,
 "nbformat_minor": 2
}
