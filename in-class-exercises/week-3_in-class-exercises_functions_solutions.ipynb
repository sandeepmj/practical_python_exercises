{
 "cells": [
  {
   "cell_type": "markdown",
   "metadata": {},
   "source": [
    "# Week 3 - Functions"
   ]
  },
  {
   "cell_type": "markdown",
   "metadata": {},
   "source": [
    "The real power in any programming language is the **Function**.\n",
    "\n",
    "A function is:\n",
    "\n",
    "* a little block of script (one line or many) that performs specific task or a series of tasks.\n",
    "* reusable and helps us make our code DRY.\n",
    "* triggered when something \"invokes\" or \"calls\" it.\n",
    "* ideally modular – it performs a narrow task and you call several functions to perform more complex tasks.\n"
   ]
  },
  {
   "cell_type": "code",
   "execution_count": 165,
   "metadata": {},
   "outputs": [],
   "source": [
    "def myFunction(number1, number2):\n",
    "    '''\n",
    "    Need 2 numbers as arguments\n",
    "    '''\n",
    "    print(f\"My first input is {number1} and the second number is {number2}.\")\n",
    "    total = number1 + number2\n",
    "    print(f\"The total is {total}!\")"
   ]
  },
  {
   "cell_type": "code",
   "execution_count": 141,
   "metadata": {},
   "outputs": [
    {
     "name": "stdout",
     "output_type": "stream",
     "text": [
      "My first input is 4 and the second number is 5.\n",
      "The total is 9!\n"
     ]
    }
   ],
   "source": [
    "## Call myFunction using 4 and 5 as the arguments\n",
    "myFunction(4,5)"
   ]
  },
  {
   "cell_type": "code",
   "execution_count": null,
   "metadata": {},
   "outputs": [],
   "source": [
    "myFunction"
   ]
  },
  {
   "cell_type": "code",
   "execution_count": 139,
   "metadata": {},
   "outputs": [],
   "source": [
    "## Call myFunction using 10 and 2 as the arguments\n",
    "myFunction(10,2)"
   ]
  },
  {
   "cell_type": "markdown",
   "metadata": {},
   "source": [
    "### To use or not use functions?\n",
    "\n",
    "Let's compare the two with a simple example:"
   ]
  },
  {
   "cell_type": "code",
   "execution_count": 1,
   "metadata": {},
   "outputs": [],
   "source": [
    "## You have a list of numbers. \n",
    "mylist1 = [1, -5, 22, -44.2, 33, -45]"
   ]
  },
  {
   "cell_type": "code",
   "execution_count": 2,
   "metadata": {
    "scrolled": true
   },
   "outputs": [
    {
     "name": "stdout",
     "output_type": "stream",
     "text": [
      "1\n",
      "5\n",
      "22\n",
      "44.2\n",
      "33\n",
      "45\n"
     ]
    }
   ],
   "source": [
    "## Turn each number into an absolute number.\n",
    "## A for loop works perfectly fine here.\n",
    "for number in mylist1:\n",
    "    print(abs(number))"
   ]
  },
  {
   "cell_type": "code",
   "execution_count": 5,
   "metadata": {},
   "outputs": [],
   "source": [
    "## The problem is that your project keeps generating more lists.\n",
    "## Each list of numbers has to be turned into absolute numbers\n",
    "mylist2 = [-56, -34, -75, -111, -22]\n",
    "mylist3 = [-99, -1205, 54, -56, -231]\n",
    "mylist4 = [-23, -89, -11, -45, -27]\n",
    "mylist5 = [0, 1, 2, 3, 4, 5]"
   ]
  },
  {
   "cell_type": "markdown",
   "metadata": {},
   "source": [
    "### Do you keep writing for loops for each list?\n",
    "\n",
    "### No, that's a lot of repetition!"
   ]
  },
  {
   "cell_type": "code",
   "execution_count": 3,
   "metadata": {},
   "outputs": [],
   "source": [
    "## Instead we write a function that takes a list,\n",
    "## converts each list item to an absolute number,\n",
    "## and prints out the number\n",
    "\n",
    "def absolute_values(listName):\n",
    "    for number in listName:\n",
    "        print(abs(number))"
   ]
  },
  {
   "cell_type": "code",
   "execution_count": 6,
   "metadata": {},
   "outputs": [
    {
     "name": "stdout",
     "output_type": "stream",
     "text": [
      "23\n",
      "89\n",
      "11\n",
      "45\n",
      "27\n"
     ]
    }
   ],
   "source": [
    "## Try swapping out different lists into the function:\n",
    "absolute_values(mylist4)"
   ]
  },
  {
   "cell_type": "markdown",
   "metadata": {},
   "source": [
    "## DRY (Don't Repeat Yourself)\n",
    "\n",
    "### Imagine for a moment that your editor tells you that the calculation needs to be updated. Instead of needing the absolute number, you need the absolute number minus 5.\n",
    "\n",
    "### Having used multiple for loops, you'd have to change each one. What if you miss one or two? Either way, it's a chore.\n",
    "\n",
    "### With functions, you just revise the function and the update runs everywhere.\n",
    "\n"
   ]
  },
  {
   "cell_type": "markdown",
   "metadata": {},
   "source": [
    "# Functions can call another functions"
   ]
  },
  {
   "cell_type": "code",
   "execution_count": null,
   "metadata": {},
   "outputs": [],
   "source": [
    "## We have too many lists to run the function on each list\n",
    "## Create a list of lists\n",
    "one_list = [mylist1, mylist2, mylist3, mylist4]\n",
    "one_list"
   ]
  },
  {
   "cell_type": "code",
   "execution_count": null,
   "metadata": {},
   "outputs": [],
   "source": [
    "## Write a function that turns a list of lists into absolute numbers\n",
    "def multi_lists_abs(list_of_lists):\n",
    "    for a_list in list_of_lists:\n",
    "        absolute_values(a_list)"
   ]
  },
  {
   "cell_type": "code",
   "execution_count": 32,
   "metadata": {},
   "outputs": [
    {
     "name": "stdout",
     "output_type": "stream",
     "text": [
      "1\n",
      "5\n",
      "22\n",
      "44.2\n",
      "33\n",
      "45\n",
      "56\n",
      "34\n",
      "75\n",
      "111\n",
      "22\n",
      "99\n",
      "1205\n",
      "54\n",
      "56\n",
      "231\n",
      "23\n",
      "89\n",
      "11\n",
      "45\n",
      "27\n"
     ]
    }
   ],
   "source": [
    "## Run the function on my combined list (one_list):\n",
    "multi_lists_abs(one_list)"
   ]
  },
  {
   "cell_type": "code",
   "execution_count": 28,
   "metadata": {},
   "outputs": [
    {
     "data": {
      "text/plain": [
       "[1,\n",
       " -5,\n",
       " 22,\n",
       " -44.2,\n",
       " 33,\n",
       " -45,\n",
       " -56,\n",
       " -34,\n",
       " -75,\n",
       " -111,\n",
       " -22,\n",
       " -99,\n",
       " -1205,\n",
       " 54,\n",
       " -56,\n",
       " -231,\n",
       " -23,\n",
       " -89,\n",
       " -11,\n",
       " -45,\n",
       " -27]"
      ]
     },
     "execution_count": 28,
     "metadata": {},
     "output_type": "execute_result"
    }
   ],
   "source": [
    "## Instead of creating a list of list, we create a single list\n",
    "## Will our multi_lists_abs function successfull process?\n",
    "single_list = [*mylist1, *mylist2, *mylist3, *mylist4]\n",
    "single_list"
   ]
  },
  {
   "cell_type": "code",
   "execution_count": 33,
   "metadata": {},
   "outputs": [
    {
     "name": "stdout",
     "output_type": "stream",
     "text": [
      "1\n",
      "5\n",
      "22\n",
      "44.2\n",
      "33\n",
      "45\n",
      "56\n",
      "34\n",
      "75\n",
      "111\n",
      "22\n",
      "99\n",
      "1205\n",
      "54\n",
      "56\n",
      "231\n",
      "23\n",
      "89\n",
      "11\n",
      "45\n",
      "27\n"
     ]
    }
   ],
   "source": [
    "absolute_values(single_list)"
   ]
  },
  {
   "cell_type": "code",
   "execution_count": 35,
   "metadata": {},
   "outputs": [],
   "source": [
    "## Resetting all the lists:\n",
    "\n",
    "mylist1 = [1, -5, 22, -44.2, 33, -45]\n",
    "mylist2 = [-56, -34, -75, -111, -22]\n",
    "mylist3 = [-99, -1205, 54, -56, -231]\n",
    "mylist4 = [-23, -89, -11, -45, -27]\n",
    "mylist5 = [0, 1, 2, 3, 4, 5]"
   ]
  },
  {
   "cell_type": "code",
   "execution_count": 38,
   "metadata": {},
   "outputs": [],
   "source": [
    "def join_lists(*args):\n",
    "    combined =[]\n",
    "    for item in args:\n",
    "        combined = combined + item\n",
    "#     print(combined)\n",
    "    absolute_values(combined)"
   ]
  },
  {
   "cell_type": "code",
   "execution_count": 39,
   "metadata": {},
   "outputs": [
    {
     "name": "stdout",
     "output_type": "stream",
     "text": [
      "1\n",
      "5\n",
      "22\n",
      "44.2\n",
      "33\n",
      "45\n",
      "56\n",
      "34\n",
      "75\n",
      "111\n",
      "22\n",
      "23\n",
      "89\n",
      "11\n",
      "45\n",
      "27\n",
      "0\n",
      "1\n",
      "2\n",
      "3\n",
      "4\n",
      "5\n"
     ]
    }
   ],
   "source": [
    "join_lists(mylist1, mylist2, mylist4, mylist5)"
   ]
  },
  {
   "cell_type": "code",
   "execution_count": 52,
   "metadata": {},
   "outputs": [],
   "source": [
    "def compre_lists(*args):\n",
    "    combined = [item for item in args]\n",
    "    multi_lists_abs(combined)"
   ]
  },
  {
   "cell_type": "code",
   "execution_count": 53,
   "metadata": {},
   "outputs": [
    {
     "name": "stdout",
     "output_type": "stream",
     "text": [
      "1\n",
      "5\n",
      "22\n",
      "44.2\n",
      "33\n",
      "45\n",
      "0\n",
      "1\n",
      "2\n",
      "3\n",
      "4\n",
      "5\n"
     ]
    }
   ],
   "source": [
    "compre_lists(mylist1, mylist5)"
   ]
  },
  {
   "cell_type": "code",
   "execution_count": 147,
   "metadata": {},
   "outputs": [],
   "source": [
    "## You scrape a site and each datapoint is stored in different lists\n",
    "firstName = [\"Irene\", \"Ursula\", \"Elon\", \"Tim\"]\n",
    "lastName = [\"Rosenfeld\", \"Burns\", \"Musk\", \"Cook\"]\n",
    "title = [\"Chairman and CEO\", \"Chairman and CEO\", \"CEO\", \"CEO\"]\n",
    "company = [\"Kraft Foods\", \"Xerox\", \"Tesla\", \"App;e\"]\n",
    "industry = [\"Food and Beverage\", \"Process and Document Management\", \"Auto Manufacturing\", \"Consumer Technology\"]"
   ]
  },
  {
   "cell_type": "code",
   "execution_count": 24,
   "metadata": {},
   "outputs": [
    {
     "name": "stdout",
     "output_type": "stream",
     "text": [
      "[{'first_name': 'Irene', 'last_name': 'Rosenfeld', 'title': 'Chairman and CEO', 'industry': 'Food and Beverage'}, {'first_name': 'Ursula', 'last_name': 'Burns', 'title': 'Chairman and CEO', 'industry': 'Process and Document Management'}, {'first_name': 'Elon', 'last_name': 'Musk', 'title': 'CEO', 'industry': 'Auto Manufacturing'}, {'first_name': 'Tim', 'last_name': 'Cook', 'title': 'CEO', 'industry': 'Consumer Technology'}]\n"
     ]
    }
   ],
   "source": [
    "bio_list = []\n",
    "for (fname, lname, rank, field) in zip(firstName, lastName, title, industry ):\n",
    "    bio_dict = {\"first_name\": fname, \"last_name\": lname, \"title\": rank, \"industry\": field}\n",
    "    bio_list.append(bio_dict)\n",
    "print(bio_list)"
   ]
  },
  {
   "cell_type": "code",
   "execution_count": 25,
   "metadata": {},
   "outputs": [],
   "source": [
    "def make_bio_list(firstName, lastName, position, sector):\n",
    "    bio_list = []\n",
    "    for (fname, lname, rank, field) in zip(firstName, lastName, position, sector):\n",
    "        bio_dict = {\"first_name\": fname, \"last_name\": lname, \"title\": rank, \"industry\": field}\n",
    "        bio_list.append(bio_dict)\n",
    "    print(bio_list)"
   ]
  },
  {
   "cell_type": "code",
   "execution_count": 27,
   "metadata": {},
   "outputs": [
    {
     "name": "stdout",
     "output_type": "stream",
     "text": [
      "[{'first_name': 'Irene', 'last_name': 'Rosenfeld', 'title': 'Chairman and CEO', 'industry': 'Food and Beverage'}, {'first_name': 'Ursula', 'last_name': 'Burns', 'title': 'Chairman and CEO', 'industry': 'Process and Document Management'}, {'first_name': 'Elon', 'last_name': 'Musk', 'title': 'CEO', 'industry': 'Auto Manufacturing'}, {'first_name': 'Tim', 'last_name': 'Cook', 'title': 'CEO', 'industry': 'Consumer Technology'}]\n"
     ]
    }
   ],
   "source": [
    "make_bio_list(firstName, lastName, title, industry)"
   ]
  },
  {
   "cell_type": "markdown",
   "metadata": {},
   "source": [
    "## Return Statements\n",
    "\n",
    "### So far we have only printed out values processed by a function. \n",
    "\n",
    "### But we really want to retain the value the function creates. \n",
    "\n",
    "### We can then pass that value to other parts of our calculations and code."
   ]
  },
  {
   "cell_type": "code",
   "execution_count": 82,
   "metadata": {},
   "outputs": [],
   "source": [
    "## Simple example\n",
    "## A function that adds two numbers together and prints the value:\n",
    "def add_numbers(number1, number2):\n",
    "    print(number1 + number1)"
   ]
  },
  {
   "cell_type": "code",
   "execution_count": 83,
   "metadata": {},
   "outputs": [
    {
     "name": "stdout",
     "output_type": "stream",
     "text": [
      "4\n"
     ]
    }
   ],
   "source": [
    "add_numbers(2,4)"
   ]
  },
  {
   "cell_type": "code",
   "execution_count": 85,
   "metadata": {},
   "outputs": [
    {
     "name": "stdout",
     "output_type": "stream",
     "text": [
      "4\n"
     ]
    }
   ],
   "source": [
    "myCalc =add_numbers(2,6)"
   ]
  },
  {
   "cell_type": "code",
   "execution_count": null,
   "metadata": {},
   "outputs": [],
   "source": [
    "print(myCalc)"
   ]
  },
  {
   "cell_type": "code",
   "execution_count": null,
   "metadata": {},
   "outputs": [],
   "source": []
  },
  {
   "cell_type": "code",
   "execution_count": null,
   "metadata": {},
   "outputs": [],
   "source": [
    "## Tweak our function by adding return statement\n",
    "def add_numbers_ret(number1, number2):\n",
    "    return (number1 + number1)"
   ]
  },
  {
   "cell_type": "code",
   "execution_count": null,
   "metadata": {},
   "outputs": [],
   "source": [
    "myCalc = add_numbers_ret(2,4)"
   ]
  },
  {
   "cell_type": "code",
   "execution_count": null,
   "metadata": {},
   "outputs": [],
   "source": [
    "print(myCalc)"
   ]
  },
  {
   "cell_type": "code",
   "execution_count": null,
   "metadata": {},
   "outputs": [],
   "source": [
    "type(myCalc)"
   ]
  },
  {
   "cell_type": "code",
   "execution_count": null,
   "metadata": {},
   "outputs": [],
   "source": [
    "def absolute_returns(listName):\n",
    "    processed_list = []\n",
    "    for number in listName:\n",
    "        updated_number = number * 100\n",
    "        processed_list.append(updated_number)       \n",
    "    return processed_list\n",
    "        \n",
    "        \n",
    "        "
   ]
  },
  {
   "cell_type": "code",
   "execution_count": null,
   "metadata": {},
   "outputs": [],
   "source": [
    "x = absolute_returns(mylist5)\n",
    "print(x)"
   ]
  },
  {
   "cell_type": "code",
   "execution_count": null,
   "metadata": {},
   "outputs": [],
   "source": [
    "print(type(x))"
   ]
  },
  {
   "cell_type": "markdown",
   "metadata": {},
   "source": [
    "### Functions with return statement that call other functions with return statements"
   ]
  },
  {
   "cell_type": "code",
   "execution_count": 113,
   "metadata": {},
   "outputs": [],
   "source": [
    "## Two lists of values\n",
    "someNumbers = [0,1,2,3,4,-5]\n",
    "negNumbers = [0,-1,-2,-3,-4, 5, -20]"
   ]
  },
  {
   "cell_type": "code",
   "execution_count": 117,
   "metadata": {},
   "outputs": [],
   "source": [
    "## Let's write a function that returns the total of the items in a list\n",
    "def totalNumbers(a_list):\n",
    "    total = 0\n",
    "    for number in a_list:\n",
    "        total += number\n",
    "    return total"
   ]
  },
  {
   "cell_type": "code",
   "execution_count": 115,
   "metadata": {},
   "outputs": [
    {
     "name": "stdout",
     "output_type": "stream",
     "text": [
      "5\n",
      "-25\n"
     ]
    }
   ],
   "source": [
    "## test it on our two two basic lists\n",
    "print(totalNumbers(someNumbers))\n",
    "print(totalNumbers(negNumbers))\n"
   ]
  },
  {
   "cell_type": "code",
   "execution_count": 103,
   "metadata": {},
   "outputs": [],
   "source": [
    "## What if we want the total of the absolute values for a list.\n",
    "## Let's create a function for that:\n",
    "def return_absolute_values(listName):\n",
    "    absolute_numbers_list = [abs(number) for number in listName]\n",
    "    return absolute_numbers_list"
   ]
  },
  {
   "cell_type": "code",
   "execution_count": 124,
   "metadata": {},
   "outputs": [],
   "source": [
    "## Same function but as without List Comprehension\n",
    "## DO NOT RUN THIS CELL\n",
    "\n",
    "def return_absolute_list_for_loop(listName):\n",
    "    absolute_numbers_list = []\n",
    "    for number in listName:\n",
    "        absolute_numbers_list.append(abs(number))\n",
    "    return absolute_numbers_list\n",
    "    "
   ]
  },
  {
   "cell_type": "code",
   "execution_count": 125,
   "metadata": {},
   "outputs": [
    {
     "name": "stdout",
     "output_type": "stream",
     "text": [
      "[0, 1, 2, 3, 4, 5, 20]\n"
     ]
    }
   ],
   "source": [
    "print(return_absolute_list_for_loop(negNumbers))"
   ]
  },
  {
   "cell_type": "code",
   "execution_count": 116,
   "metadata": {},
   "outputs": [
    {
     "data": {
      "text/plain": [
       "15"
      ]
     },
     "execution_count": 116,
     "metadata": {},
     "output_type": "execute_result"
    }
   ],
   "source": [
    "totalNumbers(return_absolute_values(negNumbers))"
   ]
  },
  {
   "cell_type": "code",
   "execution_count": 146,
   "metadata": {},
   "outputs": [],
   "source": []
  },
  {
   "cell_type": "code",
   "execution_count": 163,
   "metadata": {},
   "outputs": [],
   "source": []
  },
  {
   "cell_type": "code",
   "execution_count": null,
   "metadata": {},
   "outputs": [],
   "source": []
  },
  {
   "cell_type": "code",
   "execution_count": null,
   "metadata": {},
   "outputs": [],
   "source": []
  },
  {
   "cell_type": "code",
   "execution_count": null,
   "metadata": {},
   "outputs": [],
   "source": []
  }
 ],
 "metadata": {
  "kernelspec": {
   "display_name": "Python 3",
   "language": "python",
   "name": "python3"
  },
  "language_info": {
   "codemirror_mode": {
    "name": "ipython",
    "version": 3
   },
   "file_extension": ".py",
   "mimetype": "text/x-python",
   "name": "python",
   "nbconvert_exporter": "python",
   "pygments_lexer": "ipython3",
   "version": "3.7.4"
  }
 },
 "nbformat": 4,
 "nbformat_minor": 2
}
