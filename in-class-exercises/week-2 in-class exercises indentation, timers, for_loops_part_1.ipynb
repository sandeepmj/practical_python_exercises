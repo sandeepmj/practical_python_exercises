{
 "cells": [
  {
   "cell_type": "markdown",
   "metadata": {},
   "source": [
    "# Week 2 - Flow Control with Indentations, Timers, for loops (part 1)"
   ]
  },
  {
   "cell_type": "markdown",
   "metadata": {},
   "source": [
    "## The following play critical roles:  \n",
    "\n",
    "### 1. Indentation - running blocks of code.\n",
    "\n",
    "### 2. Time Delays - pacing the speed of our code.\n",
    "\n",
    "### 3. For Loops - iterating through data (part 1)"
   ]
  },
  {
   "cell_type": "markdown",
   "metadata": {},
   "source": [
    "## 1. Indentation"
   ]
  },
  {
   "cell_type": "markdown",
   "metadata": {},
   "source": [
    "### Basic Flow Example: A Counter"
   ]
  },
  {
   "cell_type": "code",
   "execution_count": null,
   "metadata": {},
   "outputs": [],
   "source": [
    "## Using a While loop build a counter that counts from 1 to 5.\n",
    "## Print the counter numbers in statement that reads \"The count is\" whatever the count is.\n",
    "## Once it reaches 5, it should print \"Done counting to 5!\"\n",
    "\n",
    "counter = 1\n",
    "while counter < 6:\n",
    "    print(f\"The count is {counter}\")\n",
    "    counter += 1\n",
    "print(\"Done counting to 5!\")\n"
   ]
  },
  {
   "cell_type": "markdown",
   "metadata": {},
   "source": [
    "### You just controlled flow using indentation and a while loop."
   ]
  },
  {
   "cell_type": "markdown",
   "metadata": {},
   "source": [
    "## How fast does our code run?"
   ]
  },
  {
   "cell_type": "code",
   "execution_count": 4,
   "metadata": {},
   "outputs": [
    {
     "name": "stdout",
     "output_type": "stream",
     "text": [
      "Run 1: This process ran at 2020-02-13 09:45:58.292535\n",
      "Run 2: This process ran at 2020-02-13 09:45:58.292744\n",
      "Run 3: This process ran at 2020-02-13 09:45:58.292810\n",
      "Run 4: This process ran at 2020-02-13 09:45:58.292854\n",
      "Run 5: This process ran at 2020-02-13 09:45:58.292885\n",
      "DONE PRINTING\n"
     ]
    }
   ],
   "source": [
    "import datetime # a package that helps us track time and dates\n",
    "\n",
    "counter = 1\n",
    "while counter < 6:\n",
    "    current = datetime.datetime.now()# tells us the exact current date & time\n",
    "    print(f\"Run {counter}: This process ran at {current}\")\n",
    "    counter += 1\n",
    "    \n",
    "print(\"DONE PRINTING\")\n",
    "\n"
   ]
  },
  {
   "cell_type": "markdown",
   "metadata": {},
   "source": [
    "## 2. Time Delays\n",
    "\n",
    "**Delay timers** are critical when scraping data from websites for several reasons. The **two** most important reasons are:\n",
    "\n",
    "1. Sometimes your scraper clicks on links and must wait for the content to actually populated on the new page. Your script is likely to run faster than a page can load.\n",
    "\n",
    "\n",
    "2. You don't want your scraper to be mistaken for a hostile attack on a server. You have to slow down the scrapes."
   ]
  },
  {
   "cell_type": "markdown",
   "metadata": {},
   "source": [
    "### Step 1 - Import required libraries"
   ]
  },
  {
   "cell_type": "code",
   "execution_count": null,
   "metadata": {},
   "outputs": [],
   "source": [
    "import time # time is required. we will use its sleep function\n",
    "# import datetime ## we already imported this earlier, but you'd need it if starting fresh"
   ]
  },
  {
   "cell_type": "markdown",
   "metadata": {},
   "source": [
    "#### Let's add a 5-second delay:"
   ]
  },
  {
   "cell_type": "code",
   "execution_count": null,
   "metadata": {
    "scrolled": false
   },
   "outputs": [],
   "source": [
    "counter = 0\n",
    "\n",
    "while counter < 6:\n",
    "    current = datetime.datetime.now()\n",
    "    print(f\"Run {counter}: This process ran at {current}\")\n",
    "    time.sleep(5)\n",
    "    counter += 1\n",
    "print(\"DONE PRINTING\")"
   ]
  },
  {
   "cell_type": "markdown",
   "metadata": {},
   "source": [
    "### Randomize\n",
    "\n",
    "Software that tracks traffic to a server might grow suspicious about a hit every nth seconds.\n",
    "\n",
    "Let's **randomize** the time between hits by using \"**randrange**\" from the \"**random**\" library:"
   ]
  },
  {
   "cell_type": "code",
   "execution_count": null,
   "metadata": {},
   "outputs": [],
   "source": [
    "from random import randrange # import renecessary library\n",
    "print(randrange(10,60))"
   ]
  },
  {
   "cell_type": "code",
   "execution_count": null,
   "metadata": {},
   "outputs": [],
   "source": [
    "from random import randrange # import necessary library\n",
    "counter = 1\n",
    "\n",
    "while counter < 6:\n",
    "    delay = randrange(4,10)\n",
    "    time.sleep(delay)\n",
    "    current = datetime.datetime.now()\n",
    "    print(f\"Run {counter}: This process was delayed for {delay} seconds and ran at {current}\")\n",
    "    counter += 1\n",
    "print(\"DONE PRINTING\")"
   ]
  },
  {
   "cell_type": "code",
   "execution_count": null,
   "metadata": {},
   "outputs": [],
   "source": [
    "from random import randrange # import necessary library\n",
    "counter = 1\n",
    "\n",
    "while counter < 6:\n",
    "    current = datetime.datetime.now()\n",
    "    print(f\"Run {counter}: This process ran at {current}\")\n",
    "    time.sleep(randrange(4,10))\n",
    "    counter += 1\n",
    "print(\"DONE PRINTING\")"
   ]
  },
  {
   "cell_type": "markdown",
   "metadata": {},
   "source": [
    "## 3. For Loops\n",
    "\n",
    "### For Loops are your best friend - most used Python expression for journalists:\n",
    "\n",
    "### Iterate over:\n",
    "* data stored in a list and run some calculation on each value;\n",
    "* a list of URLs and visit each site to scrape data;\n",
    "* data stored in dictionary keys and values and return what you are looking for;\n"
   ]
  },
  {
   "cell_type": "markdown",
   "metadata": {},
   "source": [
    "Let's take **For Loops** for test drive:"
   ]
  },
  {
   "cell_type": "code",
   "execution_count": null,
   "metadata": {},
   "outputs": [],
   "source": [
    "## Use this list of CEO salaries from 1985 \n",
    "ceo_salaries_1985 = [150_000, 201_000, 110_000, 75_000, 92_000, 55_000]"
   ]
  },
  {
   "cell_type": "code",
   "execution_count": null,
   "metadata": {},
   "outputs": [],
   "source": [
    "## Print each salary with in the following format:\n",
    "## \"A CEO earned [some value] in 1985.\"\n",
    "for salary in ceo_salaries_1985:\n",
    "    print(f\"A CEO earned ${salary:,} in 1985\")"
   ]
  },
  {
   "cell_type": "code",
   "execution_count": null,
   "metadata": {},
   "outputs": [],
   "source": [
    "## Now update each salary to 2019 dollars.\n",
    "## Print the following info:\n",
    "## \"A CEO's salary of [1985 salary] in 1985 is worth [updated salary] in 2019 dollars.\"\n",
    "## The CPI for 1985 is 107.6\n",
    "## The 2019 CPI is 255.657\n",
    "## The formula is: updated_salary = (oldSalary/oldCPI) * currentCPI\n",
    "for salary in ceo_salaries_1985:\n",
    "    updated_salary = (salary/107.6)*255.657\n",
    "    print(f\"A CEO's salary of ${salary:,} in 1985 is worth ${updated_salary:,.0f} in 2019 dollars.\")"
   ]
  }
 ],
 "metadata": {
  "kernelspec": {
   "display_name": "Python 3",
   "language": "python",
   "name": "python3"
  },
  "language_info": {
   "codemirror_mode": {
    "name": "ipython",
    "version": 3
   },
   "file_extension": ".py",
   "mimetype": "text/x-python",
   "name": "python",
   "nbconvert_exporter": "python",
   "pygments_lexer": "ipython3",
   "version": "3.7.4"
  }
 },
 "nbformat": 4,
 "nbformat_minor": 2
}
