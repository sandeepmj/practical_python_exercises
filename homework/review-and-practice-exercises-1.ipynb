{
 "cells": [
  {
   "cell_type": "markdown",
   "metadata": {},
   "source": [
    "# Review and Practive Exercises 1"
   ]
  },
  {
   "cell_type": "markdown",
   "metadata": {},
   "source": [
    "## Working with Numbers"
   ]
  },
  {
   "cell_type": "code",
   "execution_count": null,
   "metadata": {},
   "outputs": [],
   "source": [
    "## The Coronavirus Aid, Relief, and Economic Security Act (CARES) is word about $2.2 trillion. \n",
    "## Assign the amount to a variable called cares_total in scientific notation.\n",
    "## print it as \"The relief bill is worth approximately $2,300,000,000,000.00\" using f-string literal (2 decimal places)\n"
   ]
  },
  {
   "cell_type": "code",
   "execution_count": null,
   "metadata": {},
   "outputs": [],
   "source": [
    "## Assign 2.3 trillion to a variable called relief_value.\n",
    "## use thousands separator/digit group separator to make it easier to read\n",
    "## do NOT use scientific notation\n",
    "## when you print the number, it should look like this: 2200000000000\n"
   ]
  },
  {
   "cell_type": "code",
   "execution_count": null,
   "metadata": {},
   "outputs": [],
   "source": [
    "## Now print relief_value in the following format:\n",
    "## \"The relief bill is valued at approximately $2,200,000,000\" \n",
    "## Remember to use the relief_value variable rather than the raw number\n"
   ]
  },
  {
   "cell_type": "code",
   "execution_count": null,
   "metadata": {},
   "outputs": [],
   "source": [
    "## You have two lists of investment terms. \n",
    "\n",
    "investment_terms_1 = [\"Hedge Funds\", \"Derivatives\", \"ETFs\"]\n",
    "investment_terms_2 = [\"Mutal Funds\", \"529s\", \"Equity\"]\n",
    "\n",
    "\n",
    "## Combine the two lists into a single list called combined_list.\n",
    "\n",
    "\n",
    "\n",
    "## print combined_list\n"
   ]
  },
  {
   "cell_type": "code",
   "execution_count": null,
   "metadata": {},
   "outputs": [],
   "source": [
    "## Challenge: There are at least three ways to combine the two lists above (as far I know).\n",
    "## You already combined it once above.\n",
    "## Without using the for loop, what are the two other methods?\n"
   ]
  },
  {
   "cell_type": "markdown",
   "metadata": {},
   "source": [
    "## Working with List of Dictionaries\n",
    "\n",
    "#### Create a list of dictionaries called \"cases\" using the content from the image below:\n",
    "\n",
    "<img src=\"../support_files/covid_cases.png\">\n",
    "\n",
    "More instructions in the next cell:"
   ]
  },
  {
   "cell_type": "code",
   "execution_count": null,
   "metadata": {},
   "outputs": [],
   "source": [
    "## DO NOT INCLUDE deaths IN YOUR DICTIONARY\n",
    "## ...type out all the code.\n",
    "## print the dictionary\n",
    "## note: because we have not done datetime yet, enter your dates as strings ('mm/dd/year')\n",
    "\n",
    "\n",
    "cases = [\n",
    "    {\"date\": \"4/7/20\", \"state\": \"New York\", \"fips\": 36, \"cases\": 140_081},\n",
    "    {\"date\": \"4/7/20\", \"state\": \"New Jersey\", \"fips\": 34, \"cases\": 44_416},\n",
    "    {\"date\": \"4/7/20\", \"state\": \"Michigan\", \"fips\": 26, \"cases\": 18_852},\n",
    "    {\"date\": \"4/7/20\", \"state\": \"California\", \"fips\": 6, \"cases\": 17_540},\n",
    "    {\"date\": \"4/7/20\", \"state\": \"Louisiana\", \"fips\": 22, \"cases\": 16_284}\n",
    "    \n",
    "]\n",
    "\n",
    "## print the cases"
   ]
  },
  {
   "cell_type": "code",
   "execution_count": null,
   "metadata": {},
   "outputs": [],
   "source": [
    "## How many items are in this list?\n"
   ]
  },
  {
   "cell_type": "code",
   "execution_count": null,
   "metadata": {},
   "outputs": [],
   "source": [
    "## How many key/value pairs are there in the last dictionary\n"
   ]
  },
  {
   "cell_type": "code",
   "execution_count": null,
   "metadata": {},
   "outputs": [],
   "source": [
    "## Add one more key/value pair to the first item in the dictionary\n",
    "## Add: \"deaths\": 5_563\n"
   ]
  },
  {
   "cell_type": "code",
   "execution_count": null,
   "metadata": {},
   "outputs": [],
   "source": [
    "## Show the 2nd item in the list (including keys and values)\n"
   ]
  },
  {
   "cell_type": "code",
   "execution_count": null,
   "metadata": {},
   "outputs": [],
   "source": [
    "##show the 3rd through last:\n"
   ]
  },
  {
   "cell_type": "code",
   "execution_count": null,
   "metadata": {},
   "outputs": [],
   "source": [
    "## Go full circle and create a list that holds just the column headers.\n",
    "## Call that list \"csv_columns\"\n",
    "## print the list\n"
   ]
  },
  {
   "cell_type": "markdown",
   "metadata": {},
   "source": [
    "### Removing items from a dictionary\n",
    "We realize the first item in the list of dictionaries is the only one with \"deaths\" key. "
   ]
  },
  {
   "cell_type": "code",
   "execution_count": null,
   "metadata": {},
   "outputs": [],
   "source": [
    "## Remove that single key/value pair prior to the next task.\n"
   ]
  },
  {
   "cell_type": "code",
   "execution_count": null,
   "metadata": {},
   "outputs": [],
   "source": [
    "## Create the column headers again\n",
    "## Call that list \"csv_columns\"\n",
    "## print the list\n"
   ]
  },
  {
   "cell_type": "markdown",
   "metadata": {},
   "source": [
    "## Use the following dictionary for the next few exercises:\n"
   ]
  },
  {
   "cell_type": "code",
   "execution_count": null,
   "metadata": {},
   "outputs": [],
   "source": [
    "NY_covid_cases = {'date': '4/7/20', 'state': 'New York', 'fips': 36, 'cases': 140081, \"deahts\": 5_563 }"
   ]
  },
  {
   "cell_type": "code",
   "execution_count": null,
   "metadata": {},
   "outputs": [],
   "source": [
    "## print the dictionary\n"
   ]
  },
  {
   "cell_type": "code",
   "execution_count": null,
   "metadata": {},
   "outputs": [],
   "source": [
    "## Place all the keys in a list called keys_list\n"
   ]
  },
  {
   "cell_type": "code",
   "execution_count": null,
   "metadata": {},
   "outputs": [],
   "source": [
    "##  Place all the values in a list called values_list:\n"
   ]
  },
  {
   "cell_type": "markdown",
   "metadata": {},
   "source": [
    "## Loops"
   ]
  },
  {
   "cell_type": "code",
   "execution_count": null,
   "metadata": {},
   "outputs": [],
   "source": [
    "## Build a counter that counts from 1 to 27, but only odd numbers.\n",
    "## Print the counter numbers in statement that reads:\n",
    "## \"The odd number is [whatever the even number is]\".\n",
    "## Once it reaches 27, it should print \"Done counting from 1 to 27 odd numbers!\"\n",
    "\n"
   ]
  },
  {
   "cell_type": "code",
   "execution_count": null,
   "metadata": {},
   "outputs": [],
   "source": [
    "## You have a glossary of covid-related terms in a list:\n",
    "\n",
    "covid_glossary = ['COVID-19',\n",
    " 'Case fatality rate (CFR)',\n",
    " 'Close contact',\n",
    " 'Community transmission/spread',\n",
    " 'Contact tracing',\n",
    " 'Cordon sanitaire',\n",
    " 'Coronavirus',\n",
    " 'Drive through testing',\n",
    " 'Droplet transmission/spread',\n",
    " 'Elective surgeries',\n",
    " 'Epidemic',\n",
    " 'Essential activities',\n",
    " 'Essential government functions',\n",
    " 'Flattening the curve',\n",
    " 'Fomite',\n",
    " 'Home isolation',\n",
    " 'Isolation',\n",
    " 'N95 respirator (face mask)',\n",
    " 'Negative-pressure rooms',\n",
    " 'Pandemic',\n",
    " 'Quarantine',\n",
    " 'R0 / reproductive rate',\n",
    " 'SARS-CoV-2',\n",
    " 'Self-quarantine',\n",
    " 'Shelter in place',\n",
    " 'Social distancing',\n",
    " 'Ventilator',\n",
    " 'Viral shedding']"
   ]
  },
  {
   "cell_type": "code",
   "execution_count": null,
   "metadata": {},
   "outputs": [],
   "source": [
    "## use a for loop to turn lowercase all the terms.\n",
    "## save the lowercased terms in a list called lowercase_terms\n"
   ]
  },
  {
   "cell_type": "code",
   "execution_count": null,
   "metadata": {},
   "outputs": [],
   "source": [
    "## use List Comprehension instead to lowercase the list.\n",
    "## save the terms in a list called list_comprehension_glossary\n"
   ]
  }
 ],
 "metadata": {
  "kernelspec": {
   "display_name": "Python 3",
   "language": "python",
   "name": "python3"
  },
  "language_info": {
   "codemirror_mode": {
    "name": "ipython",
    "version": 3
   },
   "file_extension": ".py",
   "mimetype": "text/x-python",
   "name": "python",
   "nbconvert_exporter": "python",
   "pygments_lexer": "ipython3",
   "version": "3.7.4"
  }
 },
 "nbformat": 4,
 "nbformat_minor": 2
}
