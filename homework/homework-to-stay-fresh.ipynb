{
 "cells": [
  {
   "cell_type": "markdown",
   "metadata": {},
   "source": [
    "# Stay Fresh Exercises"
   ]
  },
  {
   "cell_type": "code",
   "execution_count": null,
   "metadata": {},
   "outputs": [],
   "source": [
    "## You have collected data on many companies the SEC suspended trading for between 2019 and 1995.\n",
    "## Below is an exercept of that data in lists:\n",
    "\n",
    "## Press release IDs. Press releases explain why the company was suspended\n",
    "release_IDs = ['34-82420', '34-82413', '34-82347', '34-82237', '34-82204', '34-82203', '34-82092', '34-81835', '34-81799', '34-81730', '34-81729', '34-81727', '34-81710', '34-81709', '34-81708', '34-81705', '34-81691', '34-81689', '34-81679', '34-81659']\n",
    "\n",
    "## Dates of suspension\n",
    "dates = ['Dec. 28, 2017', 'Dec. 27, 2017', 'Dec. 18, 2017', 'Dec. 7, 2017', 'Dec. 4, 2017', 'Dec. 1, 2017', 'Nov. 15, 2017', 'Oct. 5, 2017', 'Oct. 2, 2017', 'Sep. 26, 2017', 'Sep. 26, 2017', 'Sep. 26, 2017', 'Sep. 25, 2017', 'Sep. 25, 2017', 'Sep. 25, 2017', 'Sep. 25, 2017', 'Sep. 22, 2017', 'Sep. 22, 2017', 'Sep. 21, 2017', 'Sep. 19, 2017']\n",
    "\n",
    "## Names of the companies suspended\n",
    "companies = ['Abakan, Inc., et al.', 'American Nano Silicon Technologies, Inc., et al.', 'The Crypto Company', 'Global Future City Holding, Inc.', 'Atlas Technology International, Inc.', 'Caleminder, Inc.', 'Alamo Energy Corp.', 'Stevva Corp.', 'NanoSave Technologies, Inc.', 'Guardian 8 Holdings, et al.', 'Hydrogen Future Corporation, et al.', 'Next Galaxy Corp., et al.', 'Icon Vapor, Inc., et al.', 'HydroPhi Technologies Group, Inc., et al.', 'KollagenX Corp., et al.', 'IN Media Corporation, et al.', 'IMK Group, Inc., et al.', 'Hampshire Group, Limited, United Mortgage Trust, Zoom Companies, Inc.', 'Grupo Resilient International Inc. (f/k/a Paradise Ridge Hydrocarbons, Inc.)', 'Immunoclin Corp., Intelligent Living America, Inc., Ivanhoe Energy, Inc.']\n",
    "\n",
    "## links to PDFs of releases\n",
    "pdf_links = ['litigation/suspensions/2017/34-82420.pdf', 'litigation/suspensions/2017/34-82413.pdf', 'litigation/suspensions/2017/34-82347.pdf', 'litigation/suspensions/2017/34-82237.pdf', 'litigation/suspensions/2017/34-82204.pdf', 'litigation/suspensions/2017/34-82203.pdf', 'litigation/suspensions/2017/34-82092.pdf', 'litigation/suspensions/2017/34-81835.pdf', 'litigation/suspensions/2017/34-81799.pdf', 'litigation/suspensions/2017/34-81730.pdf', 'litigation/suspensions/2017/34-81729.pdf', 'litigation/suspensions/2017/34-81727.pdf', 'litigation/suspensions/2017/34-81710.pdf', 'litigation/suspensions/2017/34-81709.pdf', 'litigation/suspensions/2017/34-81708.pdf', 'litigation/suspensions/2017/34-81705.pdf', 'litigation/suspensions/2017/34-81691.pdf', 'litigation/suspensions/2017/34-81689.pdf', 'litigation/suspensions/2017/34-81679.pdf', 'litigation/suspensions/2017/34-81659.pdf']"
   ]
  },
  {
   "cell_type": "code",
   "execution_count": 1,
   "metadata": {},
   "outputs": [],
   "source": [
    "## Your scrape does not contain the full link. \n",
    "## It is missing the root \"https://www.sec.gov/\"\n",
    "## You will have to download the PDFs and need the full link.\n",
    "## Add the root url to the each item in the pdf_links list:\n",
    "\n"
   ]
  },
  {
   "cell_type": "code",
   "execution_count": null,
   "metadata": {},
   "outputs": [],
   "source": [
    "## To prepare your data for export to a CSV file, create a list of dictionaries.\n",
    "## It should look like this:\n",
    "# [{\"company_name\": \"Acme Inc.\", \"suspense_date\": \"May 28, 1999\", \"release_ID\": \"xx-yyyy\", \"pdf_links\": 'http://www.example.com/page1'},\n",
    "# {\"company_name\": \"My Corp Inc.\", \"suspense_date\": \"June 28, 1998\", \"release_ID\": \"xy-yyxx\", \"pdf_links\": 'http://www.example.com/page2'}\n",
    "# ]\n",
    "\n"
   ]
  },
  {
   "cell_type": "code",
   "execution_count": 5,
   "metadata": {},
   "outputs": [],
   "source": [
    "## use List Comprehension to square all the numbers in myNumbers\n",
    "## place in a list called squaredNumbers:\n",
    "\n",
    "myNumbers = [\"4\", \"12.\", \"3\", \"6\"]"
   ]
  },
  {
   "cell_type": "code",
   "execution_count": 12,
   "metadata": {},
   "outputs": [],
   "source": [
    "## Now create a **function** that squares any list and **returns** the values a list\n",
    "\n",
    "        "
   ]
  },
  {
   "cell_type": "code",
   "execution_count": null,
   "metadata": {},
   "outputs": [],
   "source": [
    "## Try your function on the following list\n",
    "## store the returned list in a variable called \"my_list1\"\n",
    "some_numbers= [5, 6, 7, 8, 9, 10]\n"
   ]
  },
  {
   "cell_type": "code",
   "execution_count": null,
   "metadata": {},
   "outputs": [],
   "source": [
    "## Try your function on another  list\n",
    "## store the returned list in a variable called \"my_list2\"\n",
    "some_numbers= [11, 12, 13, 14]"
   ]
  }
 ],
 "metadata": {
  "kernelspec": {
   "display_name": "Python 3",
   "language": "python",
   "name": "python3"
  },
  "language_info": {
   "codemirror_mode": {
    "name": "ipython",
    "version": 3
   },
   "file_extension": ".py",
   "mimetype": "text/x-python",
   "name": "python",
   "nbconvert_exporter": "python",
   "pygments_lexer": "ipython3",
   "version": "3.7.4"
  }
 },
 "nbformat": 4,
 "nbformat_minor": 2
}
