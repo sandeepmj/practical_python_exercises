{
 "cells": [
  {
   "cell_type": "markdown",
   "metadata": {},
   "source": [
    "# Homework for Week 4"
   ]
  },
  {
   "cell_type": "markdown",
   "metadata": {},
   "source": [
    "## Weather in Asian Capital Cities\n",
    "\n",
    "#### Each column from the site below was scraped and placed into lists.\n",
    "<img src=\"../support_files/site-scraped.png\" style=\"width: 100%;\">\n",
    "\n",
    "### The resulting lists:"
   ]
  },
  {
   "cell_type": "code",
   "execution_count": null,
   "metadata": {},
   "outputs": [],
   "source": [
    "## (temps_f is the temperature in fahrenheits)\n",
    "asian_caps = ['Amman', 'Ankara', 'Ashgabat', 'Baghdad', 'Baku', 'Bandar Seri Begawan', 'Bangkok', 'Beijing', 'Beirut', 'Bishkek', 'Damascus', 'Doha', 'Dushanbe', 'Hanoi', 'Islamabad', 'Jakarta', 'Jerusalem', 'Kathmandu', 'Kuala Lumpur', 'Kuwait City', 'Muscat', 'New Delhi', 'Nicosia', 'North Nicosia', 'Nursultan', 'Phnom Penh', 'Pyongyang', 'Riyadh', 'Seoul', 'Singapore', 'Sri Jayawardenepura Kotte', 'Taipei', 'Tashkent', 'Tbilisi', 'Tehran', 'Thimphu', 'Tokyo', 'Ulaanbaatar', 'Vientiane', 'Yerevan']\n",
    "asian_countries = ['Jordan', 'Turkey', 'Turkmenistan', 'Iraq', 'Azerbaijan', 'Brunei', 'Thailand', 'China', 'Lebanon', 'Kyrgyzstan', 'Syria', 'Qatar', 'Tajikistan', 'Vietnam', 'Pakistan', 'Indonesia', 'Israel', 'Nepal', 'Malaysia', 'Kuwait', 'Oman', 'India', 'Cyprus', 'Cyprus', 'Kazakstan', 'Cambodia', 'North-Korea', 'Saudi-Arabia', 'South-Korea', 'Singapore', 'Sri-Lanka', 'Taiwan', 'Uzbekistan', 'Georgia', 'Iran', 'Bhutan', 'Japan', 'Mongolia', 'Laos', 'Armenia']\n",
    "times = ['Mon 9:00 pm', 'Mon 10:00 pm', 'Tue 12:00 midnight', 'Mon 10:00 pm', 'Mon 11:00 pm', 'Tue 3:00 am', 'Tue 2:00 am', 'Tue 3:00 am', 'Mon 9:00 pm', 'Tue 1:00 am', 'Mon 9:00 pm', 'Mon 10:00 pm', 'Tue 12:00 midnight', 'Tue 2:00 am', 'Tue 12:00 midnight', 'Tue 2:00 am', 'Mon 9:00 pm', 'Tue 12:45 am', 'Tue 3:00 am', 'Mon 10:00 pm', 'Mon 11:00 pm', 'Tue 12:30 am', 'Mon 9:00 pm', 'Mon 9:00 pm', 'Tue 1:00 am', 'Tue 2:00 am', 'Tue 4:00 am', 'Mon 10:00 pm', 'Tue 4:00 am', 'Tue 3:00 am', 'Tue 12:30 am', 'Tue 3:00 am', 'Tue 12:00 midnight', 'Mon 11:00 pm', 'Mon 10:30 pm', 'Tue 1:00 am', 'Tue 4:00 am', 'Tue 3:00 am', 'Tue 2:00 am', 'Mon 11:00 pm']\n",
    "temps_f = ['50', '37', '45', '54', '45', '81', '82', '35', '57', '30', '46', '68', '46', '61', '73', '79', '57', '52', '81', '68', '72', '58', '65', '65', '7', '79', '17', '73', '19', '81', '86', '52', '39', '40', '43', '27', '43', '-6', '70', '26']\n",
    "conditions = ['Clear. Cool.', 'Clear. Chilly.', 'Overcast. Quite cool.', 'Clear. Cool.', 'Clear. Quite cool.', 'Partly cloudy. Warm.', 'Fog. Warm.', 'Clear. Chilly.', 'Passing clouds. Cool.', 'Overcast. Chilly.', 'Clear. Cool.', 'Clear. Mild.', 'Overcast. Cool.', 'Passing clouds. Refreshingly cool.', 'Scattered clouds. Mild.', 'Overcast. Warm.', 'Clear. Cool.', 'Fog. Cool.', 'Passing clouds. Warm.', 'Clear. Mild.', 'Clear. Mild.', 'Clear. Cool.', 'Passing clouds. Mild.', 'Passing clouds. Mild.', 'Light snow. Mostly cloudy. Frigid.', 'Passing clouds. Warm.', 'Clear. Cold.', 'Clear. Mild.', 'Clear. Cold.', 'Passing clouds. Warm.', 'Passing clouds. Warm.', 'Passing clouds. Cool.', 'Sprinkles. Overcast. Chilly.', 'Overcast. Quite cool.', 'Passing clouds. Quite cool.', 'Passing clouds. Chilly.', 'Quite cool.', 'Clear. Frigid.', 'Fog. Mild.', 'Fog. Chilly.']"
   ]
  },
  {
   "cell_type": "code",
   "execution_count": null,
   "metadata": {},
   "outputs": [],
   "source": [
    "## print out each list to see what you have\n"
   ]
  },
  {
   "cell_type": "code",
   "execution_count": null,
   "metadata": {},
   "outputs": [],
   "source": [
    "## Use a for loop to convert all temperatures from fahrenheit to celsius. \n",
    "## store results in a new list called temps_c.\n",
    "## The numbers stored in the temps_c list must have NO decimal places\n"
   ]
  },
  {
   "cell_type": "markdown",
   "metadata": {},
   "source": [
    "### Do the same thing as above but use **List Comprehension**"
   ]
  },
  {
   "cell_type": "code",
   "execution_count": null,
   "metadata": {},
   "outputs": [],
   "source": [
    "## Call the list temps_celsius\n",
    "## Remember to round so there are no decimal places.\n"
   ]
  },
  {
   "cell_type": "code",
   "execution_count": null,
   "metadata": {},
   "outputs": [],
   "source": [
    "## Print each Asian country with its relevant data.\n",
    "## Print in the following format:\n",
    "## Country, City, Temperature in celsius like 23°C, Time, Conditions. For example:\n",
    "## Jordan, Amman, 10°C, Mon 9:00 pm, Clear. Cool.\n"
   ]
  },
  {
   "cell_type": "code",
   "execution_count": null,
   "metadata": {},
   "outputs": [],
   "source": [
    "## Instead of just printing, place each country's data into a dictionary\n",
    "## Plade each dict into a list of dictionaries called asian_cap_temps = []\n",
    "\n"
   ]
  },
  {
   "cell_type": "code",
   "execution_count": null,
   "metadata": {},
   "outputs": [],
   "source": [
    "## Write a for loop to traverse the dictionary you just created to \n",
    "## print out each country and its capital in the following format:\n",
    "## Jordan ---> Amman\n"
   ]
  },
  {
   "cell_type": "code",
   "execution_count": null,
   "metadata": {},
   "outputs": [],
   "source": [
    "## Below the the generator to create a list of 10 random numbers anywhere from -10 to 10\n",
    "## Run this cell to create that list of numbers\n",
    "## Rerun it later to test the code you build\n",
    "import random\n",
    "numbers = random.sample(range(-5, 5), 10)\n",
    "numbers"
   ]
  },
  {
   "cell_type": "code",
   "execution_count": null,
   "metadata": {},
   "outputs": [],
   "source": [
    "## Write statement with the following conditions:\n",
    "## if there is a zero in the list, prints \"There is at least one zero in this list\"\n",
    "## if there is not a single zero in the list, prints \"There are no zeros in this list\"\n"
   ]
  },
  {
   "cell_type": "code",
   "execution_count": null,
   "metadata": {},
   "outputs": [],
   "source": [
    "## In class we built a conditional statement that\n",
    "## tells us if the last number and the penultimate number\n",
    "## are positive or negative.\n",
    "## print a sentence that reads:\n",
    "## Here it is:\n",
    "if numbers[-2] > 0:\n",
    "    penultimate_status = \"positive\"\n",
    "    \n",
    "else: penultimate_status = \"negative\"\n",
    "        \n",
    "if numbers[-1] > 0:\n",
    "    last_status = \"positive\"\n",
    "else: last_status = \"negative\"\n",
    "        \n",
    "print(f\"The last number ({numbers[-1]}) is {last_status} while \\\n",
    "the second to last number({numbers[-2]}) is {penultimate_status}\")"
   ]
  },
  {
   "cell_type": "code",
   "execution_count": null,
   "metadata": {},
   "outputs": [],
   "source": [
    "## Tweak the code in case at least one of the two last numbers hold zero(s) \n"
   ]
  },
  {
   "cell_type": "markdown",
   "metadata": {},
   "source": [
    "## Challenge (only because this is convoluted)"
   ]
  },
  {
   "cell_type": "code",
   "execution_count": null,
   "metadata": {},
   "outputs": [],
   "source": [
    "## Write a conditional statement that takes the previous variables and determines\n",
    "## the direction of the flow.\n",
    "## For example, is the flow going to positive to negative? Or from negative to positive?\n",
    "## Or staying negative to negative, etc.\n",
    "## Use the following phrases to describe the directions:\n",
    "## \"remained positive\" , \"turned positive\" , \"remained negative\" , \"fell to negative territory\"\n",
    "## \"dropped from positive to zero\" , \"stayed flat at zero\", \"rose from negative territory to zero\"\n",
    "## fell from zero to negative territory\n",
    "## For example \"The flow fell from zero to negative territory: 0 to -5\"\n"
   ]
  }
 ],
 "metadata": {
  "kernelspec": {
   "display_name": "Python 3",
   "language": "python",
   "name": "python3"
  },
  "language_info": {
   "codemirror_mode": {
    "name": "ipython",
    "version": 3
   },
   "file_extension": ".py",
   "mimetype": "text/x-python",
   "name": "python",
   "nbconvert_exporter": "python",
   "pygments_lexer": "ipython3",
   "version": "3.7.4"
  }
 },
 "nbformat": 4,
 "nbformat_minor": 2
}
